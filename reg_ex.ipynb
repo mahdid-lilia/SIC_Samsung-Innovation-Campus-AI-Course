{
  "cells": [
    {
      "cell_type": "markdown",
      "metadata": {
        "id": "view-in-github",
        "colab_type": "text"
      },
      "source": [
        "<a href=\"https://colab.research.google.com/github/mahdid-lilia/SIC_Samsung-Innovation-Campus-AI-Course/blob/main/reg_ex.ipynb\" target=\"_parent\"><img src=\"https://colab.research.google.com/assets/colab-badge.svg\" alt=\"Open In Colab\"/></a>"
      ]
    },
    {
      "cell_type": "markdown",
      "metadata": {
        "id": "ECDROzrWS2RC"
      },
      "source": [
        "## Coding Exercise #0501"
      ]
    },
    {
      "cell_type": "markdown",
      "metadata": {
        "id": "H9D3f0H3S2RH"
      },
      "source": [
        "### 1. String functions:"
      ]
    },
    {
      "cell_type": "code",
      "execution_count": 4,
      "metadata": {
        "colab": {
          "base_uri": "https://localhost:8080/",
          "height": 35
        },
        "id": "CqQfiWeYS2RI",
        "outputId": "d5eca7f6-56df-4845-a554-7992e62731a2"
      },
      "outputs": [
        {
          "output_type": "execute_result",
          "data": {
            "text/plain": [
              "'hello! how are you?'"
            ],
            "application/vnd.google.colaboratory.intrinsic+json": {
              "type": "string"
            }
          },
          "metadata": {},
          "execution_count": 4
        }
      ],
      "source": [
        "# To lowercase.\n",
        "\"HELLO! HOW ARE YOU?\".lower()"
      ]
    },
    {
      "cell_type": "code",
      "execution_count": 5,
      "metadata": {
        "colab": {
          "base_uri": "https://localhost:8080/",
          "height": 35
        },
        "id": "wtNPYnpsS2RK",
        "outputId": "5aec2b07-fcaa-44f9-f0dc-5b089527b377"
      },
      "outputs": [
        {
          "output_type": "execute_result",
          "data": {
            "text/plain": [
              "'THIS IS A WARNING!'"
            ],
            "application/vnd.google.colaboratory.intrinsic+json": {
              "type": "string"
            }
          },
          "metadata": {},
          "execution_count": 5
        }
      ],
      "source": [
        "# To uppercase.\n",
        "\"this is a warning!\".upper()"
      ]
    },
    {
      "cell_type": "code",
      "execution_count": 6,
      "metadata": {
        "id": "Gh_jjEgcS2RK"
      },
      "outputs": [],
      "source": [
        "# Split the string using a space as separator.\n",
        "x = \"Once uppon a time, there was a prince and a princess.\".split(\" \")"
      ]
    },
    {
      "cell_type": "code",
      "execution_count": 7,
      "metadata": {
        "colab": {
          "base_uri": "https://localhost:8080/"
        },
        "id": "kW0jHrVZS2RK",
        "outputId": "79768828-a60a-4a22-a34a-01c5731ed075"
      },
      "outputs": [
        {
          "output_type": "stream",
          "name": "stdout",
          "text": [
            "['Once', 'uppon', 'a', 'time,', 'there', 'was', 'a', 'prince', 'and', 'a', 'princess.']\n"
          ]
        }
      ],
      "source": [
        "print(x)"
      ]
    },
    {
      "cell_type": "code",
      "execution_count": 8,
      "metadata": {
        "colab": {
          "base_uri": "https://localhost:8080/",
          "height": 35
        },
        "id": "DfXxW_chS2RL",
        "outputId": "313de1ca-d99e-4706-a722-35c80765ecf3"
      },
      "outputs": [
        {
          "output_type": "execute_result",
          "data": {
            "text/plain": [
              "'Once uppon a time, there was a prince and a princess.'"
            ],
            "application/vnd.google.colaboratory.intrinsic+json": {
              "type": "string"
            }
          },
          "metadata": {},
          "execution_count": 8
        }
      ],
      "source": [
        "# Join the list of string objects using a space as separator.\n",
        "\" \".join(x)"
      ]
    },
    {
      "cell_type": "code",
      "execution_count": 9,
      "metadata": {
        "colab": {
          "base_uri": "https://localhost:8080/"
        },
        "id": "J62nlpucS2RM",
        "outputId": "53cc5790-b55f-47fc-e289-cbf7b7f769fe"
      },
      "outputs": [
        {
          "output_type": "stream",
          "name": "stdout",
          "text": [
            "53\n"
          ]
        }
      ],
      "source": [
        "# Measure the length of a string object.\n",
        "y = \"Once uppon a time, there was a prince and a princess.\"\n",
        "print(len(y))"
      ]
    },
    {
      "cell_type": "code",
      "execution_count": 10,
      "metadata": {
        "colab": {
          "base_uri": "https://localhost:8080/"
        },
        "id": "Z_mb_banS2RM",
        "outputId": "b2893cbe-6a74-4a85-bfa5-7c9072394d7f"
      },
      "outputs": [
        {
          "output_type": "execute_result",
          "data": {
            "text/plain": [
              "5"
            ]
          },
          "metadata": {},
          "execution_count": 10
        }
      ],
      "source": [
        "# Count the number of occurrences of 'a'.\n",
        "y.count('a')"
      ]
    },
    {
      "cell_type": "code",
      "execution_count": 11,
      "metadata": {
        "colab": {
          "base_uri": "https://localhost:8080/",
          "height": 35
        },
        "id": "caPMO6zKS2RN",
        "outputId": "bcd0cd84-84bb-4847-d97b-c03c686ea2ef"
      },
      "outputs": [
        {
          "output_type": "execute_result",
          "data": {
            "text/plain": [
              "'Once uppon'"
            ],
            "application/vnd.google.colaboratory.intrinsic+json": {
              "type": "string"
            }
          },
          "metadata": {},
          "execution_count": 11
        }
      ],
      "source": [
        "# Sub-string.\n",
        "y[0:10]"
      ]
    },
    {
      "cell_type": "markdown",
      "metadata": {
        "id": "n82K0wahS2RN"
      },
      "source": [
        "### 2. Regular expressions:"
      ]
    },
    {
      "cell_type": "code",
      "execution_count": 12,
      "metadata": {
        "id": "K4qX4UiOS2RO"
      },
      "outputs": [],
      "source": [
        "import re "
      ]
    },
    {
      "cell_type": "markdown",
      "metadata": {
        "id": "d3jYoivgS2RO"
      },
      "source": [
        "#### 2.1. Metacharacter: Dot "
      ]
    },
    {
      "cell_type": "markdown",
      "source": [
        "Dot matches with any character."
      ],
      "metadata": {
        "id": "r4PXUrwdsDvA"
      }
    },
    {
      "cell_type": "markdown",
      "source": [
        "![reg14.png](data:image/png;base64,iVBORw0KGgoAAAANSUhEUgAAA6oAAACaCAYAAACg7rUuAAAAAXNSR0IArs4c6QAAAARnQU1BAACxjwv8YQUAAAAJcEhZcwAADsMAAA7DAcdvqGQAAHiQSURBVHhe7d0JXFRV+8DxHzuyuCGLirsCgvu+lJpavllmWbZqmVpvWVaaVmpWvmmm5t/cMvd9SXNJ03LfBRFEUUFQRBZFBGTfBmbu/w4MCgQ6mBnq8/UzxZy5M3PvOc8595x7z71joqgw0pSffcjI1hmeCZFPp9WSmZmFrZ2tIUWIey89LZ0KFawxNTMzpIjyLDcnl5wcDRVsbAwpQgghhHiY1XS04N3X2xqe/X1lGqiGhIQY/hLilpycHJKSknB0dDSkCHHvxcXFUblyZSwsLAwpojzLysoiIyODqlWrGlKEEEII8bBzd3c3/PX3mRr+L4QQQgghhBBClAsyUBVCCCGEEEIIUa7IQFUIIYQQQgghRLkiA1UhhBBCCCGEEOWKDFSFEEIIIYQQQpQrMlAVQgghhBBCCFGuPNQ/T6NLO8fOzX5cL/LTryaYmltiW6UmHm3a4+lkaUi/V9IJ+nMTJ2JL+71ZE2zdn+KFDi48LL8G+Sj9PE1O3DkO7D5IwMUYkjVm2DnVo0mH7nRvV4sivyKbdY3oFAdcnUr7KRUtkYc3cDCpMc8+05wqcsjojv6Nn6fR3Qjg9+2BJCq2uD/1Ah1c/lprNRf3seFoFLpqrRj4TFNDqhHuGCOFaYk4tJ5DKV706d2MyqXGSzrhh7ex40gwV9O0VHCoT/Mez/Kf5k7c7x/1kZ+nEeKfkR70J5tOxFJqL8PWnade6EAJzVWZacP3s+5IFi2e74WX/f3eUWVxLToFB1d9+yX7TCEeFPLzNEZS0kI5uGkTfxw5xblz5wyPs5w+cYDNS35gzPDRLPJPLrWxvyu6DC4e3symHYc5dfM7Cz+CuHAt3bCweJBowjYzYeSXLNwfBQ51aFDPGat4H9Z8N5LP5vqQUBBIWSdZOGIEi05mGBJKouWq3+9s3nuOJKMPFYn7TUkKYs+mjWz8dTXr9kWqpVZcJgHbl7N+40Y27T9vSDOCUTFSmJYrvlvZvC+YlFLjJYNzK7/kix9+5WSKPTVrOWMSsZfFX49m8h/RJay7EOLBoyPj4mE2b9rB4VMl9THOEXThGveql5Eb6cOWzQcITb/fO6osTi4cwYhFJ9WWTU/2mUI8ih6BY1Km1OqldtSmTmWq4fHDjz+zZM6ndK0YwfYlW7iQY1j0HjJ1fYqRk299563H94x5vsFDczb1kaFL5sgv6zln/zRfzpjMZx8MZfCQ9xn5v5lMHtiQhD2L2XjOEEi58VyNzeb2+1JLOoxYxaYfX6eeBEM5Z0n1GlWI8vUmsvhoL+MURwOsqVG9jE2pUTFSNrq4/azbGo5991FMnzSKYe8NZ9wPU3ineQ4n123EL8uwoBDiwWfqylMjJ5fQx5jK92Oep8EDv1/JJf5qLNk3G0nZZwrxKDL7RmX4+44SEhIMfz0YlLTz7Nt+GqXZM/T0tC8yKjezq0Gl64fYG5BN/ae70aiCSV56TlwgO39ZzbqNv7PX+xxXc6tSr44DVvkvq3Skhh3g11Vr+HXbPvzCs6jikIrP776k1XSjRoVMQvb/zqncJjz9pBeVSuu/6hII2LaR3afTcfCoRcW85bTE+f3Gxr0X0Lk2orrNzS8t13Q6Xd40P1vbIpNfHy66KI5s+IOwmr15u0c9dZdZwIzKte1ICokiy6UlbZ2j2P3LLnzPXyVVl0NSqjnNG2RxcN0OLquxc/rXJazbdYrEKg2xCd3KtkAttRu5UEEXwaFfthNuU510n7UsX72JPw6fIipbjb961bA2hIIuNYwDv65iza/b2OcXTlYVB1J9fsc3rSYeNWzyF3pI6aeRWltbY2Z2/3opSuIZdu66gGv3zuT4BWLW/kmaFppzlu77C0suNqCT00VCNU159Smv/Bdy4ji7ZwvrN25i6/ad7PMO5HKqLa4NnLHNOs+u4jHi5pL/ttjT/Ll+Des3/84e7yBiTVyoX7ty3rS3qGNbOJbqRqeaUWxdvppNfxzmVFQ2VerVo5oaILqEK4Qn2dCqT1+aVzPkkZkd1dJPse14Gg2fegIP2/vXpuTm5uZdFlChQgVDihDi71PICNnP76dyafL0k3iV3skgIWAbG3efJt3Bg1r5nQy0cX78tnEvF3SuNHKK47C637lk7UTSweUsXbuN/f7hpFWsQwMnm7w+kzbiCJuOZ9H0mR40ttOn5BB3dg9b1m9k09bt7NznTeDlVGxdG+Bsm/cOIg79wvZwG6qn+7C2UFtV1dBW5bldG2mawfldv7DL9zxXU3XkJKViXrseGr8NbC3YZ+Z9jIYYv62sXb2ezTv24RN0ldyqdanjYEXey1rj9qtCiHurWrVqhr/+vtJauIefLoXomBQUKzvsrAwN+JVdTPvsa5YcvY51jTpUt4hmz9yxjFnkR7JhWmfG2ZWMHzOTbcE5ONRwQHNmNRO+nsmajbs5d6MM50dMq1C7Ugz71sxmwc6redPytLH7WDBzBfuuVaa2XIBRvphVp15dO7JP/sq83/yITC10as2uA0MnTWb4E46Y5t7gcsgVUhWF1CvnCQqPU3vsURzf+isLp8xkd6I9DiZxJGRbqDvYQtOYtFfw3bqRNTPG8/22SCxcXKmacZatc79m2vYrefGhBh8rx49h5rZgchxq4KA5w+oJXzNzzUZ2n7uhX0L8Q8zqdaBttSh8vQtP/03j5NFAKrXtgGvhsbMugUMzP2P8wgPEWFSnfqM6VMkMZsfCCXz3SxjakmJElROxjW9Hfc3SY/HYqO2PoyaIzT+M4bvfIm5+py5mO99P2UqkVQ1qO2YTvG0u30z7nSvqAma1n2Do6I95rlGhq1G11/DxC0dxrEeD0i9sFUI8dEypUrsSMfvWMHvBTq7qGxFtLPsWzGTFvmtUrl0F07z9zq/qfucbpv4eiaWzE+ZXDrBo/BfMOpJQwmVR6uD30Ew+G7+QAzEWVK/fiDpVMgnesZAJ3/1CWF5DlX+ZwsY1Mxj//TYiLVxwrZrB2a1z+Xra9ry26o5tJLncuBzClVQFJfUK54PCicvOLTb1N5sLv37DqIlr8EuuiGsttT8W8jszx4zh5+OJ+etuzH5VCFGuPRJnVDOc6uFilkhMTIz6uEr0pbMc2byEX44lUO3JwQzqWB1LXTKH533H5vTufPnDZ7z4WBvadu5OZ6dL/L7mIFktnqJFlevsmDWTIxWeZ8L3H/Ns5/Z06dGOCmd2cjy2Ap5PPk3zqvlnVANi1aY2JZrg06c5Xfhx5gpmdRvibG2KTe3GVLu6ny17InDs1IhLi6azNaU9H415GfcH5Gyq3iNxRhVLajZ0ISXwIPv27mH7b7+z3/ccF68korGqRnVHW8z1i1nVonVHS87+dpKqA2Yw8Q1PdWcZydHNR4mo+ypTvn6LHl2foFUNE6J9fuNociN69WpKFSWKY1sOc962J9/8MJI+HdvQ8Ylm5Pru4NB1F556oiHJf8xi5pEKPD/hez5+tjPtu/SgXYUz7DweSwXPJ+nd3CFvTR9W/94Z1RAqdn6b7pZH+O2UGe2fVMtLP+ZL9Wbt0nA83uhHxbNbOJGdf0ZVl3ScTb+cotJL3zLh7Sdo3bINnbq1xfz0dg7H16Tnf3rSpVOxGCGVI/O/Z2tSZ0apg9OXH2+jlm9nXKL3sPVwGm69W6M9voUj4VXo9dUPfPpcR1p36EpznR/bD8RRs9etWSE35Vxh/6xvWeBvw5PDP+Tp2hXyzzLcJ3JGVYh/guGMakAs2twUooOL9TFOn+GKWV0aOltjalObxtWusn/LHiIcO9Ho0iKmb02h/UdqG+Nug4lWv985wnmTVnw8ZRyvdevA491bYx28g63Hc2jRqyVVogqdUbVJ4fimXzhV6SW+nfA2T7RuSZtO3Whrfprth+Op2fMJ3G11ebM/Dp+3pec3PzCyT0fadHyCZrm+7Dh0HZennqCRxvf2baS67/No0xHLs79xsuoAZkx8A087pcg+s2LcTmZO34W25zimje5H57Yd6Kauu+U5dTB7JB2vp9rgbHKn/ao7D1BXS4gHhpxRLRMtkbtm8b8JE5iQ9/gfE6fOY8s5c1q++gXfDG6Zf7dWzTlOnMmgSr2a5FwIwN/fX32cIrKCKzVMYwg8dRVd6mkCQrW4PfG02hjnfThYuNKzV2vsDU8LKJmxXAwqeoODvEfQJeI1hoVMq9Jp8Dt0tfRj8ZgxLPa3ovu7g+kgZ1PLJTOnTrz3w8/MGPsOL3bzxD7tPIe2LGX6F+/z4bebOZ9mWLBEpji7N8bhtmMsdZmWHWhY0K83q0FdV2s1ltJJ06ZyOiAUrdsTPH0r+HDt2YvWxYNP/AMscFc7OdWifPE2XKia4neUs1Xa0qFu0UI1rfIEIxcs4399a2Kmtj+ZidGc9w/kSqbaLuTmkFPSxAvNeU6fy8Cp45O0Laj/plXoNGQiM6YMooVhrrmpcys63Sx/M6rX1d9tOpWk4ndY0iVx/Of/MdvHgidGfs277ao8wtNnhHgIKZnEXgz6ax/jXBCXbnUyqNppMO90tcRv8RjGLPbHqvu7DO5QuD0wxbXbc3RyNLRjlnXo2bMZVtfOcCrv9Gchapv0xMgFLPtfX2qqi2szE4k+709gfuNGTqHGzdS5JR1u7cyoUdcVa3Wd09OUu2sji8k4c5Lzmno88Wxzw6VTKut6PP1Ma2ziTuEXXnDzkdvsV434HiHEv+sR6LuY4f7mz2zeupUtG1fx48jeNLSzxrFZb157qR0uhllyutQEEjO1xB1ZyMSbg1r18d0GzmkUUpKSUBJvkKS1pHKVikUyzsLB4S8/F1HqzZQmD+cJx0K7iCrtefOVlugSbkDzF3m9XeVHoVAeXGaVqNehD299PJ7pC1ax8qcJvPd0PTL8V/DjurMUdA/+ygQbW9s7lG3xZUwwMzXV/4YUipLIjSQtlpWr3Nop61k44CBTOu8LC/eOtC6Y/qsOBE8cO0eVth2o/5fffdGRePY3Zn/5IYNe68+rbw3js+9X4HNd7fSV9mtgGrV800yo6uiotli3mFV1pa6T3c00Extb8i4DK6DGh6n6fUqxOXraqD/5ZX8KTQaN471OTkU+UwjxECj1ZkqGy1AMi+kHl+3ffIWWugRu0JwXX29XrL+iDuRq1CjSRlhVc6Aiapt0o4TJv4ln+W32l3w46DX6v/oWwz77nhU+19XhprqfMiyjV7ytMjFT2yoT/b5M/+wu2sgitCTdSCLX3BFnp6Ktm6WjM1VJJimx4HNus181pAghyq8izdXDztSiIvW7vcu4D9uRuW8Ok34u9JMiFuZqQ21G40Hz8wa1W4s8trDoveZ5DW8FkxwyMrINb8qny0gn425bPE0YO3edJdvMjOyzf7I9RG7NWR7lnP+VSWMms/li4SPMZti5tqT3fz/jFS8TYs+dyb8OqBQmf2eKkYkNthVMyMnIoEj06TJIv+vgE2Vi4U6n1g75d/9NPMGxc1Vp16H+XwaB2qitTP12Kd7p9XlywMeMmzyLpavnM9grb3J4ycwtsDRV0GTf6U7AJuq/O8uNjOQKdWnVWgapQjzaNITt3MXZbLWHk32WP7eHULyXoZ+iX4TaDmmwxsra8LyANoqtU79lqXc69Z8cwMfjJjNr6WrmD/bKv/TFSHfVRhZhgqWlBSbabLKLHR3WZWeq+0hLLCxkTq8QD4NHaqCazxSHTkN57ylHru2Zw0+7r6EfW5ja1qGOE1w+fYoiBxH117n+tpMTEemYVvXA3UXHBX8/Em8uk82Fk2cpy32Ubsni/C9z2XjJiWfHjKVP9Sh+m7eOoEzDy6LcMHOoQNZFX3YdPP+XnTyKFp0aD6a29uTfVNW4wUSZmFbFw90F3QV//G4FH9kXTnL27oJPlFn+9F+HKF92/36UIId2dKhffBioIznQjxBNXfp8/DFvPNOVdl51cTCPJkJ/FENR8m/yUTxGLGpTpwZcvXiB1ELtT8r+qQx99wf23DyiZhwLr5cY8+VgOld9BJt4IcRNWed/Ye7GSzg9O4axfaoT9ds81hXpZGiJDA01/FapXg6RwRdItq5Dw9pFp4vokgPxC9FQt8/HfPzGM3Rt50VdB3OiI/Q3hFT+MrOjZMa2kWorWeqO1JSqdWtTWQnn7JnC19xouXI2mHjTGtSuJYfohHgYPKK9GHtaD3yXp6qn47dyIXuvqY2jhTs9n3KH02v4cc1xolKzSb+mn+IyndnLthCYaq4u05CnX2iNqe9CJszcwN7DB9i26FumbovOa1gLt6lKRiznT+qvc/3r42TQ1bydQsbZNczdEkWNPu/zRru2vP7eM9S4spWf1pwttNMQ5YGpY1f6PelC7O8/MGnZHs5EJ5KVoyHlyln2LJ3Br+cr0rFXZxz0NcrCEgtzhaS4WNKLH+69axY0fPoFWpv6snDCTDbsPcyBbYv4duo2oosHn/jHWHh0pHXVCP787SzV2nXgL+NUtUm1rlSJCkosgd5BJGRpSLtymt9nz+GPK2pBabLzD3QUjxGzunTt4Ynit5Z524OIy8wk4fxOFq0/TmrVBriXcXp3xrVQzpw9Q3jCbU7xCyEeXEoGsedPltjH8D8ZxNX8TgZr5m4hqkYf3n+jHW1ff49nalxh609rOHuzk6Fw49ASftqhtjspNwg7sIg5v0fh1OU/tLMzLGJgal2JShUUYgO9CUrIQpN2hdO/z2bOH1fUPpCGbKMmhBnZRqr7PEsLc5SkOGLTs9EUa8osvJ6kZ910jiydxW9nrpORnUz4ocXM+i0cu3a9eLzQJVZCiAfXo1uT7Vox8J2nqJ7ux8pFe4nVmlGn70hGPFeLK5sn8cEb/Xnt3bEsDazA4//9jDeaWKlvMsO5x8eMG9Iei3ObmPt/c/n1rC1PPtsKW/U100KzVnRXdjP720LXuhZ6fPvzfq6lnGbVT78TU+t5hr3mhf46/wper/HeszWJ2f4Tq0+n53+QKCfsaPn213z2Ql3ids5h3LC3ePnFlxjw/jh+PqLQ/r3xDHvccIMKczdaeNpwecMo3hi2OO/d94KZcw8+HjeE9hbn2DT3/5j761lsn3yWVrbqa4WDT/xzLDzo2KYaOsWlxGm/ejbtX2ZgezsurB3H2y+/xOvDvmNbekeG9vPANDaMSylqZ+wvMWKG67Mf88kzVTm/9AuGvPIKb3/2M/7WPfjgo2cp28kBHZkXDrJ505+citcfxRBCPHR0V9g9+9sS+xgTvv2Z/ddSOL3qJ36PqcXzw17DK7+TwWvvPUvNmO38tPo0+b0MU2o0b0js6rEMGTCIET8eIqfNUEYPaslffpnbpj0vD2yP3YW1jHv7ZV56fRjfbUun49B+eJjGEnYpxbDg7RnVRmKOWwtPbC5vYNQbw1h8ttj0ZItG9B/9EU9VPs+ycUN5tf9APp5xAE3LQYz54HFkMokQDwcTRWX4+45CQkIMfz3ctKlXuRQRR4ZZZVzr18FBP0bV06UTG51CherVqVhoRkzanm8Z9FMWby38lj55p9QeLfrrW5KSknB0dDSkPORyUrgaEUVcug6rii7Uqu2IbfGBRE4SERciSDKpRvPGNQ2Jf4eO9NhoUipUp3rR4OPbQT+R9dZCJvV5uH+eJi4ujsqVK2Nh8Ze7F5VDap2ICiPyhha76vWoa/jx/CJKiZGcxCjCom+gs3Olfj0Hil8m9qDQ/2SV/ieFqlatakgRQpQrmmP88NYPXH3+R6Y8a8nl8BuYOtWhntPtb/yXk6S2UZE30Nrpf1/cCZu76vYY0Ubql4m4QESSCdUauFPTrqQvyv+c6CSwr1GXWg7Wt113IcQ/z93d3fDX3ycD1bLQRrP+s4/YbDuY6eOfpYa+v5x5iV8njmNNam+mzBhIo0fwsohHbqD6r9ASvf4zPtpsy+Dp43k2P/i49OtExq1JpfeUGQx8yIPvwRqoChmoClHOFRqoTnulttx4TQhxT9zLgaoceCoLsxr0eKEblYIW8ck7HzJy1Cf8d+goVl125YUhz9NAWnnxjzGjRo8X6FYpiEWfvMOHI0fxyX+HMmrVZVxfGMLzEnxCCCGEEOIhImdU70JmzGl8fIO5mqLFqlp9WnRoR8Mqj+5AQc6o3keZMZz28SX4agpaq2rUb9GBdg2rPBJHwuWM6oNFzqgKUc7pEgk/E062syceLg/qRQZCiPJGpv6KckUGquJ+kIHqg0UGqkIIIcSjR6b+CiGEEEIIIYR4aMlAVQghhBBCCCFEuSIDVSGEEEIIIYQQ5UqZrlH18/NDo9EYngmRT6fTodVq5dpB8Y/Stz3m5uaYmsrxtQeBtAtCCCHEo6VKlSo0btzY8OzvK9NAVd9RLMPi4hGRnp7OhQsXaNGihSFFiHvv1KlTNGrUCFtbW0OKKM9u3LjB9evX8fDwMKQIIYQQ4mGmP5lwLw9Ql2mgKkRJ0tLSCA4Opm3btoYUIe49X19fPD09sbOzM6SI8iw+Pp6YmBiaNm1qSBFCCCGEMJ7MoRNCCCGEEEIIUa7IQFUIIYQQQgghRLkiA1UhhBBCCCGEEOWKDFSFEEIIIYQQQpQrMlAVQgghhBBCCFGuyEBVCCGEEEIIIUS5IgNVIYQQQgghhBDligxUhRBCCCGEEEKUKzJQFUIIIYQQQghRrshAVQghhBBCCCFEufIID1QV4k9e4P/2ZaDNSGTFkgiCcg0vlVVuCluWBrPkZDY6Q1Jx2b5BvDTcj8WhN5gz7jBvLEtAY3hNPEh0JHgvZM72K2jTAlk7awPn7zZu/iKX0O2zmbHKh4RSAklzeDpvvj6ClUEnWfDB67wzx0/iqBzR3Yhj6aIgpm6/QYohragc/LcH853a3pxMMyQJUUCXgPfCOWy/oiUtcC2zNpxXW4U7M7pdyL3IjrkzWHEsrtR9lVEyogi7UvANd2637qfcizuYO2MFx+JKX5nc4C3MnPEL/qmGhBIUWSb3PL/NnMFav6S/l2/GyLjAtmkjGDJwIINGLCOwpIIsnP+5oWyfPYNVPgn//LqVICMqjJuhUJJ7FXP/qgyiwq4Yua8tX/WhdLlc3DGXGSuOcbOq3Kt6/a/FZy7BW2Yy4xd/blO1S1CW8hX326M7UM25wU9LU2jQyprwLcHsquyIu7nhtbLSprH71wusP5utDn9Lo5ByNYWrmQpKRiahMZoHuNF+hGkCWDQnhHodnYlYO4N9VTvS6G7j5i+0hO9bweLNJ0ksNZDUOIq6SEyGGkfpMVyMTr5NzIn7zbSyPdViopg9PYAfTuYYUm9J8T/PiP+7yO5MW9zsDIlCGGgCFjEnpB4dnSNYO2MfVTs2wrjmxch2QXuZAysXs9n/b3QaMw4zqV8/Jh8uONJiTLt1/2gvH2Dl4s3436Z3nXNhN0sWb+dsmpHL5Fxg99LFbDud+g+3t7lcWD6GMUv9yHT1wMOtJlXNDC8VKJ7/2nD2rVDL9GTifd8XZByeRL9+k7kZCiW5FzH3r8rg8KR+9Jt8GOOOLZav+lA6LZcPrFTX0z9/IHqv6vW/Gp85XNi9hMXbz3Kbql1MWctX3G+P8EA1ncvxWYSezyQ8OovkiETCtYbX/gFWberzWkNrnJ2q8mYfB1wdrGXe9YNIE0lkbDxhZ2KIiIgl5dIZIv7BuCnOsvNAXvJwxNGlBa+93IYajo6YGF4T5YCpNc8Ma8JzVdNYMTMEnwxDul5GHNNnhhNdtwFT3q6GjFNFcZrISGLjwzgTE0FEbAqXzkSo3cU7M7pdsOrJVJ+zbB7uYeQAuAS517gcnXnfB0XGsuo5FZ+zmxnucc+OIN5HWiIvX0Fp+CJffjuOL95/EtfiA9VylP+51y4TnXmHNbkXMfevyuXa5WjutJkPHit6TvXh7Obh5FWVexVX5bx9+KuHtXwfHmbfqAx/P1qykli/JJwAp5q0T41g0XETuverTj11p6C5Hs/adaHMWRfG0m1R7PBPIdHOnqbVLUoeXGpT2fHLVRIbV8c15AITl4Sx3ieZ5IoV8VLfo9/PZARcYH5yDT58XMe6VUl0eKUuzSo+HEMMjUZDfHw8NWvWNKQ8xDLPsGXWGgKr96J18q+sOGjB4wO7U9dMQ4zvRpbMW8Di5atZ/9suvM8nUbGBJ672BVFzp2W0hO1awq6kZnSvfpYF02axfMtBglMq4+bhip0aSBk+81mS1It3n9Swcf5Z2g5+Ba/Kj8YhjytXruCodsAtLS0NKeWTiY09baqlsVltO7x11XipjQ0W5OC94ATjT1Zg2ISWvFxDX2Y6rpy8zIzFIfy0KZI/TqehqVaJxtXMDIMMHdEnLjFdfX2u+vp2tR2Kt7TFy9XygejwZWRkkJaWhrOzsyFF3EnmmS3MWhNI9V6tSf51BQctHmdg97rqPuT2bYfR7YJ+Gua85XjnNqRpLSsubJ/L6vP21E7dxexps1m0bjvHLmbh7NEYlwol7J/SAlj/0wb2n7pMkjab+GQLOjarfrPdeqruRZZPn5X3Od7q5zgW+Rx1G3zWMXfmXBat2sTuExHkOHng5mxdysE2/dRD/frZ4pr4Jz9OncniX3YRcKMqns2cSTy0iB+mzWHZpgMEZ1WnqacL1uoH6af+zlvuTW7DptSy1X+yjqTgbSyYMYv5K7dyLNKcWtahbDqooeObz9PC3ohlrC+wY/FeMtsPoF+rSvn9AE0MPuvmMnPuIlZt2s2JiBycPNxw1q9EqbKJPLiC2TN/YvGazezxi1TzwE3NgwqYaKPZv3Qxvx3xJyxRQZt4mThrL5rUsDK8V1VS/ntls2vJLpKaPUXdi8uZPmsR67Z7czHLEY/GLtwqxrLmv0pzhaOr5vDj3IXqNu5UYy4Bq9qNqVvJXF2V9fy0YT+nLiehzY4n2aIRnhl7mbs2RN2VebPg+zmsPxaPYxNbApevMMScLdrQ7cxdfR772qnsmj2N2YvWsf3YRbKcPWjsouaD4at1SUFsXTCD2fNXsvnAeTIdnUnes5K9yfVoWaeEw3z6KaZzV3Pe1pXEP39k6szF/LIrgBtVPWnmnMihRT8wbc4yNh0IJqt6UzxdDNutlqPvxiXMW7CY5avX89sub84nVaSBpyv2pmkErP+JDftPcTlJS3Z8MhaNmlDLxgRN9DHWzpvNvMUr2bjbj2jTWng2csCy0H789vVB/9U+rJs7k7mLVrFp9wkicpzwcHPOi+P8BUrP/+K0UXtZvHg3N2q0pIGh7muCtjBnxUFSa95Kyz67RS2jYOxaNiJl1zyWe+fSsH482+fdbb0u5H7Hpy6J4G0LmDFrPiu3HiPSvBbWoZs4qOnIm8+3IK9q367OUXr5ivKjhD3ZI8K+Dqv3PMe+oVV5ZuzTRG1sSXe1/6uLj+aTYcf4elc6VjUq0byeNWlnLjP+8+P8GHq7uQQKl7f4MWxzGhVq2GAdFc3Xo44w+kBW3nQXm1aeLB7ugpNlJT74piX9XaUiPJAqvczCs+fYNqIVvab6EHR4Il0tdcRu/4JX3p7E1kgrajVuglu1dE6uncg7H8wzXPtszDL5tBFrGPnpGsIr1MLV8jLbvhvC6+P/5LoaSDYdP2Xu2O44WjbmnRnf8Xyd4ofbxb/PBOduTfhabVDO/xrI9NM5pJwM4YvNmTR9oznDPfWdDB1h2/14btRZfo81p159WywjIvns4yN85Z1/rXvKibO8OuY8+9Ot8XSvSMXYq3w39gij9pd+Lbx4sFV6eSFnz21jRKteTPUJ4vDErmrH985th9HtQpFpmPlT+xbMGs2g4Su5aFmLBk7pnFg+nsEjV5U8wygnjtDT4STpdCRfDsA/OMbwgr7dWs1Hn6zgolUdGlXPwn/leIaMWGn4nFzCN4zglSFT2HnFhjpudbC8tJHxAwcw6eCNUuLZsH4zP2XQ6F+JrVSfuhXC+X3aB3zw0fu8/fVuUhzqU0NzijXffMCk3Un57yo29TfNbwaDX/+c5QEanGs7kLR7AkNn+Kvd4luMWaaI3HA2jHiFIVN2csWmDm51LLm0cTwDB0zi4I3SamcmZxYMpf/7szhwowoNGjqjObWSMQPeYMLeOHRKGlFnT3IhPhddejTn/P0JiS12iVCp+a8lYvVHfLLiIlZ1GlE9y5+V44cwYmW4+ore3eR/Kke/H8x/Zx0m1ckdr4YVufrnD7z/xpf8oeZtTlwop8OT0OmSuRzgT3BMJjlhe1k2fxIfj/mVuCoumFyNJcsyssjUX234PlYsmMXoQcNZedGSWg2cSD+xnPGDR7KqIOjSTjDj7Tf4YnkA2c51cNb48OM7g/li9kI2nojNX6a4vCmmC5j56SBG/xpLpfp1qRD+O9M++ICP3n+br3en4FC/hprna/jmg0nkhYsulu1fvMLbk7YSaVWLxk3cqJZ+krUT3+GDeUFqruUQF3qa8CQduuTLBPgHE5OpoAldwXv9hzJtZwx29RqpMXiSJSMH8MGyC+p78t2+PuhDaAMjXhnClJ1XsKnjRh3LS2wcP5ABkw6SH0K3z//izOzTOL1mNot3RRvKXMPpzXOZv2A2S/devZnmv3Emiw5fw9q80NTf7Lut18Xc1/hMw2/GYF7/fDkBGmdqOySxe8JQZvgXrrV3qHOllK8oZxRRiE6J3emndOh3VJkfqTWkKUpudKjyXPfflH7rMwwpxWRdUYb13qK4vnZS+TNeZ0hLVuZ9/LtSa+BZxV+Tn/SwSk1NVXx9fQ3PHkHa68qWUT2UxwYtUS7lGNKUXCVi4auKl9cAZdlVNZaMWUbJUv4c2UZxb9xTGbvnupIfgVlKyOKBSivPp5Vpp7LzUh5Vx48fz4u1B4U2PloZ1m+LUvv1I0q/l39T3D4MVYIMbYE2MUoZ2uc35fH/i1USCpqa3Axlw5d/KLXVNsNPk6vsm/qnUntIsHK2IF40ScoP7/+pdJ91TUk3JJVncXFxSmBgoOGZuGtGtR1GytqtjG7vpTw/K1jJKWhvPJ9VpvinGRbIUYJn9lU8vQYqK66V8rnJ65WhXl7K4LUJhoSCz3lamXQ8xZCWo4TM6ad+zlvKqlitok3YqgxXv/c/E44oN27G+1Vl84edFa//TFUCSmzaCj73GXX9DBGfc06Z0cdTcWv5prKsIDMyDipfdvFUun51NO9p1u7RSnuv55VZwerr2mhl5VstFK8+U5QTBauWfkaZ80oLxU3dxvy22YhlMrYqHzT3Ul5bFKnmvFZJ2Dpc/Y7/KBOO3DC00/rN2ax82FndxqkBhpSicqNWKm+19FR6fX3oVh6kBysLB7ZWPHtMULzzuhdZyq7R7RSvF39SLubmLfFXxfM/609lZBt3xfPpScqt7A9R5vTzVLzeWqWo2X93+Z99UBn3mJfSd6Y+VgxJwbOUVx7ro0w6mN8XSl4/VI3BwUrBqmRs/1hp6d5EeX2xPp8MisScfnVHKm3cPZVnp/grN6MueKbS19NLGbjimvpMje0lA5TmTV9QfvAv2KBs5eLKIUo79X3P/HDakFZMQT48M0W5FS4zlD6ebkrLN5fdrDsZB79Uunh2Vb46mq1WrS3KqB6PKYOWXLq5jUpuhLLwVS/Fa8AyJb9qJSvrh6rPB69V8jczUdn2UTvFs9tnys44Q2Zq45TfP3lM8Xx8nHIw6871QS0QZevw9mreT1CO3CoQ5ermD5XOalxN1ReIEflfhLoOvwxtoTQf+ouSt1pqDMx+oYnSqnVLpdWwzepaq7IDlKn/aaI8NzNI/cwsZfdodR2en6Xoq8rd1OsS3af41Ear9amFl9Jnygml4GPTz8xRXmnhpngNzC874+pc8fIV5c2je0a1RCY4PdUa742deLeWmjXaXK5H3GDfyTTS1Vdzcko6hFTABM8n69PDwXCm1Koir/6nGlbR8Ry+IkdoHmqmjvSdtofDS9+mnrkaNulxhAUcwidcjRolB41GLX9jljEwc3+OgV0dDdMdrHB78QXaW0XgcywqL0U8GEwdavDVBzVxuBqPT5oDn37agMYW+a9lnb7GsTRrPGvrOOUbyz4f9XEiBds6dpirbcahaKjuZA2XIvhy5gV+VV+LUyrx6U+92DvcGZv8jxGPgjK0HXfDzLUzPZvYGp6ZU8etPhWUdFJSyva5Zq5d6NXC3vBM/Rz3BtiTzI1EHVknDnA81RGPehoCDx/k4EH1cSQU2/p1MYv04ehtLvQ3q9GR7k0MEW/uiquLCeaNOtOttmH6o2UNajiakJGh30sXk3YC79MaPHq/SMuCVbPx5NUXWqstq4ExyxSRxYkDx0l19KCeJpDD+m1RH0dCbalf14xIn6OG5YpKPX6EU9mN6TuwE1UKel42Hrz2RlfsY7w5eP7v3HPUDNcuvbiV/XVwb6A+Sb6Bmv13l/+mLmobBBc2fMu3C7ZwNDQePIaz7vBWxnapYFioBGautGjtnHfJU6nUZTr3bMLNqKvjRv0KCukpKXnTOb2Pnia3eV9eu7lBljTo9wpdKxuelsqMGh27cytcXHExMadR527cCpcaOJpkkJGuqFWrL9P2HGbp2/XUiNWSHhdGwCEf8quWhhKrVvYpjvmlUfPJ/nSrZihI02r0GrOMTWs/o5MhaG5XH9QC4cDxVBw96qEJPJxfHgePEGpbn7pmkfgcjSh7/ptW5bEuzVACffDLULMx7jgnLjek7/Ne5ASe4HQ25F4+gne0K491bWD05SO33Q6j3fv4TDvhzWmNB71fbKmuTz4bz1d5ofWtWvvP1jlxvxQUnSigy8J7fQAvD9qJx1PbafHmYd5ZcI0otZ4ot91vm+DiYlOk8ldQO5pV0BBb6lQg8bDQxfmydNwgnn28Dc1bP0bvV4czfe8VclFu3lTAmGX0TJ1r4lokkFxwVnfQiXFxhgTxYDDB+bE69HIywbZNXQbULWhuFbUss0nTZrJ11nEGfO5z8zFkZQKZSjZxiWqfpH8zvu5mSej2ID4atZ/WL+zmhYkh7I6R9uRRY2zbcTdM7CpSsdCowtTMHDMTBZ2ubJ9sYmdf5HPUD1I7GFr1c3Qkx8aRnnuVHRPf49133735+PDnE2TpEkmIv81BYPtKVLzZUzHBxET9r7XNrev41DRT/d8lrK42PpY4jSlOLtULDZxMsXetQWXD+41ZpghdMrFx6eRe3cHE925ty7vvfsjPJ7LQJSYYFixMS0JcPDkWLrjWKDqEs6pRE0cSiI//OyVpgp19xSKDQ1MzNdO0OvT/7ir/zd146+sv6FXlIr9O/5zBfbrSqefrjJ67n6jb9e9N7KhoX3Qb/0K/TNGgw9zMBEWNFTXYuZ6gxaqa463BhZ6lM84Od+6y2leqeKtjqwaL/p+1TaHrHE1M8/7Oz20dcb5LGTfoWR5v05zWj/Xm1eHT2Xslt/QOX9Z14pJNcKxevUh/z9ypAe41K95MK70+6ENIjbn0XK7umMh7hcrj3Q9/5kSWjsQEdVBa5vw3Vfc3j9E4M4DjgRpSTxwn2KE1PZ9pSZ2k0/iFaIg54k2Yy2N0a2z8fR5utx3Gu9fxqSVefY/G1AmX6oXjyF6tX5UNZf1P1zlxv9y51j9SFC5s8OOteTGkNKrD51+0Z9OSpzi3xosOhjMht6PJKVpzlUwtWWrVtL3tzRXEA08bxrIR7zF1dwqe/T9h8rzVbD10nN2ft+Vm2BizTAGNpui1UUommVlq42pzm6PYotzKa2SLNQFWFmqCWVW+XPMcVw/2LfrY/xTftVJ3rDZVGPzVE/hv6MqKzzx4s7UVEQfP89+vQjlT6Jpm8ZArS9vxr9IPCUpmaaF2381bMXp3ECEhIUUfwfv4qmPpHWcTdWCRNxC9CyYVrLFSB91ZmZmGlHyKJkftxuYzZpmiLMnfnNHsDiq2LeojeN9XhuUKM8HK0hKT3Gwysw1JBrrMDDKxwtLyb/YT9CP4Utxt/ts1G8D/bT3E/s3zmfjJq3SqEsWfsz/m4/n66zdL8ze3w9QOO/3NilLT1P5TIbo0UtLvNLBQY9A0fyBqDG3YMka8N5XdKZ70/2Qy81Zv5dDx3Xze9jY1y0ItKzOF7OysOxwkKr0+qAWiDmjNaTV6N0HFyyMkmH1fdcxbrKz5b1arC50bJuDncxb/46cxb9GeFl4daF0tkpN+wRw5FkzVTk/QrEz3I7zNdpTFPY1PEypYW2GiZFG02ipqP/xmzf7n65y4L2SgWpgumyM+N8hqUJ8Zn3vw9pMudGhQAfOIlLwLx3W3PaWqEBqclDdFOJ+Wc2eSSLKxp0ltyeaHmS7Bm0OnsvEYOJnvPhpAnyfa4O5sQVio/qcldCjqHsWYZQpoL57hTKFZbJpgfwKTbXFrXN+QIh5sJlSsX5FapHDEL/9mawWSzkayYNs1QlKy2Lfcn2Er4tA5VKbnM+5M/N9jrH69ErnhiZwp2qcWD7GytB33R1k7rqbYu7lRkxC8j14vEu/JAVtYtv4AF8r26/xGM3XwxN1FIeSkv1rbCuQSfiaYJMPu3JhlijC1x82tJoR4c1R/h7ubkgnYsoz1By4YnhdmipNHI6opwZzwTTak6anf43uSa6Z1adSg4Fzcndyf/NfFHWTuZyOZ56PFybMb/d8fz6y1i3i3sZbQwHP5fZ3bDD7umqkTrVrUQnf2IAfjbq1t5plD+F6/00C1LHQkeB/iVLYHAyd/x0cD+vBEG3ecLcII1U811Sk3B4NFNtOyEW514PKZMyQVyszE30bQvedINsUWzuGSmdq7kR9CR/NuknhTcgBblq3ngFogRuV/ceb16Nq5FhFHV7PtZAZebVthbdmMDi1tCN4zh+0BtnTs1qKUKe33aEB6X+LTFAdPd1yUEE7636q1+pucnVH74flRYnyd+yfCWNw7MoIqzNSMapXN0cXEs0PtCWZkawg7eYlR0y5zUW23srIMR2q0l2DKWFjsk/88j0LMnrOM25FEXGomp/4I5LMtadTpVZee8oOJDzVTGweq2OqIOr4L/9gMspPD8V71JV+uvaR2JLPJzFSMWqaALnYr33+7kaD4FGIDN/G/r9YSWasvr3YruBJDPOgsG9fmdS84tOQk046kkpiVQ+SpMD799hQT18eTaGmBTUoiv685x3f7U7ih0ZFyJY7NJ9IxqVUZLzm5/sgoS9txX1hYY2WhEH81mtTipypKYdm8H/2bw7FZnzNrbxhJmalE+S5j3KhxTFvqQ5KxY7SysmxJ//5NyPhjCmOWHic6MZ6QHdMYvzLk5iDEqGWKsKR5v/405xizPp/F3rAkMlOj8F02jlHjprHUJ//uw8VZtnmJF91T+UPtOyw9foW0zBuc3/4945adp1L3l+md95NVRrhP+W9a0Ybk0ztZOHU6f4QmotGkEnn0d45GmVDf0yPv+lILaysslHiuRqeSmX2vjphY0uS1IXQx2c/Ed75g/ubtbF35He99spJL+i7YPRtVmGLjUAVbXRTHd/kTm5FNcrg3q778krX6L8rONPy2pgXWVhYo8VeJVvt22bjzbL/WKAdn8/UqP2LS04k9tZ7v5u0hycmL5gXXrd6OZXP65RcIn8/aS1hSJqlRviwbN4px05bioxaIMfn/V5Z4dOmE8/k/2BnVkLZtK+u3kjYdmqLzP4SfRXu6tS3lDgd3EVcluk/xadmyP/2bZKj1aYxan6JJjA9hx7TxrAy5FYfG1bli5au+XRu1hwXTZ7DhVImHA8R9JgPVIix46k1PetknMv2TXTR86g+6jL1EStcmDPMyIfKC4ahMbgTMnwrrAvKf5zGlYy9nLv98iObP7qL3lKvkdGrGz0MdS2lQxEPDrgfDRvSgUuAc3uzSkmbtnuaDFSn0GjuUlqbRnAtKNG4ZA/N2L9A1chovdW5Ll/5j2ZHTjS9/HEEHCaSHh3lF3h3XinfrpvHzuH149dpBh4/PccymJt997UEHazPavdWCEV7ZrP5mP02e3IbH6z4sSa7G2FENaf5PdexF+VOGtuO+sGxGpzb2hMzvT7vekw2Jd2DuxqBpUxjUMJzFw3rTvkUbeg6cynHbZ/hqxke0/ccOvJjjPmQaE1+qwskf3qRHh870HXeYes91x+nmeMeYZYoydxvEtCmDaBi+mGG929OiTU8GTj2O7TNfMeOjtoalirFsyn9nfMfLDgH88GZ3WrfoSN/PtpL12Chm/+8ZnIztjd2v/LdqzbBvh9EiYT2f9OlA06ZtePK/q7jRfiT/G9o071pMy2adaGMfwvz+7eg92Tf/ffeAmWs/Jv/0BT2s/Fg4/jO+mu9Lxf4Dedxefc383k14t+sxjBE9KhE45026tGxGu6c/YEVKL8YObYlp9DmC8m4YZEmzTm2wD5lP/3a9meyrpcHAyXw/wJlTU9+gW6tWdHllAods+vHt5IE0KHo5ZCnMcRs0jSmDGhK+eBi927egTc+BTD1uyzNfzeAjfYEYkf8lsWzWhQ7V1BF2rTa0q6lfGVOqdGhPYwsT7Nt1o31pJ07uJq5Kcr/i09ydIdMm8lKVk2p96kGHzn0Zd7gez3V3unVG16g6V7x8NWivHOOXRYvZHiRTl8oDE/2tfw1/iwKabC6EphCrtaRuo4q4luHHf3UZ6QSGZqI4VqRZTcsiF48/rPQ/6h8cHEzbtqXsoB8RmoQwzl24jrZSbTzca2JXQsfDmGXy6PS/qRdEDC64e9Wm0qMQSHfg6+uLp6cndnYP0xQFHYnRyZy/not5ZTu86lcodkdfHUlX1NdjczGtaKu+boPtA3J4MT4+npiYGLWD1dSQIv4Oo9uO+0GTwIXAEOJNq9OxVT1DojFySYoIIvRqOuYO9Wns5sz9mhyQEXue4IhMKjdsSoOqJXfzjVmmiNwkIoJCuZpujkP9xrg5G7M1GhLCggiLV6hc152GzjZlP2NwP/M/N5nI4FCupKsDntoeuNWwLbK+moQLBIbEY1rdk1b1KhlS/w4dqdGXSLStTe0qha5NTNnEe49/RcaovawY6GxIvBf05XGOC9e1VFK3z72mXQnloS5zIZCQeFOqe7agXqX8JTTxap0M09fJ+nh63N3d2HOTIggKvUq6uQP1G7vxlxC6Q/7fU3cdV8Xc1/Yhg9jzwURkVqZh0waUXG3vVOdKLl9RPshAVfxtMlAV98PDOVB9eMlAVQhRdlrCfn6Fvosq8sXGnxlQRz9YTSd4wfsMnJXEG2s3MaKpEQcRhBAPBTlsIIQQQgghygEz6r0whOcc/Jj0fA+efak/LzzVg/4/htBgyBje9pJBqhCPEjmjKv42OaMq7gc5o/pgkTOqQoi7lh6J9+59nIxIRGvtQuPOT/JEk2qlXpsphHg4yUBV/G0yUBX3gwxUHywyUBVCCCHE3yFTf4UQQgghhBBClCsyUBVCCCGEEEIIUa7IQFUIIYQQQgghRLkiA1UhhBBCCCGEEOWKDFSFEEIIIYQQQpQrMlAVQgghhBBCCFGuyEBVCCGEEEIIIUS5UqbfUU1NTUWn0xmeCZEvMzOTy5cv07hxY0OKEPdeUFAQ9erVo0KFCoYUUZ4lJyfn/ZZqgwYNDClCCCGEeJiZm5tja2trePb3lWmgeubMGXJycgzPhMin1WrzBqt2dnaGFCHuvbS0tLxBqpmZmSFFlGf6fYX+YWNjY0gRQgghxMOsYsWKNGzY0PDs7yvTQFWIkugHEMHBwbRt29aQIsS95+vri6enpxwQeUDoz6bGxMTQtGlTQ4oQQgghhPHkGlUhhBBCCCGEEOWKDFSFEEIIIYQQQpQrMlAVQgghhBBCCFGuyEBVCCGEEEIIIUS5IgNVIYQQQgghhBDligxUhRBCCCGEEEKUKzJQFUIIIYQQQghRrshAVQghhBBCCCFEuSIDVSGEEEIIIYQQ5YoMVIUQQgghhBBClCsyUBVCCCGEEEIIUa48wgNVhfiTF/i/fRloMxJZsSSCoFzDS2WVm8KWpcEsOZmNzpBUXLZvEC8N92Nx6A3mjDvMG8sS0BheEw8SHQneC5mz/QratEDWztrA+bLEjS6J83vWMn/WLH5e9QeBcYXfnEvo9tnMWOVDQimBpDk8nTdfH8HKoJMs+OB13pnjJ3FUjuhuxLF0URBTt98gxZBWVA7+24P5Tm1vTqYZkoQooEvAe+Ectl/Rkha4llkbzqutgsFt2g6j24Xci+yYO4MVx+JK3VcZJSOKsCsF33Dndut+yr24g7kzVnAsrvSVyQ3ewswZv+CfakgoQZFlcs/z28wZrPVL+nv5ZoyMC2ybNoIhAwcyaMQyAksqyML5nxvK9tkzWOWT8M+vWwkyosK4GQoluVcx96/KICrsipH72vJVH0qXy8Udc5mx4hg3q8q9qtf/WnzmErxlJjN+8ec2VbsEZSlfcb89ugPVnBv8tDSFBq2sCd8SzK7KjribG14rK20au3+9wPqz2erwtzQKKVdTuJqpoGRkEhqjeYAb7UeYJoBFc0Ko19GZiLUz2Fe1I42MjZvcCDaNfJGXPp7O+j27WDdjFK/2HcrCwAzDAlrC961g8eaTJJYaSGocRV0kJkONo/QYLkYn3ybmxP1mWtmeajFRzJ4ewA8ncwypt6T4n2fE/11kd6YtbnaGRCEMNAGLmBNSj47OEaydsY+qHRuR17zcse0wsl3QXubAysVs9v8bncaMw0zq14/JhwuOtBjTbt0/2ssHWLl4M/636V3nXNjNksXbOZtm5DI5F9i9dDHbTqf+w+1tLheWj2HMUj8yXT3wcKtJVTPDSwWK5782nH0r1DI9mXjf9wUZhyfRr99kboZCSe5FzP2rMjg8qR/9Jh/GuGOL5as+lE7L5QMr1fX0zx+I3qt6/a/GZw4Xdi9h8faz3KZqF1PW8hX32yM8UE3ncnwWoeczCY/OIjkikXCt4bV/gFWb+rzW0Bpnp6q82ccBVwdrmXf9INJEEhkbT9iZGCIiYkm5dIYIo+JGx/XfpzJltyl9Z+5g19bf2bdzAQOdTzPnu1VcNDL2LDsP5CUPRxxdWvDay22o4eiIieE1UQ6YWvPMsCY8VzWNFTND8CkYR+hlxDF9ZjjRdRsw5e1qyDhVFKeJjCQ2PowzMRFExKZw6UyE2l28c9thdLtg1ZOpPmfZPNwjfwB8N3KvcTk6874Pioxl1XMqPmc3M9zjrrfwX6Ql8vIVlIYv8uW34/ji/SdxLT5QLUf5n3vtMtGZd1iTexFz/6pcrl2O5k6b+eCxoudUH85uHk5eVblXcVXO24e/eljL9+Fh9o3K8PejJSuJ9UvCCXCqSfvUCBYdN6F7v+rUU3cKmuvxrF0Xypx1YSzdFsUO/xQS7expWt2i5MGlNpUdv1wlsXF1XEMuMHFJGOt9kkmuWBEv9T36/UxGwAXmJ9fgw8d1rFuVRIdX6tKs4sMxxNBoNMTHx1OzZk1DykMs8wxbZq0hsHovWif/yoqDFjw+sDt1zTTE+G5kybwFLF6+mvW/7cL7fBIVG3jiaq9GjS6B7f83iT2VBvHDqC5UVZNMbGrTolIIa1b7YfPkS7SvphC2awm7kprRvfpZFkybxfItBwlOqYybhyt2aiBl+MxnSVIv3n1Sw8b5Z2k7+BW8Kj8ahzyuXLmCo9oBt7S0NKSUTyY29rSplsZmte3w1lXjpTY2WJCD94ITjD9ZgWETWvJyDX2Z6bhy8jIzFofw06ZI/jidhqZaJRpXMzMMMnREn7jEdPX1uerr29V2KN7SFi9Xyweiw5eRkUFaWhrOzs6GFHEnmWe2MGtNINV7tSb51xUctHicgd3s+fMObUfTiwuNaxf00zDnLcc7tyFNa1lxYftcVp+3p3bqLmZPm82idds5djELZ4/GuFQoYf+UFsD6nzaw/9RlkrTZxCdb0LFZ9Zvt1lN1L7J8+qy8z/FWP8exyOeobaTPOubOnMuiVZvYfSKCHCcP3JytSznYpp96qF8/W1wT/+THqTNZ/MsuAm5UxbOZM4mHFvHDtDks23SA4KzqNPV0wVr9IP3U33nLvclt2JRatvpP1pEUvI0FM2Yxf+VWjkWaU8s6lE0HNXR883la2BuxjPUFdizeS2b7AfRrVSm/H6CJwWfdXGbOXcSqTbs5EZGDk4cbzvqVKFU2kQdXMHvmTyxes5k9fpFqHripeVABE200+5cu5rcj/oQlKmgTLxNn7UWTGlaG96pKyn+vbHYt2UVSs6eoe3E502ctYt12by5mOeLR2IVbxVjW/FdprnB01Rx+nLtQ3cad6j4tAavajalbyVxdlfX8tGE/py4noc2OJ9miEZ4Ze5m7NkTtE3mz4Ps5rD8Wj2MTWwKXrzDEnC3a0O3MXX0e+9qp7Jo9jdmL1rH92EWynD1o7KLmg+GrdUlBbF0wg9nzV7L5wHkyHZ1J3rOSvcn1aFmnhMN8+immc1dz3taVxD9/ZOrMxfyyK4AbVT1p5pzIoUU/MG3OMjYdCCarelM8XQzbrZaj78YlzFuwmOWr1/PbLm/OJ1Wkgacr9qZpBKz/iQ37T3E5SUt2fDIWjZpQy8YETfQx1s6bzbzFK9m4249o01p4NnLAEq2R9UH/1T6smzuTuYtWsWn3CSJynPBwc86L4/wFSs//4rRRe1m8eDc3arSkgaHua4K2MGfFQVJr3krLPrtFLaNg7Fo2ImXXPJZ759Kwfjzb591tvS7kfsenLongbQuYMWs+K7ceI9K8Ftahmzio6cibz7cgr2rfrs5RevmK8qOEPdkjwr4Oq/c8x76hVXlm7NNEbWxJd7X/q4uP5pNhx/h6VzpWNSrRvJ41aWcuM/7z4/wYeru5BAqXt/gxbHMaFWrYYB0VzdejjjD6QJa6CwSbVp4sHu6Ck2UlPvimJf1dpSI8kCq9zMKz59g2ohW9pvoQdHgiXS11xG7/glfensTWSCtqNW6CW7V0Tq6dyDsfzMu/9lndiQZdzMHBowk1Cx0ht/Hyoj6XOR9869SbNmINIz9dQ3iFWrhaXmbbd0N4ffyfXFcDyabjp8wd2x1Hy8a8M+M7nq9T6MNEOWGCc7cmfK02KOd/DWT66RxSTobwxeZMmr7RnOGe+k6GjrDtfjw36iy/x5pTr74tlhGRfPbxEb7yzr/WPeXEWV4dc5796dZ4ulekYuxVvht7hFH7S78WXjzYKr28kLPntjGiVS+m+gRxeGJXLI1oO4xuF4pMw8yf2rdg1mgGDV/JRctaNHBK58Ty8QweuarkGUY5cYSeDidJpyP5cgD+wTGGF/Tt1mo++mQFF63q0Kh6Fv4rxzNkxErD5+QSvmEErwyZws4rNtRxq4PlpY2MHziASQdvlBLPhvWb+SmDRv9KbKX61K0Qzu/TPuCDj97n7a93k+JQnxqaU6z55gMm7U7Kf1exqb9pfjMY/PrnLA/Q4FzbgaTdExg6w7/I9WjGLFNEbjgbRrzCkCk7uWJTB7c6llzaOJ6BAyZx8EZptTOTMwuG0v/9WRy4UYUGDZ3RnFrJmAFvMGFvHDoljaizJ7kQn4suPZpz/v6ExBa7RKjU/NcSsfojPllxEas6jaie5c/K8UMYsTJcfUXvbvI/laPfD+a/sw6T6uSOV8OKXP3zB95/40v+UPM2Jy6U0+FJ6HTJXA7wJzgmk5ywvSybP4mPx/xKXBUXTK7GkmUZWWTqrzZ8HysWzGL0oOGsvGhJrQZOpJ9YzvjBI1lVEHRpJ5jx9ht8sTyAbOc6OGt8+PGdwXwxeyEbT8TmL1Nc3hTTBcz8dBCjf42lUv26VAj/nWkffMBH77/N17tTcKhfQ83zNXzzwSTywkUXy/YvXuHtSVuJtKpF4yZuVEs/ydqJ7/DBvCA113KICz1NeJIOXfJlAvyDiclU0ISu4L3+Q5m2Mwa7eo3UGDzJkpED+GDZBfU9+W5fH/QhtIERrwxhys4r2NRxo47lJTaOH8iASQfJD6Hb539xZvZpnF4zm8W7og1lruH05rnMXzCbpXuv3kzz3ziTRYevYW1eaOpv9t3W62Lua3ym4TdjMK9/vpwAjTO1HZLYPWEoM/wL19o71LlSyleUM4ooRKfE7vRTOvQ7qsyP1BrSFCU3OlR5rvtvSr/1GYaUYrKuKMN6b1FcXzup/BmvM6QlK/M+/l2pNfCs4q/JT3pYpaamKr6+voZnjyDtdWXLqB7KY4OWKJdyDGlKrhKx8FXFy2uAsuyqGksZ25QPW3gqfWcGKzcX0UvdqPzXy1N5bXGk+iRL+XNkG8W9cU9l7J7rSn4EZikhiwcqrTyfVqadys5LeVQdP348L9YeFNr4aGVYvy1K7dePKP1e/k1x+zBUCTK0BdrEKGVon9+Ux/8vVkkoaGpyM5QNX/6h1FbbDD9NrrJv6p9K7SHBytmCgNEkKT+8/6fSfdY1Jd2QVJ7FxcUpgYGBhmfirhnVdhgpa7cyur2X8vws/WcZ2hvPZ5Up/mmGBXKU4Jl9FU+vgcqKa7f2gUUkr1eGenkpg9cmGBIKPudpZdLxFENajhIyp5/6OW8pq2K1ijZhqzJc/d7/TDii3LgZ71eVzR92Vrz+M1UJKLFpK/jcZ9T1M0R8zjllRh9Pxa3lm8qygsY246DyZRdPpetXR/OeZu0erbT3el6ZFay+ro1WVr7VQvHqM0U5UbBq6WeUOa+0UNzUbcxrm41ZJmOr8kFzL+W1RZFqy65VErYOV7/jP8qEIzcM7bR+czYrH3ZWt3FqgCGlqNyolcpbLT2VXl8fupUH6cHKwoGtFc8eExTvvO5FlrJrdDvF68WflIu5eUv8VfH8z/pTGdnGXfF8epJyK/tDlDn9PBWvt1YpavbfXf5nH1TGPeZVJO6yg2cprzzWR5l0ML8vlLx+qLqPG6wUrErG9o+Vlu5NlNfVmLy5+kViTr+6I5U27p7Ks1P8lZtRFzxT6evppQxccU19pu47lwxQmjd9QfnBv2CDspWLK4co7dT3PfPDaUNaMQX58MwU5Va4zFD6eLopLd9cdnPfnHHwS6WLZ1flq6PZ6q57izKqx2PKoCWXbm6jkhuhLHzVS/EasEzRF726lcr6oerzwWuV/M1MVLZ91E7x7PaZsjPOkJnaOOX3Tx5TPB8fpxzMunN9UAtE2Tq8vZr3E5QjtwpEubr5Q6WzGldT9QViRP4Xoa7DL0NbKM2H/qLkrZYaA7NfaKK0at1SaTVss7rWquwAZep/mijPzQxSPzNL2T1aXYfnZyn6qnI39bpE9yk+tdFqfWrhpfSZckIp+Nj0M3OUV1q4KV4D88vOuDpXvHxFefPonlEtkQlOT7XGe2Mn3q2lZo02l+sRN9h3Mo109dWcnJIOIRUwwfPJ+vRwMJwptarIq/+phlV0PIevyBGah5qpI32n7eHw0repZ66GTXocYQGH8AlXo0bJQaNRy1/J1YcT5hbmRaexmFlgZgaa7FtHAc3cn2NgV0fDdAcr3F58gfZWEfgci8pLEQ8GU4cafPVBTRyuxuOT5sCnnzagsUX+a1mnr3EszRrP2jpO+cayz0d9nEjBto4d5mqbcSgaqjtZw6UIvpx5gV/V1+KUSnz6Uy/2DnfGJv9jxKOgDG3H3TBz7UzPJraGZ+bUcatPBSWdlJSy7bfMXLvQq4W94Zn6Oe4NsCeZG4k6sk4c4HiqIx71NAQePsjBg+rjSCi29etiFunD0dtc6G9WoyPdmxgi3twVVxcTzBt1plttw/RHyxrUcDQhI0O/ly4m7QTepzV49H6RlgWrZuPJqy+0VltWA2OWKSKLEweOk+roQT1NIIf126I+joTaUr+uGZE+Rw3LFZV6/AinshvTd2AnqhT0vGw8eO2NrtjHeHPw/N8pRzNcu/TiVvbXwb2B+iT5Bmr2313+m7qobRBc2PAt3y7YwtHQePAYzrrDWxnbpYJhoRKYudKitXPeJU+lUpfp3LMJN6Oujhv1Kyikp6TkTef0Pnqa3OZ9ee3mBlnSoN8rdK1seFoqM2p07M6tcHHFxcScRp27cStcauBokkFGuqLuuvsybc9hlr5dT41YLelxYQQc8iF/161Bv+v+i+xTHPNLo+aT/elWzVCQptXoNWYZm9Z+RidD0NyuPqgFwoHjqTh61EMTeDi/PA4eIdS2PnXNIvE5GlH2/DetymNdmqEE+uCXoWZj3HFOXG5I3+e9yAk8welsyL18BO9oVx7r2sDoy0duux1Gu/fxmXbCm9MaD3q/2FJdn3w2nq/yQutbtfafrXPifikoOlFAl4X3+gBeHrQTj6e20+LNw7yz4BpRaj1RbrvfNsHFxaZI5a+gdjSroCG21KlA4mGhi/Nl6bhBPPt4G5q3fozerw5n+t4r5KLk31TAzBprtf3UdyqLhFFOFhqtCVZWtxpXU+eauBYJJBec1R10YlycIUE8GExwfqwOvZxMsG1TlwF1C5pbRS3LbNK0mWyddZwBn/vcfAxZmUCmkk1coton6d+Mr7tZEro9iI9G7af1C7t5YWIIu2OkPXmklKHtuBsmdhWpWGhUYWpmjpmJgk532x3eX5jY2Rf5HPWD1A6GVv0cHcmxcaTnXmXHxPd49913bz4+/PkEWbpEEuJvcxDYvhIVb/ZUTDBRR+sm1ja3ruNT00z1f5ewutr4WOI0pji5VC80cDLF3rUGlQ3vN2aZInTJxMalk3t1BxPfu7Ut7777IT+fyEKXmGBYsDAtCXHx5Fi44Fqj6BDOqkZNHEkgPr5s+V2UCXb2FYsMDk3N1EzT6tD/u6v8N3fjra+/oFeVi/w6/XMG9+lKp56vM3rufqJu1783saOifdFt/Av9MkWDDnMzExQ1VtSdKdcTtFhVc7w1uNCzdMbZ4c5dVvtKFW91bNVg0f+ztil0naOJad7f+bmtI853KeMGPcvjbZrT+rHevDp8Onuv5Jbe4cu6TlyyCY7Vqxfp75k7NcC9ZsWbaaXXB30IqTGXnsvVHRN5r1B5vPvhz5zI0pGYoA5Ky5z/pur+5jEaZwZwPFBD6onjBDu0puczLamTdBq/EA0xR7wJc3mMbo2Nv8/D7bbDePc6PrXEq+/RmDrhUr1wHNmr9auyoaz/6Ton7pc71/pHisKFDX68NS+GlEZ1+PyL9mxa8hTn1njRwXAm5HY0OUVrrpKpJUutmra3vbmCeOBpw1g24j2m7k7Bs/8nTJ63mq2HjrP787bcDBuT6lR3hITr19Xm85bcmGskKNY4ulQ1pKg0mqLXRimZZGapjavNbY5ii3Irr5Et1gRYWagJZlX5cs1zXD3Yt+hj/1N810rdsdpUYfBXT+C/oSsrPvPgzdZWRBw8z3+/CuVMwYVQ4uFXlrbjX6UfEpTM0kLtvpu3YvTuIEJCQoo+gvfxVcfSO84m6sAibyB6F0wqWGOlDrqzMjMNKfkUTc7NvDRmmaIsyd+c0ewOKrYt6iN431eG5QozwcrSEpPcbDKzDUkGuswMMrHC0vJv9hP0I/hS3G3+2zUbwP9tPcT+zfOZ+MmrdKoSxZ+zP+bj+frrN0vzN7fD1A47/c2KUtPU/lMhujRS0u80sFBj0DR/IGoMbdgyRrw3ld0pnvT/ZDLzVm/l0PHdfN72Nh0+C7WszBSys7NKOjZSSOn1QS0QdUBrTqvRuwkqXh4hwez7qmPeYmXNf7NaXejcMAE/n7P4Hz+NeYv2tPDqQOtqkZz0C+bIsWCqdnqCZmW6H+FttqMs7ml8mlDB2goTJYui1VZR++E3a/Y/X+fEfSED1cJ02RzxuUFWg/rM+NyDt590oUODCphHpORdOK677SlVhdDgpLwpwvm0nDuTRJKNPU1qSzY/zHQJ3hw6lY3HwMl899EA+jzRBndnC8JC839aQtHvUSwb0KJJRZJO+XFrtomO6yf8uWTqQfOmt86KaC+e4UyhWWyaYH8Ck21xa1zfkCIebCZUrF+RWqRwxC//ZmsFks5GsmDbNUJSsti33J9hK+LQOVSm5zPuTPzfY6x+vRK54YmcKdqnFg+zMrQd90dZO66m2Lu5UZMQvI9eLxLvyQFbWLb+ABfK9uv8RjN18MTdRSHkpL9a2wrkEn4mmCTD7tyYZYowtcfNrSaEeHNUf4e7m5IJ2LKM9QcuGJ4XZoqTRyOqKcGc8E02pOmp3+N7kmumdWnUoOBc3J3cn/zXxR1k7mcjmeejxcmzG/3fH8+stYt4t7GW0MBz+X2d2ww+7pqpE61a1EJ39iAH426tbeaZQ/hev9NAtSx0JHgf4lS2BwMnf8dHA/rwRBt3nC3CCNVPNdUpNweDRTbTshFudeDymTMkFcrMxN9G0L3nSDbFFs7hkpnau5EfQkfzbpJ4U3IAW5at54BaIEblf3Hm9ejauRYRR1ez7WQGXm1bYW3ZjA4tbQjeM4ftAbZ07NailCnt92hAel/i0xQHT3dclBBO+t+qtfqbnJ1R++H5UWJ8nfsnwljcOzKCKszUjGqVzdHFxLND7QlmZGsIO3mJUdMu5/1WXVaW4UiN9hJMGQuLffKf51GI2XOWcTuSiEvN5NQfgXy2JY06verSU34w8aFmauNAFVsdUcd34R+bQXZyON6rvuTLtZfUgWo2mXl3kbOj80vP4hq5hq8nb+X89XjCD85lzE8nqNCtP88Uup2nLnYr33+7kaD4FGIDN/G/r9YSWasvr3YruBJDPOgsG9fmdS84tOQk046kkpiVQ+SpMD799hQT18eTaGmBTUoiv685x3f7U7ih0ZFyJY7NJ9IxqVUZLzm5/ggxvu24LyyssbJQiL8aTWrxUxWlsGzej/7N4disz5m1N4ykzFSifJcxbtQ4pi31IcnYMVpZWbakf/8mZPwxhTFLjxOdGE/IjmmMXxlycxBi1DJFWNK8X3+ac4xZn89ib1gSmalR+C4bx6hx01jqk3/34eIs27zEi+6p/KH2HZYev0Ja5g3Ob/+eccvOU6n7y/TO+8kqI9yn/DetaEPy6Z0snDqdP0IT0WhSiTz6O0ejTKjv6ZF3famFtRUWSjxXo1PJzC45t8rOkiavDaGLyX4mvvMF8zdvZ+vK73jvk5Vc0nfB7tmowhQbhyrY6qI4vsuf2IxsksO9WfXll6zVf1F2puG3NS2wtrJAib9KtNq3y8adZ/u1Rjk4m69X+RGTnk7sqfV8N28PSU5eNC+4bvV2LJvTL79A+HzWXsKSMkmN8mXZuFGMm7YUH7VAjMn/v7LEo0snnM//wc6ohrRtW1m/lbTp0BSd/yH8LNrTrW0pdzi4i7gq0X2KT8uW/enfJEOtT2PU+hRNYnwIO6aNZ2XIrTg0rs4VK1/17dqoPSyYPoMNp0o8HCDuMxmoFmHBU2960ss+kemf7KLhU3/QZewlUro2YZiXCZEXDEdlciNg/lRYF5D/PI8pHXs5c/nnQzR/dhe9p1wlp1Mzfh7qWEqDIh4adj0YNqIHlQLn8GaXljRr9zQfrEih19ihtDSN5lxQYt5iNu0/YurI9qRuHE3fxzvzn3d/JrT2m0z+sg9OhWqiebsX6Bo5jZc6t6VL/7HsyOnGlz+OoIME0sPDvCLvjmvFu3XT+HncPrx67aDDx+c4ZlOT7772oIO1Ge3easEIr2xWf7OfJk9uw+N1H5YkV2PsqIY0/6c69qJcMrbtuC8sm9GpjT0h8/vTrvdkQ+IdmLsxaNoUBjUMZ/Gw3rRv0YaeA6dy3PYZvprxEW3/sQMv5rgPmcbEl6pw8oc36dGhM33HHabec91xujneMWaZoszdBjFtyiAahi9mWO/2tGjTk4FTj2P7zFfM+KitYaliLJvy3xnf8bJDAD+82Z3WLTrS97OtZD02itn/e8b4crxf+W/VmmHfDqNFwno+6dOBpk3b8OR/V3Gj/Uj+N7Rp3rWYls060cY+hPn929F7sm/+++4BM9d+TP7pC3pY+bFw/Gd8Nd+Xiv0H8ri9+pq5EddhGcmuxzBG9KhE4Jw36dKyGe2e/oAVKb0YO7QlptHnCMq7YZAlzTq1wT5kPv3b9Wayr5YGAyfz/QBnTk19g26tWtHllQkcsunHt5MH0sCo40bmuA2axpRBDQlfPIze7VvQpudAph635ZmvZvCRvkCMyP+SWDbrQodq6gi7Vhva5R3EMqVKh/Y0tjDBvl032pd24uRu4qok9ys+zd0ZMm0iL1U5qdanHnTo3Jdxh+vxXHenW2d0japzxctXg/bKMX5ZtJjtQTJ1qTww0d/61/C3KKDJ5kJoCrFaS+o2qohrGX78V5eRTmBoJopjRZrVtCxy8fjDSv+j/sHBwbRtW8oO+hGhSQjj3IXraCvVxsO9JnaldDxyE8M5F3qNnEr18fJwpsQ+mk7/m3pBxOCCu1dtKj0KgXQHvr6+eHp6Ymf3ME1R0JEYncz567mYV7bDq36FYnf01ZF0RX09NhfTirbq6zbY3u+ByV2Kj48nJiZG7WA1NaSIv8uotuN+0CRwITCEeNPqdGxVz5BojFySIoIIvZqOuUN9Grvdv23IiD1PcEQmlRs2pUHVkrv5xixTRG4SEUGhXE03x6F+Y9ycjdkaDQlhQYTFK1Su605DZ5uynzG4n/mfm0xkcChX0tUBT20P3GrYFllfTcIFAkPiMa3uSat6lQypf4eO1OhLJNrWpnaVQtcmpmzivce/ImPUXlYMdDYk3gv68jjHhetaKqnb517TroTyUJe5EEhIvCnVPVtQr1L+Epp4dZ8fpt/n18dTrY+lnKu8rdykCIJCr5Ju7kD9xm78JYTukP/31F3HVTH3tX3IIPZ8MBGZlWnYtAElV9s71bmSy1eUDzJQFX+bDFTF/fBwDlQfXjJQFUKUnZawn1+h76KKfLHxZwbU0Q9W0wle8D4DZyXxxtpNjGhqxEEEIcRDQQ4bCCGEEEKIcsCMei8M4TkHPyY934NnX+rPC0/1oP+PITQYMoa3vWSQKsSjRM6oir9NzqiK+0HOqD5Y5IyqEOKupUfivXsfJyMS0Vq70LjzkzzRpFqp12YKIR5OMlAVf5sMVMX9IAPVB4sMVIUQQgjxd8jUXyGEEEIIIYQQ5YoMVIUQQgghhBBClCsyUBVCCCGEEEIIUa7IQFUIIYQQQgghRLkiA1UhhBBCCCGEEOWKDFSFEEIIIYQQQpQrMlAVQgghhBBCCFGulOl3VCMiIsjNzTU8EyKfRqPhxo0buLi4GFKEuPf0v8np4OCApaWlIUWUZ5mZmXm/sezo6GhIEUIIIcTDzMbGhurVqxue/X1lGqheuXIFrVZreCZEPv1ANTY2llq1ahlShLj3oqKicHZ2loHqAyI9PZ3U1FQ5gCWEEEI8IipUqHBPD1CXaaAqREn0Z02Cg4Np27atIUWIe8/X1xdPT0/s7OwMKaI8i4+PzzsL3rRpU0OKEEIIIYTx5BpVIYQQQgghhBDligxUhRBCCCGEEEKUKzJQFUIIIYQQQghRrshAVQghhBBCCCFEuSIDVSGEEEIIIYQQ5YoMVIUQQgghhBBClCsyUBVCCCGEEEIIUa7IQFUIIYQQQgghRLkiA1UhhBBCCCGEEOWKDFSFEEIIIYQQQpQrMlAVQgghhBBCCFGumH2jMvz9iFGIP3mRn4Mr0M45jVUrr2PRtDKOdzN0z01hy/JLHFMq0ry6OSaG5MKyfYN49fsIUhtac+z//JgZZUefFjaYGV5/kGk0GuLj46lZs6Yh5eGmS/Bm0ZJAXFrX4PIvP3PIojVe1e4cOLmh25m7whfFrQmuNiVFyZ1oODz9bcZsSKOx03G++fRnwuv8h3Y1HoYourMrV67g6OiIpaWlIaX80yX4sPrnXzia5EzzRlWL1XctkXsWsXj3DTq2aWBIe3hkZGSQlpaGs7OzIUXcf7mE/j6XZVsPc+zYsVIePlwydcMjYz8//a326R7LvciOecvxzm1I01q2Je5Xyyc1z7fPZYWvglsTV8pDVpYkIyqM6xWqUvGe7j5yubhjHsu9c2nYtBa2d7PtuaFsn7sCX8WNJq42f7PcM4gKu06FqhUfrL6WLgHvRUsIdGlNjcu/8PMhC1p7VbvzmSXNYaa/PYYNaY1xOv4Nn/4cTp3/tOO+dhFyg9kyexWnLZrQpIaVIbGQEretMhfvVGfKw7aJf8Wje0Y15wY/LU2hQStrwrcEs6uyI+7mhtfKSpvG7l8vsP5stjr8LY1CytUUrmYqKBmZhMZo0BleEQ8SDQGL5hBSryPOEWuZsa8qHRsZFzja8H2sWLyZk4mlR8kdKSlEXYwhQ1FIj7lIdPLf+Czxj1OSAtiyeAE/jhvP0vMaQ2oBLVeOrmPx6kOG50LcazoSL53Cz88v/3HiEL+tWMjiX/dwoiDNz5/gmExy70X7dC9pL3Ng5WI2+yc8YPtKLeH7VrB480nKS1YWl3F4Ev36TeZwmiHhntFy+cBKddv9SbjbQtOGs2+FWu4nE2/TnzJGBocn9aPf5MPc8838h2kCFjEnpB4dnSNYO2MfVTs2wtjuqZISxcWYDBQlnZiL0dz3LkLOBXYvWcz2syXnesnbZlyd+de3TfwrHuGBajqX47MIPZ9JeHQWyRGJhGsNr/0DrNrU57WG1jg7VeXNPg64OljLvOsHkobIyFjiw84QExFBbMolzkT8g4FThCWdB76Eh6MjLi1e4+U2NXB0fHDOMzzS0v2Z/7+l/GWsKsQ/ypL2Hy1m7bp1rNM/Vn5F7+pmWLYexrKCtHWrmfSCa/k742TVk6k+Z9k83MPoTrowTu61y0Rn/hO9fCt6TvXh7ObhePzrhZbLtcvR/COb+Q/TREYSGx/GmZgIImJTuHQmQh3KGcGyMwNf8lD7BS60eO1l2tRwpLx1ER7mbRP/jEd36m9WEuuXhBPgVJP2qREsOm5C937VqafurTXX49Udeyhz1oWxdFsUO/xTSLSzp2l1i5IHl9pUdvxylcTG1XENucDEJWGs90kmuWJFvNT36DsAGQEXmJ9cgw8f17FuVRIdXqlLs4oPRy17tKb+ZnJmyyzWBFanV+tkfl1xEIvHB9K9rj5wYvDduIR5CxazfPV6ftvlzfmkijTwdMVeDRxt2C6W7EqiWffqnF0wjVnLt3AwOIXKbh642hXqJmqiObZ2HrPnLWblxt34RZtSy7MRDpYZ+MxfQlKvd3lSs5H5Z9sy+BUvKj8iRzwexKm/SqIfv671p3r3LmT5bOWUVVf6tKlmGBRoiT64iq3htfng7e55KZBN5MEVzJ75E4vXbGaPXyQ5Tm64OVd4gKY+5pOpv+WQ9ipH1m7mbNWeDH3GHQtDst7N9umpulxcPp1Zi9ax3fsiWY4eNHa5FX+aGB/WzZ3J3EWr2LT7BBE5Tni4OWOdt0AuIdvmsjZE/TzvBXw/Zz3H4h1p0dwVm5wYfNbNZebcRazatJsTETk4ebjhnP/Gv/rL1F8NV46uYs6Pc1m4ahM7vc+TYFWbxnUrlTyQzZtCuprz9rVJ3TWbabMXsW77MS5mOePR2IUKN7/27uqcJvoYa+fNZt7ilWzc7Ue0aS08GzlgqdbrsF1L2JXUjKfqXmT59FksWrcd74tZOHo0xqXgi++wvyA3hG1z1xKifp73gu+Zs/4Y8Y4taO5qzjXfjSyZt4DFy1ez/rddeJ9PomIDT1zz3pivtPXTBKznpw37OXU5CW12PMkWjWhWyyZvfW5XPrkh25ibX7As+H4O64/F49iiebFp4kWn/lpd2M7c1eexr53KrtnTmK2PqWNqTDkXjakitGHsWrKLpGbdqX52AdNmLWfLwWBSKrvh4WpX6ICKhhifdcydOZdFajzsPhGhlpuHWm7W6uemEbD+JzbsP8XlJC3Z8YkkXjvOjkM3qNGygWGfqSFoyxxWHEyl5s20bM5uUeM32I6WjZ3UuLrddxjcKd/0l/yUMQ8yz2xh1ppAqvdqTfKvKzho8TgDu9dVt11dn9uVfYYP85ck0evdJ9FsnM/ZtoN5xatyyf3WO8afcfVHlxTMtgUzmDV/JVuPRWJey5rQTQfRdHyTF1rY5y9USMnb5splQ53pXv0sC6bNYvmWgwSnVMbNw5W87lFZtk08VB7dMravw+o9z7FvaFWeGfs0URtb0l3t/+rio/lk2DG+3pWOVY1KNK9nTdqZy4z//Dg/ht5uLovC5S1+DNucRoUaNlhHRfP1qCOMPpCVN23JppUni4e74GRZiQ++aUl/1xKbaFHuVeLlhWc5t20ErXpNxSfoMBO76gMnlu1fvMLbk7YSaVWLxk3cqJZ+krUT3+GDeUHq7ttAG8GakZ+yJrwCtVwtubztO4a8Pp4/rxtiSxPKivf6M3TaTmLs6tGohoaTS0Yy4INlXMi1oeOncxnbXR2sNX6HGd89T51C41tRfjn0+JzRPW04Nf9/JUwBLpDJmQVD6f/+LA7cqEKDhs5oTq1kzIA3mLA3Ti4VEP88tX1a/dEnrLhoRZ1G1cnyX8n4ISNYaZhulBu+gRGvDGHKzivY1HGjjuUlNo4fyIBJB7mRF6A5hO1dxvxJHzPm1ziquJhwNTaLCrpwNox4hSFTdnLFpg5udSy5tHE8AwdM4mD+G/+q2NTf1KPfM/i/szic6oS7V0MqXv2TH95/gy//KGVqcN4U0gXMGj2I4SsvYlmrAU7pJ1g+fjAjV4UbzuLcXZ3ThK7gvf5DmbYzBrt6jaihOcmSkQP4YNmFm229NmI1H32ygotWdWhUPQv/leMZMmJl/swtY/YXOWHsXTafSR+P4de4KriYXCU2y4q47V/wytuT2BppRa3GTXCrls7JtRN554N5BBm+/HbrlxUXyunwJHS6ZC4H5E/7Vgv2juWTE7aXZfMn8fGYX4mr4oLJ1ViyKhTvQhad+pt3ucuCWYweNJyVFy2p1cCJ9BPLGT94JKtuO4VNS8SakXy6JpwKtVyxvLyN74a8zvg/rxvKJJfwDSN4ZcgUdl6xoY5bHSwvbWT8wAFMOnhDXSaHuNDThCfp0CVfJsA/hNSk06yZvZhd0Ybv1Zxm89z5LJi9lL1XC9L82ThzEYevWauD1Dt9h8qIfLubPKj08kLOntvGiFa9mOoTxOGJXbFUvzH2TmVv05FP546lu6Mljd+ZwXfP1yl5poQx8WdM/UnzY8bg1/l8eQAa59o4JO1mwtAZ+N9m5lDJ25ZPG7GGkZ+uIbxCLVwtL7PtuyG8Pv5P8rpHxm6bePgoohCdErvTT+nQ76gyP1JrSFOU3OhQ5bnuvyn91mcYUorJuqIM671FcX3tpPJnvM6QlqzM+/h3pdbAs4q/Jj/pYZWamqr4+voanj2atNe3KKN6PKYMWnJJyTGkKbkRysJXvRSvAcuUq2o4Zf05Umnj3ljpOXaPct0QXlkhi5WBrTyVp6edynueuO0jpZ1nN+WznXFK/iJaJe73T5THPB9Xxh3Mykt5VB0/fjwv1h4kuRd/Ul709FLe25SmaK9uUYZ3bqy0fPVnJThb/2q2cuybJxTPx7/MXzZqpfJWS0+l19eHlBsFzU96sLJwYGvFs8cExbuU5qe8iouLUwIDAw3PRLmQfUL57qnGSrNhvynFwym/fVLboknHlRRDWk7IHKWfGr9vrYpVm6IEZevw9orXfyYoR24GaK5ydfOHSmev/yhTA/RBnaFs/7il4t7kdWVxZG7+ImoblrB1uNJeXWbCkRuGdk1959XNyoedvZT/TA0wpBSTtVsZ3d5LeX5WsNqmZisHxz2mePWdqQQXNLDZwcqsVx5T+kw6+JdtyZP1pzKyjbvi+ewUxT/NkJYTrMzs66l4DVyhXFNX5O7qXKKy7aN2ime3z5SdcYY3aeOU3z95TK3L45SDWVnKnyPbKO6eTyuTjt/MSSVkTj/F0+stZVWs1qj9hZKxXfm4pbvS5PXFyq2svK5sGdVDeWzQEuXSrTcqEQtfVby8BijL8t54p/VTlOT1Q9XlBytrE/JeNKp8MrZ/rLR0b6K8vjhS/cbSZCm7R6sx8vysvHIqiKlnp/grt4pgptJXjamBK64ZUooxlFvjnmOVPbd2lMriga0Uz6enKafUMNMmbFWGq7HxnwlHbpVb7lVl84ed1ficquSFopKsrB+q5ufgtYp+M7VxvyhDWzRXhv6Sv2/NCZmtvNCkldK6ZStl2OZE/RuU7ICpyn+aPKfMDMox4juMy7e7yoOSGFX2xjEq/u5Yf7RK9Mq3lBZefZQpJwriPF05M+cVpYWbum3LrhrSjGGoM417KmP3XDfkZZYSsnig0kqtR9P0hS4eWXLWvAgTnJ5qjffGTrxbS80abS7XI26w72Qa6eqrOTm3OwJogueT9enhYDhTalWRV/9TDavoeA5fkSu+H3amjn2ZtucwS9+ul3djgPS4MAIO+RCuBo6So0FTEAJm7jw3sOvNu0tbub3IC+2tiPA5pj7L5tQxP9JqPkn/bgV3+DOlWq8xLNu0ls86lXAHPfHAMK3eh3Gje2Jzej4Tlp6n+EHn1ONHOJXdmL4DO1GloGW28eC1N7piH+PNQbnAVfzTzFzp0qsFBRP2zOu400B9knwjEbJOcOB4Ko4e9dAEHubgwYPq4wihtvWpaxaJz9EIw7v0H9OC1s4F5zuyOHHgOKmOHtTTBHI4730HORJqS/26ZkT6HDUsdzumuFR3ggsb+PbbBWw5Gko8Hgxfd5itY7tQwbDUX5nh2rknTWwNT83r4Fa/Akp6Cilqm3xXdS77FMf80qj5ZH+6Fdzt3bQavcYsY9Pazyhops1cu9Dr5tRHc+q4N1DzNZkbiTrj9xf69W/RmptZaepI32l7OLz0beqZq12U9DjCAg7hk/9GNPo3Grl+t5ShfNT4aNHauWxnstT3dO7ZhFtF4Eb9CgrpKSmGlJKY4f7cQLre2lHy4gvtsYrw4ViUVg3FAxxPdcSjnobAw/nre/BIKLb162IW6cPREu4bYVr1Mbo0Uwj08SMDHXHHT3C5YV+e98oh8MRpde+by+Uj3kS7PkbXBuZGfEd6mfKt7HlQjDFlb6QyxV+p9SeNE96n0Xj05sWWBXFug+erL9D6LrsqZu7PMbCro6HvY4Xbiy/Q3ioCn2NReSni0VTQNIsCuiy81wfw8qCdeDy1nRZvHuadBddQ20aU27YDJri42KiV/pYKTtZUUbujsaVNbRIPEXXH57uUcYOe5fE2zWn9WG9eHT6dvVdyiwaOqTM1XYtECS7OlSExTv07i+txyZg4Vqd64UXMnWjgXpOKhdPEA8gU5z7j+OxJW07Pn1BsCrCWhLh4cixccC12v32rGjVxJIH4eOM7IkLcFRM77Iv8XokpZmovQavTT6GMJS49l6s7JvLeu+/ybsHjw585kaUjMSHe8B79x1TEvuBjdMnExqWTe3UHE98r9L53P+TnE1noEhMMC96OOW5vfc0Xvapw8dfpfD64D1079eT10XPZH3W7Azgm2FUs/NMk6vaYm2GiqNuj3GWdy7pOXLIJjtWrF9nfmzs1wL1mxZtpJnb2RX/6xdRM/XYtalaqjNxf5K2/fZGBoS7Ol6XjBvHs421o3voxer86nOl7r6jDLCX/LrlGrt9NZSkfNT4q3ixYI+nfUzgj1HwwNzNByc+IUqhtZU3XIutawcWZyiQSF5dDcmwc6blX2THxvULr+y4f/nyCLF0iCfElnFRQ972PPdaYzIDjBGpSOXE8GIfWPXmmZR2STvsRoonhiHcYLo91o7Gl7s7fcT2xbPlW5jz4qzuWvdHKEn+l1J/ceHX7NZg6uVC98KbZu1Kj8t1d2mbqXJOi3SMX8rtH+v6ReFTJQLUIhQsb/HhrXgwpjerw+Rft2bTkKc6t8aJD4btOlEKTU7TRUTK16tDDDNvSbhYhHhrasGWMeG8qu1M86f/JZOat3sqh47v5vG3xwNGgKdKvUsjMzFJ7Rjbq3xZYWZqhZGeTVba9jnhQqJ2lZ8eO5knb08yfsIywnIKCNlHL3hKT3Gwysw1JBrrMDDKxwtJS2hHxzzMpLcwsLdSBgzmtRu8mKCSEkCKPYPZ91dGwoKrIZ1hioXY+zVuNZndQ8feFELzvK8Nyd2DXjAH/p7ar+zczf+InvNqpClF/zubjj+ffvDazbO6yzlmo6WYK2dlZdxgcmBTNhkKM318Uy0ptGMtGvMfU3Sl49v+EyfNWs/XQcXZ/3vbWjbGMXr8CZSmf0rbo3tPfpLEwJTNT7U9ZYVNBH4p5K8zo3UF/Wd+Q4H181bGkG+6ZUatLZxom+OFz1p/jp81p0b4FXh1aUy3yJH7BRzgWXJVOTzTLu2byzt9he2/i2ljGlL2RyhJ/pTKpgLWVOtjOylTrSiGKhttOPrwdtcyLdo/Uz87rHpU+Z0I8/GSgWpgumyM+N8hqUJ8Zn3vw9pMudGhQAfOIlLwbIOhue0pVITQ4KW+KcD4t584kkWRjT5Paks0PNx0J3oc4le3BwMnf8dGAPjzRxh1nizBC9VOQdEr+zQn0tBc5c+ZWlKAJxj8wGVu3xuoTSxq51YHLZziTVOigR+JvjOjek5GbYg0J4kFm6vwsY0c/ie3phczZk2ToTJri5NGIakowJ3yT81Ly5RLue5JrpnVp1EDtFQnxLzG1d8OtJoR4H82/uUmB5AC2LFvPgQuphoRiTO1xy38jR4u+kYAty1h/4ILh+W3o4jg49zNGzvNB6+RJt/7vM37WWha92xhtaCDnCjWpxrvLOmfZiPxm+gxFm+kRdO85kk2xRQ9Y/1UZ9hfF6BK8OXQqG4+Bk/nuowH0eaIN7s4WhIXqf+JDh6J/ozHrV/hoxL0on3tOy0V1/W8Vq4Zg/0CSbd1oXN8aezc3ahKC99GCmyvlSw7YwrL1BygIxeIHXczrdaVzrQiOrt7GyQwv2rayxrJZB1raBLNnznYCbDvSrYV+3qrpnb8j/f7mm1Flb5S7j78iTB3wdHdBCTmJf6EZzLnhZwhOMu4QSXHai2rfp0j3yJ/AZFvcGtc3pIhHkYygCjM1o1plc3Qx8ew4k0lGtoawk5cYNe0yF9X6m5Wl/kdPewmmjIXFPvnP8yjE7DnLuB1JxKVmcuqPQD7bkkadXnXpaWdYRDykTLFxqIKtLorju/yJzcgmOdybVV9+ydpLasxkZ976LTddLFu//5aNQfGkxAay6X9fsTayFn1f7aa+aI77s/1orRxk9ter8ItJJz32FOu/m8eeJCe8mlfL/wzxgDPF+dmxjH6yIsmJGTfPeli2eYkX3VP5Q21blh6/QlrmDc5v/55xy85TqfvL9K4hzbX4F1k2p1//5nBsFp/P2ktYUiapUb4sGzeKcdOW4pNU2oEUS5r3609zjjHr81nsDUsiMzUK32XjGDVuGkt9kgzL3YZpRWyST7Nz4VSm/xFKokZDauRRfj8ahUl9TzwKrqEro7uqc+buPNuvNcrB2Xy9yo+Y9HRiT63nu3l7SHLyonnBdaGlKsP+ohhTGweq2OqIOr4L/9gMspPD8V71JV+uvaQOVrLJ1L/RiPWzsLbCQonnanQqmdmmf7987jkdsVu/59uNQcSnxBK46X98tTaSWn1fpZu9PhT7kR+KnzNrbxhJmalE+S5j3KhxTFvqQ34oWmBtZYESf5VotU+WnTeI96BLJ2fO/7GTqIZtaav/TRqbNnRoqsP/kB8W7bvRVj+5Sb/oHb/jHsR1GRhV9ka5+/grypKW/fvTJOMPpoxZyvHoROJDdjBt/EpCjB40F6WL3cr3324kKD6F2MBN/O+rtUTW6sur+kIvjTaKPQumM2PDKUOCeNhIz6cIC55605Ne9olM/2QXDZ/6gy5jL5HStQnDvEyIvGA46pobAfOnwrqA/Od5TOnYy5nLPx+i+bO76D3lKjmdmvHzUMebF9CLh5ddj2GM6FGJwDlv0qVlM9o9/QErUnoxdmhLTKPPEZRoOOJq3o4XukYy7aXOtO3Sn7E7cuj25Y+M6JAfJWYNBjL5+wE4n5rKG91a0arLK0w4ZEO/byczsEEZrw0S5ZdhCvBTToWaYMum/HfGd7zsEMAPb3andYuO9P1sK1mPjWL2/56h8KJC3H/muA2axpRBDQlfPIze7VvQpudAph635ZmvZvBR29Kn55m7DWLalEE0DF/MsN7tadGmJwOnHsf2ma+Y8VFbw1K3Y0XrYd8yrEUC6z/pow4smtLmyf+y6kZ7Rv5vKE3vdrLBXdU5MxoMnMz3A5w5NfUNurVqRZdXJnDIph/fTh6IMc200fuL4ux6MGxEDyoFzuHNLi1p1u5pPliRQq+xQ2lpGs25oER1oTuvn2WzTrSxD2F+/3b0nux7D8rnXjOn3QtdiZz2Ep3bdqH/2B3kdPuSH0d0yO9PmbsxaNoUBjUMZ/Gw3rRv0YaeA6dy3PYZvprxEfmhaEmzTm2wD5lP/3a9meyrn1SqpnXpQDV1IFarTTtq6svKtAod2jfGwsSedt3ac/O8ghHfcV/zzaiyN85dx18x5u5DmDbxJaqc/IE3e3Sgc99xHK73HN2d7m6KuHm7F+gaOY2XOrelS/+x7Mjpxpc/jsDQPSqZ9grHflnE4u1BhgTxsDHR3/rX8LcooMnmQmgKsVpL6jaqWOwHrW9Pl5FOYGgmimNFmtW0LHQR+sNL/6P+wcHBtG37b+zQyhMNCWHnuHBdS6XaHrjXtCvlSJCOtKizBMWAi7sXtSuVECWaeMLOhXFdW4n6nh44G47yPsp8fX3x9PTEzu5hn6Kgj6MgwuIVKtd1p6Fa+A/iGDU+Pp6YmBiaqoMK8XDJTYogKPQq6eYO1G/shrOxl5DlJhERFMrVdHMc6jfGzeg3FsglOTKY0Cvp6viiNh5uNbC9J5Xj7uqcJj6Mc2HX0Vaqj6eHM2Vrpo3dX/yVJkH93gv671XzwL0mdqW88Xbrp0m4QGBIPKbVPWlVr1J+4t8un3tLlxbF2fwdJV61K5XQn8olKSKI0KvpmDvUp7Gbc7E7QKt5fCGQkHhTqnu2oF6luwmWO32H6j7mm7Flf2d3H39/kRHL+eAIMis3pGmDqvyti1R0aUSdDSIGF9y9alNS90g8WmSgKv42GaiK++HRGag+HGSgKoQQQoi/464PoAghhBBCCCGEEP8EGagKIYQQQgghhChXZKAqhBBCCCGEEKJckYGqEEIIIYQQQohyRQaqQgghhBBCCCHKFRmoCiGEEEIIIYQoV2SgKoQQQgghhBCiXJGBqhBCCCGEEEKIckUGqkIIIYQQQgghyhUZqAohhBBCCCGEKFdMFJXh7zs6efIkGo3G8EyIfDqdjpycHKysrAwpQtx72dnZWFhYYGoqx9ceBFqtNu9haWlpSBFCCCHEw6xKlSq4u7sbnv19ZRqoZmVlUYbFxSNCBqrifpCB6oNFBqpCCCHEo0XfR7uX44EyDVSFEEIIIYQQQoh/mpyaEEIIIYQQQghRrshAVQghhBBCCCFEuSIDVSGEEEIIIYQQ5YoMVIUQQgghhBBClCsyUBVCCCGEEEIIUa7IQFUIIYQQQgghRLkiA1UhhBBCCCGEEOWKDFSFEEIIIYQQQpQrMlAVQgghhBBCCFGuyEBVCCGEEEIIIUQ5Av8PwlT7Jo1TZ6gAAAAASUVORK5CYII=)"
      ],
      "metadata": {
        "id": "1MyrlUOuskup"
      }
    },
    {
      "cell_type": "code",
      "execution_count": 13,
      "metadata": {
        "id": "WemV5NR4S2RP"
      },
      "outputs": [],
      "source": [
        "# Target strings.\n",
        "x1 = \"ct\"\n",
        "x2 = \"cat\"\n",
        "x3 = \"caat\""
      ]
    },
    {
      "cell_type": "code",
      "execution_count": 14,
      "metadata": {
        "id": "GYPqUzC6S2RP"
      },
      "outputs": [],
      "source": [
        "# A regular expression.\n",
        "my_expression = re.compile(\"c.t\")"
      ]
    },
    {
      "cell_type": "code",
      "execution_count": 15,
      "metadata": {
        "colab": {
          "base_uri": "https://localhost:8080/"
        },
        "id": "uvCeZummS2RP",
        "outputId": "3dd0c274-79c3-4879-d6a7-7078cec35498"
      },
      "outputs": [
        {
          "output_type": "stream",
          "name": "stdout",
          "text": [
            "No\n"
          ]
        }
      ],
      "source": [
        "if my_expression.search(x1):\n",
        "    print(\"Yes!\")\n",
        "else:\n",
        "    print(\"No\")"
      ]
    },
    {
      "cell_type": "code",
      "execution_count": 16,
      "metadata": {
        "colab": {
          "base_uri": "https://localhost:8080/"
        },
        "id": "JG1Dn6f4S2RP",
        "outputId": "d97b745f-7149-461f-cb96-1bd8173b3a5f"
      },
      "outputs": [
        {
          "output_type": "stream",
          "name": "stdout",
          "text": [
            "Yes!\n"
          ]
        }
      ],
      "source": [
        "if my_expression.search(x2):\n",
        "    print(\"Yes!\")\n",
        "else:\n",
        "    print(\"No\")"
      ]
    },
    {
      "cell_type": "code",
      "execution_count": 17,
      "metadata": {
        "colab": {
          "base_uri": "https://localhost:8080/"
        },
        "id": "FJfIaAfeS2RQ",
        "outputId": "20774b78-5012-40be-e9f7-e134d3f2a1d0"
      },
      "outputs": [
        {
          "output_type": "stream",
          "name": "stdout",
          "text": [
            "No\n"
          ]
        }
      ],
      "source": [
        "if my_expression.search(x3):\n",
        "    print(\"Yes!\")\n",
        "else:\n",
        "    print(\"No\")"
      ]
    },
    {
      "cell_type": "markdown",
      "metadata": {
        "id": "J3wK6gq8S2RQ"
      },
      "source": [
        "#### 2.2. Metacharacter: ?"
      ]
    },
    {
      "cell_type": "markdown",
      "source": [
        "Pattern where the preceding character does not appear or appears just once."
      ],
      "metadata": {
        "id": "mYakB0a33rR6"
      }
    },
    {
      "cell_type": "markdown",
      "source": [
        "![regex15.png](data:image/png;base64,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)"
      ],
      "metadata": {
        "id": "LfjecsmVtLj8"
      }
    },
    {
      "cell_type": "code",
      "source": [
        "# Target strings.\n",
        "x1 = \"ct\"\n",
        "x2 = \"cat\"\n",
        "x3 = \"caat\""
      ],
      "metadata": {
        "id": "hopJL6WR35Fc"
      },
      "execution_count": 1,
      "outputs": []
    },
    {
      "cell_type": "code",
      "execution_count": 2,
      "metadata": {
        "id": "gjmo5AiMS2RQ"
      },
      "outputs": [],
      "source": [
        "# A regular expression.\n",
        "my_exp = \"ca?t\""
      ]
    },
    {
      "cell_type": "code",
      "execution_count": 51,
      "metadata": {
        "colab": {
          "base_uri": "https://localhost:8080/"
        },
        "id": "Vxv1W8hHS2RQ",
        "outputId": "2bdb05cc-8ff7-4818-e330-3a12d4750155"
      },
      "outputs": [
        {
          "output_type": "stream",
          "name": "stdout",
          "text": [
            "No\n"
          ]
        }
      ],
      "source": [
        "if re.search(my_exp, x1):# “a” does not appear.\n",
        "    print(\"Yes!\")\n",
        "else:\n",
        "    print(\"No\")"
      ]
    },
    {
      "cell_type": "code",
      "execution_count": 52,
      "metadata": {
        "colab": {
          "base_uri": "https://localhost:8080/"
        },
        "id": "F60XDYqHS2RR",
        "outputId": "e393a8e7-bf38-4adc-8b3f-3bdc48f0e993"
      },
      "outputs": [
        {
          "output_type": "stream",
          "name": "stdout",
          "text": [
            "No\n"
          ]
        }
      ],
      "source": [
        "if re.search(my_exp, x2):# “a” appears once.\n",
        "    print(\"Yes!\")\n",
        "else:\n",
        "    print(\"No\")"
      ]
    },
    {
      "cell_type": "code",
      "execution_count": 53,
      "metadata": {
        "colab": {
          "base_uri": "https://localhost:8080/"
        },
        "id": "X7dIil94S2RR",
        "outputId": "6c79d9a2-3a22-4e41-b21c-d1a87f9c6b0a"
      },
      "outputs": [
        {
          "output_type": "stream",
          "name": "stdout",
          "text": [
            "Yes!\n"
          ]
        }
      ],
      "source": [
        "if re.search(my_exp, x3):# “a” is repeated twice (more than once).\n",
        "    print(\"Yes!\")\n",
        "else:\n",
        "    print(\"No\")"
      ]
    },
    {
      "cell_type": "markdown",
      "metadata": {
        "id": "PkPPnksKS2RR"
      },
      "source": [
        "#### 2.3. Metacharacter: {m,n}"
      ]
    },
    {
      "cell_type": "markdown",
      "source": [
        "Pattern where the preceding character is repeated from m to n times."
      ],
      "metadata": {
        "id": "Yw3ivmlT4Rti"
      }
    },
    {
      "cell_type": "markdown",
      "source": [
        "![regex16.png](data:image/png;base64,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)"
      ],
      "metadata": {
        "id": "x63E__9xtaTI"
      }
    },
    {
      "cell_type": "code",
      "execution_count": 18,
      "metadata": {
        "id": "mnM976ytS2RS"
      },
      "outputs": [],
      "source": [
        "# Target strings.\n",
        "x1 = \"ct\"\n",
        "x2 = \"cat\"\n",
        "x3 = \"caat\"\n",
        "x4 = \"caaat\""
      ]
    },
    {
      "cell_type": "code",
      "execution_count": 19,
      "metadata": {
        "id": "_h-2E7F2S2RS"
      },
      "outputs": [],
      "source": [
        "# A regular expression.\n",
        "my_exp= \"ca{1,2}t\""
      ]
    },
    {
      "cell_type": "code",
      "execution_count": 20,
      "metadata": {
        "id": "jKtO6wHPS2RS",
        "colab": {
          "base_uri": "https://localhost:8080/"
        },
        "outputId": "ac40b2c3-f690-406a-adb6-1da42b442d9c"
      },
      "outputs": [
        {
          "output_type": "stream",
          "name": "stdout",
          "text": [
            "No\n"
          ]
        }
      ],
      "source": [
        "if re.search(my_exp, x1):\n",
        "    print(\"Yes!\")\n",
        "else:\n",
        "    print(\"No\")"
      ]
    },
    {
      "cell_type": "code",
      "execution_count": 21,
      "metadata": {
        "id": "Uwo2aV7CS2RS",
        "colab": {
          "base_uri": "https://localhost:8080/"
        },
        "outputId": "c49f28a4-da0c-4ea9-d7b1-ca06458325a2"
      },
      "outputs": [
        {
          "output_type": "stream",
          "name": "stdout",
          "text": [
            "Yes!\n"
          ]
        }
      ],
      "source": [
        "if re.search(my_exp, x2):\n",
        "    print(\"Yes!\")\n",
        "else:\n",
        "    print(\"No\")"
      ]
    },
    {
      "cell_type": "code",
      "execution_count": 22,
      "metadata": {
        "id": "Akk0jSuZS2RS",
        "colab": {
          "base_uri": "https://localhost:8080/"
        },
        "outputId": "b9a4d27e-4edc-4244-d27c-098272b9847e"
      },
      "outputs": [
        {
          "output_type": "stream",
          "name": "stdout",
          "text": [
            "Yes!\n"
          ]
        }
      ],
      "source": [
        "if re.search(my_exp, x3):\n",
        "    print(\"Yes!\")\n",
        "else:\n",
        "    print(\"No\")"
      ]
    },
    {
      "cell_type": "code",
      "execution_count": 23,
      "metadata": {
        "id": "cb7AHLNsS2RS",
        "colab": {
          "base_uri": "https://localhost:8080/"
        },
        "outputId": "15eabebb-7c5a-46b1-b7c7-5c1382256bd5"
      },
      "outputs": [
        {
          "output_type": "stream",
          "name": "stdout",
          "text": [
            "No\n"
          ]
        }
      ],
      "source": [
        "if re.search(my_exp, x4):\n",
        "    print(\"Yes!\")\n",
        "else:\n",
        "    print(\"No\")"
      ]
    },
    {
      "cell_type": "markdown",
      "metadata": {
        "id": "jtQpKH0ES2RS"
      },
      "source": [
        "#### 2.4. Metacharacter: ^"
      ]
    },
    {
      "cell_type": "markdown",
      "source": [
        "Pattern after the ^ matches with the beginning of a string or text."
      ],
      "metadata": {
        "id": "LzzeSGSH4c4e"
      }
    },
    {
      "cell_type": "code",
      "execution_count": 24,
      "metadata": {
        "id": "lVDPB3MDS2RT"
      },
      "outputs": [],
      "source": [
        "# Target strings.\n",
        "x1 = \"That is your book.\"\n",
        "x2 = \"This is my book.\""
      ]
    },
    {
      "cell_type": "code",
      "execution_count": 25,
      "metadata": {
        "id": "cYs9jy8AS2RT"
      },
      "outputs": [],
      "source": [
        "# A regular expression.\n",
        "my_exp = \"^This\""
      ]
    },
    {
      "cell_type": "code",
      "execution_count": 26,
      "metadata": {
        "colab": {
          "base_uri": "https://localhost:8080/"
        },
        "id": "U1D80UBzS2RT",
        "outputId": "d871edd6-4598-4275-9a0d-3e06bd332c87"
      },
      "outputs": [
        {
          "output_type": "stream",
          "name": "stdout",
          "text": [
            "No\n"
          ]
        }
      ],
      "source": [
        "if re.search(my_exp, x1):\n",
        "    print(\"Yes!\")\n",
        "else:\n",
        "    print(\"No\")"
      ]
    },
    {
      "cell_type": "code",
      "execution_count": 27,
      "metadata": {
        "colab": {
          "base_uri": "https://localhost:8080/"
        },
        "id": "L4tAafBqS2RT",
        "outputId": "f16ddd2d-b8f6-4ee4-d6e7-e50e90817593"
      },
      "outputs": [
        {
          "output_type": "stream",
          "name": "stdout",
          "text": [
            "Yes!\n"
          ]
        }
      ],
      "source": [
        "if re.search(my_exp, x2):\n",
        "    print(\"Yes!\")\n",
        "else:\n",
        "    print(\"No\")"
      ]
    },
    {
      "cell_type": "markdown",
      "metadata": {
        "id": "eHo9q0NWS2RT"
      },
      "source": [
        "#### 2.5. Metacharacter: ^"
      ]
    },
    {
      "cell_type": "code",
      "execution_count": 28,
      "metadata": {
        "id": "zkzV6-M6S2RT"
      },
      "outputs": [],
      "source": [
        "# Target strings.\n",
        "x1 = \"I don't like you\"\n",
        "x2 = \"You are great\"\n",
        "x3 = \"in case you forget, remember this\""
      ]
    },
    {
      "cell_type": "code",
      "execution_count": 29,
      "metadata": {
        "id": "kTwlMPNOS2RU"
      },
      "outputs": [],
      "source": [
        "# A regular expression.\n",
        "my_exp = \"^[Ii]\""
      ]
    },
    {
      "cell_type": "code",
      "execution_count": 30,
      "metadata": {
        "colab": {
          "base_uri": "https://localhost:8080/"
        },
        "id": "ZA40_fskS2RU",
        "outputId": "5765a0b6-5639-4d2e-d6d1-18d36d38f3cb"
      },
      "outputs": [
        {
          "output_type": "stream",
          "name": "stdout",
          "text": [
            "Yes!\n"
          ]
        }
      ],
      "source": [
        "if re.search(my_exp, x1):\n",
        "    print(\"Yes!\")\n",
        "else:\n",
        "    print(\"No\")"
      ]
    },
    {
      "cell_type": "code",
      "execution_count": 31,
      "metadata": {
        "colab": {
          "base_uri": "https://localhost:8080/"
        },
        "id": "zrzigVCrS2RV",
        "outputId": "a985ada1-0972-4f28-b908-7386087d200f"
      },
      "outputs": [
        {
          "output_type": "stream",
          "name": "stdout",
          "text": [
            "No\n"
          ]
        }
      ],
      "source": [
        "if re.search(my_exp, x2):\n",
        "    print(\"Yes!\")\n",
        "else:\n",
        "    print(\"No\")"
      ]
    },
    {
      "cell_type": "code",
      "execution_count": 32,
      "metadata": {
        "colab": {
          "base_uri": "https://localhost:8080/"
        },
        "id": "-h2M9u4qS2RV",
        "outputId": "390b81e9-6f72-4e54-d93b-c3421f0816bb"
      },
      "outputs": [
        {
          "output_type": "stream",
          "name": "stdout",
          "text": [
            "Yes!\n"
          ]
        }
      ],
      "source": [
        "if re.search(my_exp, x3):\n",
        "    print(\"Yes!\")\n",
        "else:\n",
        "    print(\"No\")"
      ]
    },
    {
      "cell_type": "markdown",
      "metadata": {
        "id": "1UodY0wGS2RV"
      },
      "source": [
        "More examples:"
      ]
    },
    {
      "cell_type": "code",
      "execution_count": 33,
      "metadata": {
        "id": "YZvbzxIoS2RV"
      },
      "outputs": [],
      "source": [
        "# Target strings.\n",
        "x1 = \"This is year 2019\"\n",
        "x2 = \"2000 is the year of my birth\""
      ]
    },
    {
      "cell_type": "code",
      "execution_count": 34,
      "metadata": {
        "id": "wT0HzT4bS2RV"
      },
      "outputs": [],
      "source": [
        "# A regular expression.\n",
        "my_exp = \"^[0-9]\""
      ]
    },
    {
      "cell_type": "code",
      "execution_count": 35,
      "metadata": {
        "colab": {
          "base_uri": "https://localhost:8080/"
        },
        "id": "NoDzNf69S2RV",
        "outputId": "86e06e3c-4c49-441f-fa1d-fc315fb16c93"
      },
      "outputs": [
        {
          "output_type": "stream",
          "name": "stdout",
          "text": [
            "No\n"
          ]
        }
      ],
      "source": [
        "if re.search(my_exp, x1):\n",
        "    print(\"Yes!\")\n",
        "else:\n",
        "    print(\"No\")"
      ]
    },
    {
      "cell_type": "code",
      "execution_count": 36,
      "metadata": {
        "colab": {
          "base_uri": "https://localhost:8080/"
        },
        "id": "VUH9J6X5S2RW",
        "outputId": "63a7ca08-cc61-4ba9-e88f-2e54a3de400a"
      },
      "outputs": [
        {
          "output_type": "stream",
          "name": "stdout",
          "text": [
            "Yes!\n"
          ]
        }
      ],
      "source": [
        "if re.search(my_exp, x2):\n",
        "    print(\"Yes!\")\n",
        "else:\n",
        "    print(\"No\")"
      ]
    },
    {
      "cell_type": "markdown",
      "metadata": {
        "id": "7Q3e5ahFS2RW"
      },
      "source": [
        "#### 2.6. Metacharacter: $"
      ]
    },
    {
      "cell_type": "markdown",
      "source": [
        "![reges.png](data:image/png;base64,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)"
      ],
      "metadata": {
        "id": "BZBecc6w6hsd"
      }
    },
    {
      "cell_type": "code",
      "execution_count": 62,
      "metadata": {
        "id": "u5AgLP7bS2RW"
      },
      "outputs": [],
      "source": [
        "# Target strings.\n",
        "x1 = \"Python is easy\"\n",
        "x2 = \"You need Python\""
      ]
    },
    {
      "cell_type": "code",
      "execution_count": 63,
      "metadata": {
        "id": "IaxKmRVSS2RW"
      },
      "outputs": [],
      "source": [
        "# A regular expression.\n",
        "my_exp = \"Python$\""
      ]
    },
    {
      "cell_type": "code",
      "execution_count": 64,
      "metadata": {
        "colab": {
          "base_uri": "https://localhost:8080/"
        },
        "id": "oHYos2nZS2RW",
        "outputId": "86b971e8-8773-4574-e67c-cf5b84811e89"
      },
      "outputs": [
        {
          "output_type": "stream",
          "name": "stdout",
          "text": [
            "No\n"
          ]
        }
      ],
      "source": [
        "if re.search(my_exp, x1):\n",
        "    print(\"Yes!\")\n",
        "else:\n",
        "    print(\"No\")"
      ]
    },
    {
      "cell_type": "code",
      "execution_count": 65,
      "metadata": {
        "colab": {
          "base_uri": "https://localhost:8080/"
        },
        "id": "-QVs-OO1S2RW",
        "outputId": "91c1d26a-599a-4433-89f7-a991a3a06199"
      },
      "outputs": [
        {
          "output_type": "stream",
          "name": "stdout",
          "text": [
            "Yes!\n"
          ]
        }
      ],
      "source": [
        "if re.search(my_exp, x2):\n",
        "    print(\"Yes!\")\n",
        "else:\n",
        "    print(\"No\")"
      ]
    },
    {
      "cell_type": "markdown",
      "metadata": {
        "id": "Qpu53DpwS2RW"
      },
      "source": [
        "#### 2.7. Metacharacter: |"
      ]
    },
    {
      "cell_type": "markdown",
      "source": [
        "Used to join patterns by the logical or"
      ],
      "metadata": {
        "id": "zVce4NKE6tkN"
      }
    },
    {
      "cell_type": "code",
      "execution_count": 41,
      "metadata": {
        "id": "PKvUlJCAS2RX"
      },
      "outputs": [],
      "source": [
        "# Target strings.\n",
        "x1 = \"I love you\"\n",
        "x2 = \"I hate you\"\n",
        "x3 = \"I like you\""
      ]
    },
    {
      "cell_type": "code",
      "execution_count": 42,
      "metadata": {
        "id": "9MQpRUMZS2RX"
      },
      "outputs": [],
      "source": [
        "# A regular expression.\n",
        "my_exp = \"love|hate\""
      ]
    },
    {
      "cell_type": "code",
      "execution_count": 43,
      "metadata": {
        "colab": {
          "base_uri": "https://localhost:8080/"
        },
        "id": "Jfk_9RHWS2RX",
        "outputId": "a90212cf-23cf-460c-e7f6-b91071282fd0"
      },
      "outputs": [
        {
          "output_type": "stream",
          "name": "stdout",
          "text": [
            "Yes!\n"
          ]
        }
      ],
      "source": [
        "if re.search(my_exp, x1):\n",
        "    print(\"Yes!\")\n",
        "else:\n",
        "    print(\"No\")"
      ]
    },
    {
      "cell_type": "code",
      "execution_count": 44,
      "metadata": {
        "colab": {
          "base_uri": "https://localhost:8080/"
        },
        "id": "ROM_WXCoS2RX",
        "outputId": "d778b47a-9e35-45e9-fedc-a3791ce833d1"
      },
      "outputs": [
        {
          "output_type": "stream",
          "name": "stdout",
          "text": [
            "Yes!\n"
          ]
        }
      ],
      "source": [
        "if re.search(my_exp, x2):\n",
        "    print(\"Yes!\")\n",
        "else:\n",
        "    print(\"No\")"
      ]
    },
    {
      "cell_type": "code",
      "execution_count": 45,
      "metadata": {
        "colab": {
          "base_uri": "https://localhost:8080/"
        },
        "id": "9mEFWO6pS2RX",
        "outputId": "a85a9c5e-3447-4937-946d-840b5f1e8abc"
      },
      "outputs": [
        {
          "output_type": "stream",
          "name": "stdout",
          "text": [
            "No\n"
          ]
        }
      ],
      "source": [
        "if re.search(my_exp, x3):\n",
        "    print(\"Yes!\")\n",
        "else:\n",
        "    print(\"No\")"
      ]
    },
    {
      "cell_type": "markdown",
      "metadata": {
        "id": "V0UZMp-8S2RX"
      },
      "source": [
        "#### 2.8. sub() function:"
      ]
    },
    {
      "cell_type": "code",
      "execution_count": 46,
      "metadata": {
        "id": "CQssL7Q3S2RY"
      },
      "outputs": [],
      "source": [
        "# Target strings.\n",
        "x1 = \"Welcome to the year 2018\"\n",
        "x2 = \"Just ~%* ++++--- arrived at @Jack's ##place.\"\n",
        "x3 = \"I                  love                you.\""
      ]
    },
    {
      "cell_type": "markdown",
      "source": [
        "![regex22.png](data:image/png;base64,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)"
      ],
      "metadata": {
        "id": "DIYaA8iT71QA"
      }
    },
    {
      "cell_type": "code",
      "execution_count": 47,
      "metadata": {
        "colab": {
          "base_uri": "https://localhost:8080/",
          "height": 35
        },
        "id": "gFhuSy_rS2RY",
        "outputId": "1a15a46d-cea2-4ad8-fd20-546283e0e4ce"
      },
      "outputs": [
        {
          "output_type": "execute_result",
          "data": {
            "text/plain": [
              "'Welcome to the year XXXX'"
            ],
            "application/vnd.google.colaboratory.intrinsic+json": {
              "type": "string"
            }
          },
          "metadata": {},
          "execution_count": 47
        }
      ],
      "source": [
        "# Substitute the matching pattern with 'X'.\n",
        "re.sub('\\d','X',x1)"
      ]
    },
    {
      "cell_type": "code",
      "execution_count": 48,
      "metadata": {
        "colab": {
          "base_uri": "https://localhost:8080/",
          "height": 35
        },
        "id": "4uEflzCeS2RY",
        "outputId": "6758ad66-9e4b-4461-f9ad-f7fd4438508b"
      },
      "outputs": [
        {
          "output_type": "execute_result",
          "data": {
            "text/plain": [
              "\"Just             arrived at  Jack's   place.\""
            ],
            "application/vnd.google.colaboratory.intrinsic+json": {
              "type": "string"
            }
          },
          "metadata": {},
          "execution_count": 48
        }
      ],
      "source": [
        "# Substitute the matching pattern with space.\n",
        "x2_modified = re.sub('[@~*#%+-]',' ',x2)\n",
        "\n",
        "x2_modified"
      ]
    },
    {
      "cell_type": "code",
      "execution_count": 49,
      "metadata": {
        "colab": {
          "base_uri": "https://localhost:8080/",
          "height": 35
        },
        "id": "r__ZkEK6S2RY",
        "outputId": "107011e4-c47a-418d-e0e6-57c4fed33c13"
      },
      "outputs": [
        {
          "output_type": "execute_result",
          "data": {
            "text/plain": [
              "\"Just arrived at Jack's place.\""
            ],
            "application/vnd.google.colaboratory.intrinsic+json": {
              "type": "string"
            }
          },
          "metadata": {},
          "execution_count": 49
        }
      ],
      "source": [
        "# Remove the excessive spaces.\n",
        "x2_final = re.sub('\\s+',' ',x2_modified)\n",
        "x2_final"
      ]
    },
    {
      "cell_type": "code",
      "execution_count": 50,
      "metadata": {
        "colab": {
          "base_uri": "https://localhost:8080/",
          "height": 35
        },
        "id": "n4u7NuUlS2RY",
        "outputId": "2f1f2763-0b49-406d-8fa5-6c2c72036ca8"
      },
      "outputs": [
        {
          "output_type": "execute_result",
          "data": {
            "text/plain": [
              "'I love you.'"
            ],
            "application/vnd.google.colaboratory.intrinsic+json": {
              "type": "string"
            }
          },
          "metadata": {},
          "execution_count": 50
        }
      ],
      "source": [
        "# Remove the excessive spaces.\n",
        "re.sub('\\s+',' ',x3)"
      ]
    },
    {
      "cell_type": "code",
      "execution_count": 50,
      "metadata": {
        "id": "RKLjfb_ES2RY"
      },
      "outputs": [],
      "source": []
    }
  ],
  "metadata": {
    "kernelspec": {
      "display_name": "Python 3",
      "language": "python",
      "name": "python3"
    },
    "language_info": {
      "codemirror_mode": {
        "name": "ipython",
        "version": 3
      },
      "file_extension": ".py",
      "mimetype": "text/x-python",
      "name": "python",
      "nbconvert_exporter": "python",
      "pygments_lexer": "ipython3",
      "version": "3.8.8"
    },
    "colab": {
      "provenance": [],
      "include_colab_link": true
    }
  },
  "nbformat": 4,
  "nbformat_minor": 0
}