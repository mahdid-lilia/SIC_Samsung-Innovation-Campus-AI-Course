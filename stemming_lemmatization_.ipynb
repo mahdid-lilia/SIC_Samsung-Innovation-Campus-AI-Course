{
  "cells": [
    {
      "cell_type": "markdown",
      "metadata": {
        "id": "view-in-github",
        "colab_type": "text"
      },
      "source": [
        "<a href=\"https://colab.research.google.com/github/mahdid-lilia/SIC_Samsung-Innovation-Campus-AI-Course/blob/main/stemming_lemmatization_.ipynb\" target=\"_parent\"><img src=\"https://colab.research.google.com/assets/colab-badge.svg\" alt=\"Open In Colab\"/></a>"
      ]
    },
    {
      "cell_type": "markdown",
      "metadata": {
        "id": "DcGAcvrYBGpU"
      },
      "source": [
        "## Coding Exercise #0506"
      ]
    },
    {
      "cell_type": "code",
      "execution_count": 1,
      "metadata": {
        "colab": {
          "base_uri": "https://localhost:8080/"
        },
        "id": "AxAQzQPsBGpZ",
        "outputId": "428e9bbb-d971-4577-c28c-4555348c473c"
      },
      "outputs": [
        {
          "output_type": "stream",
          "name": "stdout",
          "text": [
            "Looking in indexes: https://pypi.org/simple, https://us-python.pkg.dev/colab-wheels/public/simple/\n",
            "Requirement already satisfied: nltk in /usr/local/lib/python3.7/dist-packages (3.7)\n",
            "Requirement already satisfied: tqdm in /usr/local/lib/python3.7/dist-packages (from nltk) (4.64.1)\n",
            "Requirement already satisfied: joblib in /usr/local/lib/python3.7/dist-packages (from nltk) (1.1.0)\n",
            "Requirement already satisfied: regex>=2021.8.3 in /usr/local/lib/python3.7/dist-packages (from nltk) (2022.6.2)\n",
            "Requirement already satisfied: click in /usr/local/lib/python3.7/dist-packages (from nltk) (7.1.2)\n"
          ]
        }
      ],
      "source": [
        "# Install Tweepy once.\n",
        "!pip install nltk"
      ]
    },
    {
      "cell_type": "code",
      "execution_count": 2,
      "metadata": {
        "id": "NVoa4rS0BGpb"
      },
      "outputs": [],
      "source": [
        "import nltk"
      ]
    },
    {
      "cell_type": "code",
      "source": [
        " "
      ],
      "metadata": {
        "id": "DZAiuT_QN4mR"
      },
      "execution_count": 2,
      "outputs": []
    },
    {
      "cell_type": "code",
      "source": [],
      "metadata": {
        "id": "nY0kjV_YN4j_"
      },
      "execution_count": 2,
      "outputs": []
    },
    {
      "cell_type": "code",
      "execution_count": 3,
      "metadata": {
        "colab": {
          "base_uri": "https://localhost:8080/"
        },
        "id": "hXuimGMGBGpc",
        "outputId": "3a47e25f-ac0a-438b-f7b7-27175edad0ca"
      },
      "outputs": [
        {
          "output_type": "stream",
          "name": "stderr",
          "text": [
            "[nltk_data] Downloading package punkt to /root/nltk_data...\n",
            "[nltk_data]   Unzipping tokenizers/punkt.zip.\n"
          ]
        },
        {
          "output_type": "execute_result",
          "data": {
            "text/plain": [
              "True"
            ]
          },
          "metadata": {},
          "execution_count": 3
        }
      ],
      "source": [
        "\n",
        "# You should download the NLTK data once.\n",
        "# It can be a bit time consuming.\n",
        "nltk.download('punkt')\n",
        "nltk.download('wordnet')\n",
        "nltk.download('omw-1.4')"
      ]
    },
    {
      "cell_type": "markdown",
      "metadata": {
        "id": "6bIDLZCWBGpd"
      },
      "source": [
        "### 1. About the NLTK library:"
      ]
    },
    {
      "cell_type": "code",
      "execution_count": 4,
      "metadata": {
        "id": "2LcVWCwiBGpd"
      },
      "outputs": [],
      "source": [
        "#\n",
        "#  From the US president B. Obama's Nov-4th-2008 speech. \n",
        "#\n",
        "\n",
        "paragraph = \"\"\"If there is anyone out there who still doubts that America is a place where all things are possible; who still wonders if the dream of our founders is alive in our time; who still questions the power of our democracy: Tonight is your answer.\n",
        "It's the answer told by lines that stretched around schools and churches in numbers this nation has never seen; by people who waited three hours and four hours, many for the very first time in their lives, because they believed that this time must be different; that their voices could be that difference. \n",
        "It's the answer spoken by young and old, rich and poor, Democrat and Republican, black, white, Hispanic, Asian, Native American, gay, straight, disabled and not disabled -- Americans who sent a message to the world that we have never been just a collection of individuals or a collection of Red States and Blue States: we are, and always will be, the United States of America!\n",
        "It's the answer that -- that led those who have been told for so long by so many to be cynical, and fearful, and doubtful about what we can achieve to put their hands on the arc of history and bend it once more toward the hope of a better day.\n",
        "It's been a long time coming, but tonight, because of what we did on this day, in this election, at this defining moment, change has come to America.\n",
        "A little bit earlier this evening, I received an extraordinarily gracious call from Senator McCain. Senator McCain fought long and hard in this campaign, and he's fought even longer and harder for the country that he loves. He has endured sacrifices for America that most of us cannot begin to imagine. We are better off for the service rendered by this brave and selfless leader. I congratulate him; I congratulate Governor Palin for all that they've achieved, and I look forward to working with them to renew this nation's promise in the months ahead.\n",
        "I want to thank my partner in this journey, a man who campaigned from his heart and spoke for the men and women he grew up with on the streets of Scranton and rode with on the train home to Delaware, the Vice President-elect of the United States, Joe Biden. \"\"\"                  "
      ]
    },
    {
      "cell_type": "markdown",
      "metadata": {
        "id": "gffxLelGBGpf"
      },
      "source": [
        "#### 1.1. Tokenization: "
      ]
    },
    {
      "cell_type": "code",
      "execution_count": 5,
      "metadata": {
        "colab": {
          "base_uri": "https://localhost:8080/"
        },
        "id": "NCyjcRsMBGpf",
        "outputId": "1f5c4207-5773-4589-f34b-92850c51a353"
      },
      "outputs": [
        {
          "output_type": "stream",
          "name": "stdout",
          "text": [
            "['If there is anyone out there who still doubts that America is a place where all things are possible; who still wonders if the dream of our founders is alive in our time; who still questions the power of our democracy: Tonight is your answer.', \"It's the answer told by lines that stretched around schools and churches in numbers this nation has never seen; by people who waited three hours and four hours, many for the very first time in their lives, because they believed that this time must be different; that their voices could be that difference.\", \"It's the answer spoken by young and old, rich and poor, Democrat and Republican, black, white, Hispanic, Asian, Native American, gay, straight, disabled and not disabled -- Americans who sent a message to the world that we have never been just a collection of individuals or a collection of Red States and Blue States: we are, and always will be, the United States of America!\", \"It's the answer that -- that led those who have been told for so long by so many to be cynical, and fearful, and doubtful about what we can achieve to put their hands on the arc of history and bend it once more toward the hope of a better day.\", \"It's been a long time coming, but tonight, because of what we did on this day, in this election, at this defining moment, change has come to America.\", 'A little bit earlier this evening, I received an extraordinarily gracious call from Senator McCain.', \"Senator McCain fought long and hard in this campaign, and he's fought even longer and harder for the country that he loves.\", 'He has endured sacrifices for America that most of us cannot begin to imagine.', 'We are better off for the service rendered by this brave and selfless leader.', \"I congratulate him; I congratulate Governor Palin for all that they've achieved, and I look forward to working with them to renew this nation's promise in the months ahead.\", 'I want to thank my partner in this journey, a man who campaigned from his heart and spoke for the men and women he grew up with on the streets of Scranton and rode with on the train home to Delaware, the Vice President-elect of the United States, Joe Biden.']\n"
          ]
        }
      ],
      "source": [
        "# Tokenize into sentences.\n",
        "sentences = nltk.sent_tokenize(paragraph)\n",
        "print(sentences)"
      ]
    },
    {
      "cell_type": "code",
      "execution_count": 6,
      "metadata": {
        "id": "NILhIEvCBGpg",
        "colab": {
          "base_uri": "https://localhost:8080/"
        },
        "outputId": "9c0d7163-f77b-4b23-953a-b476e39c7277"
      },
      "outputs": [
        {
          "output_type": "stream",
          "name": "stdout",
          "text": [
            "['If', 'there', 'is', 'anyone', 'out', 'there', 'who', 'still', 'doubts', 'that', 'America', 'is', 'a', 'place', 'where', 'all', 'things', 'are', 'possible', ';', 'who', 'still', 'wonders', 'if', 'the', 'dream', 'of', 'our', 'founders', 'is', 'alive', 'in', 'our', 'time', ';', 'who', 'still', 'questions', 'the', 'power', 'of', 'our', 'democracy', ':', 'Tonight', 'is', 'your', 'answer', '.', 'It', \"'s\", 'the', 'answer', 'told', 'by', 'lines', 'that', 'stretched', 'around', 'schools', 'and', 'churches', 'in', 'numbers', 'this', 'nation', 'has', 'never', 'seen', ';', 'by', 'people', 'who', 'waited', 'three', 'hours', 'and', 'four', 'hours', ',', 'many', 'for', 'the', 'very', 'first', 'time', 'in', 'their', 'lives', ',', 'because', 'they', 'believed', 'that', 'this', 'time', 'must', 'be', 'different', ';', 'that', 'their', 'voices', 'could', 'be', 'that', 'difference', '.', 'It', \"'s\", 'the', 'answer', 'spoken', 'by', 'young', 'and', 'old', ',', 'rich', 'and', 'poor', ',', 'Democrat', 'and', 'Republican', ',', 'black', ',', 'white', ',', 'Hispanic', ',', 'Asian', ',', 'Native', 'American', ',', 'gay', ',', 'straight', ',', 'disabled', 'and', 'not', 'disabled', '--', 'Americans', 'who', 'sent', 'a', 'message', 'to', 'the', 'world', 'that', 'we', 'have', 'never', 'been', 'just', 'a', 'collection', 'of', 'individuals', 'or', 'a', 'collection', 'of', 'Red', 'States', 'and', 'Blue', 'States', ':', 'we', 'are', ',', 'and', 'always', 'will', 'be', ',', 'the', 'United', 'States', 'of', 'America', '!', 'It', \"'s\", 'the', 'answer', 'that', '--', 'that', 'led', 'those', 'who', 'have', 'been', 'told', 'for', 'so', 'long', 'by', 'so', 'many', 'to', 'be', 'cynical', ',', 'and', 'fearful', ',', 'and', 'doubtful', 'about', 'what', 'we', 'can', 'achieve', 'to', 'put', 'their', 'hands', 'on', 'the', 'arc', 'of', 'history', 'and', 'bend', 'it', 'once', 'more', 'toward', 'the', 'hope', 'of', 'a', 'better', 'day', '.', 'It', \"'s\", 'been', 'a', 'long', 'time', 'coming', ',', 'but', 'tonight', ',', 'because', 'of', 'what', 'we', 'did', 'on', 'this', 'day', ',', 'in', 'this', 'election', ',', 'at', 'this', 'defining', 'moment', ',', 'change', 'has', 'come', 'to', 'America', '.', 'A', 'little', 'bit', 'earlier', 'this', 'evening', ',', 'I', 'received', 'an', 'extraordinarily', 'gracious', 'call', 'from', 'Senator', 'McCain', '.', 'Senator', 'McCain', 'fought', 'long', 'and', 'hard', 'in', 'this', 'campaign', ',', 'and', 'he', \"'s\", 'fought', 'even', 'longer', 'and', 'harder', 'for', 'the', 'country', 'that', 'he', 'loves', '.', 'He', 'has', 'endured', 'sacrifices', 'for', 'America', 'that', 'most', 'of', 'us', 'can', 'not', 'begin', 'to', 'imagine', '.', 'We', 'are', 'better', 'off', 'for', 'the', 'service', 'rendered', 'by', 'this', 'brave', 'and', 'selfless', 'leader', '.', 'I', 'congratulate', 'him', ';', 'I', 'congratulate', 'Governor', 'Palin', 'for', 'all', 'that', 'they', \"'ve\", 'achieved', ',', 'and', 'I', 'look', 'forward', 'to', 'working', 'with', 'them', 'to', 'renew', 'this', 'nation', \"'s\", 'promise', 'in', 'the', 'months', 'ahead', '.', 'I', 'want', 'to', 'thank', 'my', 'partner', 'in', 'this', 'journey', ',', 'a', 'man', 'who', 'campaigned', 'from', 'his', 'heart', 'and', 'spoke', 'for', 'the', 'men', 'and', 'women', 'he', 'grew', 'up', 'with', 'on', 'the', 'streets', 'of', 'Scranton', 'and', 'rode', 'with', 'on', 'the', 'train', 'home', 'to', 'Delaware', ',', 'the', 'Vice', 'President-elect', 'of', 'the', 'United', 'States', ',', 'Joe', 'Biden', '.']\n"
          ]
        }
      ],
      "source": [
        "# Tokenize into words.\n",
        "words = nltk.word_tokenize(paragraph)\n",
        "print(words)"
      ]
    },
    {
      "cell_type": "markdown",
      "metadata": {
        "id": "Yq4gK2eFBGpi"
      },
      "source": [
        "#### 1.2. Stemming:"
      ]
    },
    {
      "cell_type": "markdown",
      "source": [
        "![stemming.png](data:image/png;base64,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)"
      ],
      "metadata": {
        "id": "FkPj7ErVnO6K"
      }
    },
    {
      "cell_type": "code",
      "execution_count": 7,
      "metadata": {
        "id": "32TbMqt7BGpi"
      },
      "outputs": [],
      "source": [
        "from nltk.stem import PorterStemmer, LancasterStemmer, SnowballStemmer\n",
        "# Pick one of the following stemmers.\n",
        "#stemmer = SnowballStemmer('english')\n",
        "#stemmer = LancasterStemmer()\n",
        "stemmer = PorterStemmer()"
      ]
    },
    {
      "cell_type": "code",
      "execution_count": 8,
      "metadata": {
        "id": "MmjIbbJbBGpj"
      },
      "outputs": [],
      "source": [
        "\n",
        "# Stemming.\n",
        "for i in range(len(sentences)):\n",
        "    words = nltk.word_tokenize(sentences[i])               # Tokenize into words.\n",
        "    words = [stemmer.stem(x) for x in words]               # Stemming.\n",
        "    sentences[i] = ' '.join(words)                         # Rejoin the words as a sentence."
      ]
    },
    {
      "cell_type": "code",
      "execution_count": 9,
      "metadata": {
        "id": "zfgkysIiBGpj",
        "colab": {
          "base_uri": "https://localhost:8080/"
        },
        "outputId": "630ae047-46e5-4988-ccb6-14930077bbfe"
      },
      "outputs": [
        {
          "output_type": "stream",
          "name": "stdout",
          "text": [
            "['if there is anyon out there who still doubt that america is a place where all thing are possibl ; who still wonder if the dream of our founder is aliv in our time ; who still question the power of our democraci : tonight is your answer .', \"it 's the answer told by line that stretch around school and church in number thi nation ha never seen ; by peopl who wait three hour and four hour , mani for the veri first time in their live , becaus they believ that thi time must be differ ; that their voic could be that differ .\", \"it 's the answer spoken by young and old , rich and poor , democrat and republican , black , white , hispan , asian , nativ american , gay , straight , disabl and not disabl -- american who sent a messag to the world that we have never been just a collect of individu or a collect of red state and blue state : we are , and alway will be , the unit state of america !\", \"it 's the answer that -- that led those who have been told for so long by so mani to be cynic , and fear , and doubt about what we can achiev to put their hand on the arc of histori and bend it onc more toward the hope of a better day .\", \"it 's been a long time come , but tonight , becaus of what we did on thi day , in thi elect , at thi defin moment , chang ha come to america .\", 'a littl bit earlier thi even , i receiv an extraordinarili graciou call from senat mccain .', \"senat mccain fought long and hard in thi campaign , and he 's fought even longer and harder for the countri that he love .\", 'he ha endur sacrific for america that most of us can not begin to imagin .', 'we are better off for the servic render by thi brave and selfless leader .', \"i congratul him ; i congratul governor palin for all that they 've achiev , and i look forward to work with them to renew thi nation 's promis in the month ahead .\", 'i want to thank my partner in thi journey , a man who campaign from hi heart and spoke for the men and women he grew up with on the street of scranton and rode with on the train home to delawar , the vice president-elect of the unit state , joe biden .']\n"
          ]
        }
      ],
      "source": [
        "\n",
        "print(sentences)"
      ]
    },
    {
      "cell_type": "code",
      "execution_count": 10,
      "metadata": {
        "id": "6VLTXhyfBGpk",
        "colab": {
          "base_uri": "https://localhost:8080/",
          "height": 35
        },
        "outputId": "58fd89a8-9962-4100-dd7a-58c1f1cccf52"
      },
      "outputs": [
        {
          "output_type": "execute_result",
          "data": {
            "text/plain": [
              "'work'"
            ],
            "application/vnd.google.colaboratory.intrinsic+json": {
              "type": "string"
            }
          },
          "metadata": {},
          "execution_count": 10
        }
      ],
      "source": [
        "stemmer.stem(\"worked\")"
      ]
    },
    {
      "cell_type": "code",
      "execution_count": 11,
      "metadata": {
        "id": "MYnFIWSIBGpk",
        "colab": {
          "base_uri": "https://localhost:8080/",
          "height": 35
        },
        "outputId": "bd89565f-cc1c-4655-9251-d08c3c2fe830"
      },
      "outputs": [
        {
          "output_type": "execute_result",
          "data": {
            "text/plain": [
              "'cri'"
            ],
            "application/vnd.google.colaboratory.intrinsic+json": {
              "type": "string"
            }
          },
          "metadata": {},
          "execution_count": 11
        }
      ],
      "source": [
        "stemmer.stem(\"cried\")"
      ]
    },
    {
      "cell_type": "code",
      "execution_count": 12,
      "metadata": {
        "id": "gCPF5zcbBGpk",
        "colab": {
          "base_uri": "https://localhost:8080/",
          "height": 35
        },
        "outputId": "6aa42b77-d6fa-4118-d274-850cded47542"
      },
      "outputs": [
        {
          "output_type": "execute_result",
          "data": {
            "text/plain": [
              "'remembr'"
            ],
            "application/vnd.google.colaboratory.intrinsic+json": {
              "type": "string"
            }
          },
          "metadata": {},
          "execution_count": 12
        }
      ],
      "source": [
        "stemmer.stem(\"remembrance\")"
      ]
    },
    {
      "cell_type": "code",
      "execution_count": 26,
      "metadata": {
        "id": "hwNFEq_TBGpl",
        "colab": {
          "base_uri": "https://localhost:8080/",
          "height": 35
        },
        "outputId": "51df4f95-ed43-4f6b-defc-35d378f7fae1"
      },
      "outputs": [
        {
          "output_type": "execute_result",
          "data": {
            "text/plain": [
              "'happili'"
            ],
            "application/vnd.google.colaboratory.intrinsic+json": {
              "type": "string"
            }
          },
          "metadata": {},
          "execution_count": 26
        }
      ],
      "source": [
        "stemmer.stem(\"happily\")"
      ]
    },
    {
      "cell_type": "code",
      "source": [
        "stemmer.stem(\"lilia\")\n"
      ],
      "metadata": {
        "id": "OpvTHQI5UZP6",
        "outputId": "6c1db635-97ab-4b1b-fce8-d5a9bb156be4",
        "colab": {
          "base_uri": "https://localhost:8080/",
          "height": 35
        }
      },
      "execution_count": 24,
      "outputs": [
        {
          "output_type": "execute_result",
          "data": {
            "text/plain": [
              "'lilia'"
            ],
            "application/vnd.google.colaboratory.intrinsic+json": {
              "type": "string"
            }
          },
          "metadata": {},
          "execution_count": 24
        }
      ]
    },
    {
      "cell_type": "markdown",
      "metadata": {
        "id": "aYPzLriaBGpl"
      },
      "source": [
        "#### 1.3. Lemmatization:"
      ]
    },
    {
      "cell_type": "markdown",
      "source": [
        "![lemmatization.png](data:image/png;base64,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)"
      ],
      "metadata": {
        "id": "89j4hM6snh7G"
      }
    },
    {
      "cell_type": "code",
      "execution_count": 14,
      "metadata": {
        "id": "vE2o3JyEBGpl"
      },
      "outputs": [],
      "source": [
        "from nltk.stem import WordNetLemmatizer\n",
        "from nltk.corpus import wordnet\n",
        "lemmatizer = WordNetLemmatizer()"
      ]
    },
    {
      "cell_type": "code",
      "execution_count": 15,
      "metadata": {
        "id": "Z0mbPeriBGpl"
      },
      "outputs": [],
      "source": [
        "# Reset to the original sentences.\n",
        "sentences = nltk.sent_tokenize(paragraph)"
      ]
    },
    {
      "cell_type": "code",
      "execution_count": 16,
      "metadata": {
        "id": "vOSOcoXXBGpm"
      },
      "outputs": [],
      "source": [
        "# Lemmatization.\n",
        "for i in range(len(sentences)):\n",
        "    words = nltk.word_tokenize(sentences[i])              # Tokenize into words.\n",
        "    words = [lemmatizer.lemmatize(x) for x in words]      # Lemmatization. \n",
        "    sentences[i] = ' '.join(words)                        # Rejoin the words as a sentence."
      ]
    },
    {
      "cell_type": "code",
      "execution_count": 17,
      "metadata": {
        "id": "d7NH_1vJBGpm",
        "colab": {
          "base_uri": "https://localhost:8080/"
        },
        "outputId": "14d214a4-229a-48ca-9f69-3b8a6dccad31"
      },
      "outputs": [
        {
          "output_type": "stream",
          "name": "stdout",
          "text": [
            "['If there is anyone out there who still doubt that America is a place where all thing are possible ; who still wonder if the dream of our founder is alive in our time ; who still question the power of our democracy : Tonight is your answer .', \"It 's the answer told by line that stretched around school and church in number this nation ha never seen ; by people who waited three hour and four hour , many for the very first time in their life , because they believed that this time must be different ; that their voice could be that difference .\", \"It 's the answer spoken by young and old , rich and poor , Democrat and Republican , black , white , Hispanic , Asian , Native American , gay , straight , disabled and not disabled -- Americans who sent a message to the world that we have never been just a collection of individual or a collection of Red States and Blue States : we are , and always will be , the United States of America !\", \"It 's the answer that -- that led those who have been told for so long by so many to be cynical , and fearful , and doubtful about what we can achieve to put their hand on the arc of history and bend it once more toward the hope of a better day .\", \"It 's been a long time coming , but tonight , because of what we did on this day , in this election , at this defining moment , change ha come to America .\", 'A little bit earlier this evening , I received an extraordinarily gracious call from Senator McCain .', \"Senator McCain fought long and hard in this campaign , and he 's fought even longer and harder for the country that he love .\", 'He ha endured sacrifice for America that most of u can not begin to imagine .', 'We are better off for the service rendered by this brave and selfless leader .', \"I congratulate him ; I congratulate Governor Palin for all that they 've achieved , and I look forward to working with them to renew this nation 's promise in the month ahead .\", 'I want to thank my partner in this journey , a man who campaigned from his heart and spoke for the men and woman he grew up with on the street of Scranton and rode with on the train home to Delaware , the Vice President-elect of the United States , Joe Biden .']\n"
          ]
        }
      ],
      "source": [
        "print(sentences)"
      ]
    },
    {
      "cell_type": "markdown",
      "metadata": {
        "id": "TAfYM6WrBGpm"
      },
      "source": [
        "Some more examples with the POS tags specified."
      ]
    },
    {
      "cell_type": "code",
      "execution_count": 18,
      "metadata": {
        "id": "pgv0XwUtBGpm",
        "colab": {
          "base_uri": "https://localhost:8080/",
          "height": 35
        },
        "outputId": "2b51b153-9adb-4243-9de9-a65f0779749c"
      },
      "outputs": [
        {
          "output_type": "execute_result",
          "data": {
            "text/plain": [
              "'dog'"
            ],
            "application/vnd.google.colaboratory.intrinsic+json": {
              "type": "string"
            }
          },
          "metadata": {},
          "execution_count": 18
        }
      ],
      "source": [
        "lemmatizer.lemmatize(\"dogs\",wordnet.NOUN)    "
      ]
    },
    {
      "cell_type": "code",
      "execution_count": 19,
      "metadata": {
        "id": "eQsyn9t7BGpn",
        "colab": {
          "base_uri": "https://localhost:8080/",
          "height": 35
        },
        "outputId": "78204c99-ae50-4bd8-b9a5-2a4a9b931432"
      },
      "outputs": [
        {
          "output_type": "execute_result",
          "data": {
            "text/plain": [
              "'wolf'"
            ],
            "application/vnd.google.colaboratory.intrinsic+json": {
              "type": "string"
            }
          },
          "metadata": {},
          "execution_count": 19
        }
      ],
      "source": [
        "lemmatizer.lemmatize(\"wolves\", wordnet.NOUN)"
      ]
    },
    {
      "cell_type": "code",
      "execution_count": 20,
      "metadata": {
        "id": "Uyloihs6BGpn",
        "colab": {
          "base_uri": "https://localhost:8080/",
          "height": 35
        },
        "outputId": "f5e57ea3-5a5f-47ba-e138-45b17dc462e3"
      },
      "outputs": [
        {
          "output_type": "execute_result",
          "data": {
            "text/plain": [
              "'have'"
            ],
            "application/vnd.google.colaboratory.intrinsic+json": {
              "type": "string"
            }
          },
          "metadata": {},
          "execution_count": 20
        }
      ],
      "source": [
        "lemmatizer.lemmatize(\"has\",wordnet.VERB)"
      ]
    },
    {
      "cell_type": "code",
      "execution_count": 21,
      "metadata": {
        "id": "t4pFZ9d0BGpn",
        "colab": {
          "base_uri": "https://localhost:8080/",
          "height": 35
        },
        "outputId": "a07cbd3d-0a96-4195-b3ec-1c06c8353a83"
      },
      "outputs": [
        {
          "output_type": "execute_result",
          "data": {
            "text/plain": [
              "'helpful'"
            ],
            "application/vnd.google.colaboratory.intrinsic+json": {
              "type": "string"
            }
          },
          "metadata": {},
          "execution_count": 21
        }
      ],
      "source": [
        "lemmatizer.lemmatize(\"helpful\", wordnet.ADJ)"
      ]
    },
    {
      "cell_type": "code",
      "execution_count": 22,
      "metadata": {
        "id": "4FCwYHF2BGpn",
        "colab": {
          "base_uri": "https://localhost:8080/",
          "height": 35
        },
        "outputId": "947ed911-0702-4f09-bb5c-cb73bf828d29"
      },
      "outputs": [
        {
          "output_type": "execute_result",
          "data": {
            "text/plain": [
              "'happily'"
            ],
            "application/vnd.google.colaboratory.intrinsic+json": {
              "type": "string"
            }
          },
          "metadata": {},
          "execution_count": 22
        }
      ],
      "source": [
        "lemmatizer.lemmatize(\"happily\", wordnet.ADV)"
      ]
    },
    {
      "cell_type": "code",
      "execution_count": 23,
      "metadata": {
        "id": "hYOgFSutBGpn",
        "colab": {
          "base_uri": "https://localhost:8080/",
          "height": 35
        },
        "outputId": "c6f806dc-f644-4fa9-e5eb-70365e23faf8"
      },
      "outputs": [
        {
          "output_type": "execute_result",
          "data": {
            "text/plain": [
              "'happy'"
            ],
            "application/vnd.google.colaboratory.intrinsic+json": {
              "type": "string"
            }
          },
          "metadata": {},
          "execution_count": 23
        }
      ],
      "source": [
        "lemmatizer.lemmatize(\"happy\", wordnet.ADJ)"
      ]
    },
    {
      "cell_type": "markdown",
      "source": [
        "![pos3.png](data:image/png;base64,iVBORw0KGgoAAAANSUhEUgAAAswAAACwCAYAAAAbrjiJAAAAAXNSR0IArs4c6QAAAARnQU1BAACxjwv8YQUAAAAJcEhZcwAADsMAAA7DAcdvqGQAAFWHSURBVHhe7Z0FtBTHEoYLd3eHBEhwDe4S3IK7Bwnu7h7cPWhCcCe4Q4AgISGQEIK7u7Nv/ro7y+7etQsX3gX+75w5u9PTM9PT011dXV3dE8xiIIQQQgghhBCXBLf+EkIIIYQQQlxAhZkQQgghhBAPUGEmhBBCCCHEA1SYCSGEEEII8QAV5iDEixcvZdrcRZI2b1lJnq24/kcYIR8j12/elhZdBkjc1HmlUIV6su/gUeuRoA/rKiGEfFoEaJWMp8+eyc5fD8pPS9fI9j2/ybkLlyR61ChSMG92aVy7suTLkVVChgxhjU0CytpNO6R2885y/8FD3Y8UMYLMnThUShbJp/vk7dlz4LAUKFfXuifSu+N30r1tE+seeV88e/5c+gwdL8Mn/mANEcmXM6v8MHagJEoQzxoSdGFdJYSQTwufLcz/nj4n1Rq3l5LVmsjchStVWQa37tyVJas2SPEqjaVxu15qNXIGSkro+Olt28BRU6xHiD2H/zhua4AB/iOMkA+Jx0+eyned+9vqe9YileWfU2esR/1A2T7619/WPT927P1Nzl+6Yt37/wH5ZC+vIL+cYV0lhJBPC58U5hMn/5N6LbvKmo3brSGumb94lfQfMVEePnpsDSEBIVO6VGqpMsF/hBHysYGynT71F9Y9P2BhThQ/rnUvaMO6SgghnxZeFWa4Yfzw0zLZf+gPa4ioGwZcMAZ2byNVy5dwaDgmz/pZVv6yxbpHAsLXBXLLkJ7tJHHC+LrhP8II+dgIHSqUtG1WTxrWrKjyI0/2zDKwW5sPwh0DsK4SQsinhVeF+cKlK7J9zwHrnmjjsHDGKJkwtKd0/K6BzB4/WMYN7u6gNG/YtsdhuJL4Bvy/0RH5d/8vuuE/fcLJx0qsGNFk0ve95eY/e2XLslmSPUt665GgD+sqIYR8WnhVmK9evymHjv5l3RMpki+HZM2Y1rpnXCB4cClRJJ8UypvDGiLy35nzcvvOXZ0cCB9A+0lWoO/3E2z+gfB1hM+jPdjfuH2PNGrbU2ehx0iZU32kR02eLZevXrfGes3N23ekdI2mtmviP3ypt+3eLzWadtRZ7NiatO8jvx78XV69eqXnwXq+Yt1mW5xsX1eRph0c45jABxO+mPbpvnPvvixbs0kq1G2pM/2R1k59h6sLizmXEu4pP/y01BYnb5la/uKYuHoOhJmY+Wlu2DevX6ZmM0mYvoCuNjBs/AyXvuQmeDb4izZs08OWN8gD5Beu583/1Bk8x+gpcxzShn1X80lv370nlRu2tcVLkqmwHDj8px5DfOQL8gd5iePIs8Zte6m/q6vrvSuu3bgl0+cttr03M4+Wr93kr7yC91E+3sc9TBBuvgvUC9RBlDFcB9dzVRbN8hvls6901QgTvDvzfWIzfYLdzW1wfk5vm6syev7iZRk0eqo+K+IUqdhA5Qfqhav72vtdQz7ZA/llxsVzAm911R6kBZMbIcOQj2ZZWrjiF81LZ1xd+8atO5qP7XoO1bzEVqtZJ62zzrKKEEJI4ONVYYblOHmyxNY9CPO7qmjaEzliROnRrolsXDxDt0E92kq0qFGsRwPG3/+elkr1W0up6k1lzs8rtCGEtXrLrn3Sud8IowGsrUqLu4YeXLl2Uxu/rys3ksUr1+sERWxo7HFdNFRQiJp26KvKmxnnyJ8nZOaPfnFGTZ7jcZmok/+dlZpNOkrVxu3UtxuTH5FWKIqlazbX1UQwUbKKcX0o6mYcLJ2FOGiEFxn39fQc3ti881fJX7aOXn/91t36TLv2HZIeg8ZI5QZt/CkRAA10xz7fqwJhTt7EhjxAfmGZr0tXrllj+0awYMHU/zRenFjWECNtO/ZqWXHm+D+nZIuRbpOcX2WUlJ8n1byeNGuB5C5VU/PHTDvybPbPy6Vg+Xp6/F0v3QXlA5NYc5WsIc079bO9NzOPqjRqp+UT79YT76N8vKt7IA9+Xr5OjyMe6gXqIMoYroP64WoiXFAAz4IRsRLVmkifYeNtS9Whgwj5UbB8XaOT/H5cxlBWp8xeKF8VrSLdBoxSGYZ8NMsSFN6ilRp6XU4P8qxzv+HaMRg/Y76+Y2yQYxWNsuhNVhFCCHl7vCrMCePHlTRfprDuiVpkoUjs3n/YZmkLESK4ZEjzpeTP9ZVuubNlcnDR8BVYtGD1hHXZHWhsGrbpqQ29O2CJgVLtCjRYPQaPNRqaVjpJ0RWIM2j0FNnx62/WEP/AsuMunUgj8qhGkw5u40BxGTBysqFA/mcNCTjoUDivNGAChWbM1LkO1lA0qkPHTpNx0+dbQ/yDPIFiFVC+SJ5MihbIZd3D/Y/4S9vLl69ko5O7TrGCuSVK5Iia1z2N92J/zB6EDx07Xfb+dsQaEvhA2YIS8m373voO3YF3ikmwnpTm91E+3tU98P7R4cRxV6BsQREMimA0DPLB7HA5g3BYmt81qGujpsyWll0HuM1H8NuRP6WmoThDoXcH6hE6t65AvRg7be47rReEEEJ8UJijRYkslcsWc1CAYYGDpQZDr7BUYkjz2Il//Q0Nli9ZRC4f2yGr5k+yhvjRpVUjDcc2qHtbCRsmtA7V9x0+0WFyYcUyX8vW5bPl9MGNMqJfZ/WfBmYj4c3Kh4lEXVs31l97oEyYVp20qVJI++b1/MXBPdZt2qHrxXqiVNH80qlFQ72OPWiYYZkDuDbu4RwHHQR3yoyv4L1g4iV8KDEZ057VG7apRddk6+59MmHmT9Y9P5CnTepWkZqVyvg7PyBECB9OCtu55SD/dhpKAJRkk2s3bsqvv/1u3RNdJSF3tswaZ+tOP+sbwDPNHDNQHp49JHvW/ijZMqfTcLjjYEKpt3fypkDZQmfKPh3d2zaR43tWy8HNizWfTFBOxxsdD1fuGfa8j/IRmPfA6AI6VGYeAORD2eKFpE2TOjoa4A7IirmThsmZQ5ukbtXy1lC/Oob3aNZ5e5cuV3yWJJFsXDLDFt9+O7J1mRTKk90a049kSRLqiNa9+w+M8v2jv84O4uPZzXLkCsggyCLcA/LJHsgv8/6Qab6AujZkzDTrnh/IO6TDua4hvei4eBvZQT7ifGdZ9a7rBSGEEB8UZvBNqaIyekBXlwoVLCPw+ctU6BsdHoT/rznEGy5sGIkRLarR4IbXfZMwYfzCscG6iCF9rGG6YetuawyRWpXLyJThfdRanSBeHGnRsIYM6NpKG28AhcWTJRSN+5qfpkjfzi21wWtar6r1yGugAG1fMUcG92gn636eKv2N69sDZdNecXBm1IAusmjGaBnQrbWsWzBVyhQraD3yGlwT18Y9cC97pQtAqfGmdLkDyu7imWNkzoQhOglz89IfHJQCNKSnzvh1KuBGs27TTofnQcO9a/U8GTe4h34wYu+6n97qwws5s2Z0uP8WQwm+ePn1uroHfz+mbiQmcONIkii+NvT2VjiEfZUprYQKFVKyZEgjVcqVkKL5c+mG9Lvy+3xboLSjg2GvbA3r3UF6dWgunydNLOlSpZQhPds7lKNlazc5dEiceR/lI7DvAXcGWK5N8D7XL5xm3GOU5gfKCJRzV2A+A5RmKK+hQ4eyhhrhwYJL5EgRbXUeK2R4ApPncB0zvrmFNeTG5NkL1LXBBOnr36WlTiD888RJB3cL1I/lc8bL2gVT9NlRP5BfpgyxBzIIsgj3gXyyB/LLTANkmjdQPuHSYl/XkGfIO6QDdc25riLP12/dZd3zjzdZBfecd1EvCCGE+OGTwowGrHaVsrJv/c/S+tvaNkuvM1Bgy9duEWDfXGcLI6hRsbQ2siZo0IoVyuMwudD0rXQGlstGtSrZGjdYP5vWrSZfpvhM9wH+N6tX3dZ4hgkdWupUKedgJYXv4M1brifywJWgavmStpnxcWLFkO8Mpd6+Mca1cE1cG+AY7mmfjrPnL8qjx2/W0NU2OhVQOpE3IM2XyXWZLnv+O3tBf69eu6EKqwnyCNb3uLFjWkP8LHXd2zZ18EUOCPHjxVal2QTDxOaEUSjsUKDtKVk0n+YNrHvoFJn8efyk1G/VXYf9MRwN6/manybrNtnoREGZCmxg/Yb/twlci9B5MPMWoBzVrlzOlj/okNjnqT3vo3wE9j3QcbGf4As6NK+vFmEzH3B+K0MGlP66gO6/L+DiMPGHn3TZShOU4eF9O9meBZNH7eUBOtklCudVRR4gDxrUqCjVKpTU/XfFf2fPy579r328UY5aNKrp8F5QV/t3ae1Q13bsPehSnvkmq27ILTeTDgkhhLw9PinMJrD8fd+no5zYs0ZO7vtFLZvO6zCbfpGw9vjKg4eP5OTps9Y9P/BFQXOWuLnFSZVHfahNzNU4nIkbO4bEiB7VuudHHCMscYLXH0XAf4TZE9VQxD5Lmsi65xl0GqBA2ZPQUPqSJU5o3RO9Fq5pj3M63gYM8cJ/3B74EttjTgbCLPszhmJkUjBPNkmaOIF17zW4JibivQmwHGLFFPvyACUAyvLlK9dl/+HXk5vQ2Kf5Irn+186QofzZd8Tg2wn/T0yYwuofWCnj7Hn3fsVvC5RfWFpNYGnFCh7OZTB3qRoa1wTnuBoKfx/lI7Dv8fjxU4cv7aHzkzl9auvea2LHjK4divcFXL0Wrljn4OKAZx/Zv7PkyJJB9/EOsASmCRRR+86kCTrRUKLfJSin9u5iBfNkd+iYmiBv7euaO3nmi6xCPbd3fyKEEBK4BEhhNoFFC8ozLDVzJw6V3zYuchjKh1+kszXREy9evpAHLiwr3nj46LE8eeq4YgdxzZOnTx0UPTS4robGMZSOoec3JVWKzyRbptdDzXDZgQIBa7O9f3peQ5mxVyKgPIzo29Gljyysblgpo3DFBnq9d4Fz/vjKo8dPPhpFxbkewhUhQgRHdyoTKM3vA3MiZsuuA23WV3TI4J6VN0cW3Qd4B3gXJrFiRJeIbtIePdqb++r7grOV2F1eOdc1yjNCCAm6eFSYoUS06jbQwcKGpaqcwVA+hhztge8szveFkCFCSkQ7qySsQxgKxpcEPW11qpZzcNsg7oH/p/3w752791xaRp89e+52PVlfgBIM1xkTuFSs27zTwXcZ6YA/sr31D//LlSisk8PmTRommPDp7DMP/+JeQ8a9E0uzc/7k+iqT9OnUwmW5s99gxXS28n+oONfD+w8eycOHj6x7jmAJw/cB5I39REzQpXVjqVSmmEP5wTsIHy6sdU/k+s1bOnLlilsuljsMTOxHWIC7vHKuaxgtgHsSIYSQoIfHlh5KhL1vKYDPZkD8k30hXLgwkij+6yFiNHSlixXQLwl62lo1ruVyqJP4J2b0qJI00WsXjK279suZc69dNEzgYrD3wJsvUQUlxnlNZixvt3r9NuueqB/6lykcXUdM0AGqUq64/DRluJz7fYtOjoJybYIlzf44/o91z28oHiusmK4nb4pz/sC6+m2dKi7Lnf0GlyRvk9g+FJzrob0Puj1QAO2//vmuwEhVt4GjHCZiYtJl8/rVbX7bJngHWALTBKMFGI1wllWY3IgO3LsEo2/2a9dv3bVPfYydQd7a1zW4WLzp+vWEEELeLV5NYxj2tLeYjJ/xo2zbfcChIYLf8oJla617fmBlASjcrnhiNFr2w9ho7LAahgmsSVh3FEOU9kDJs/crhfXbVyv2p04co2OBFSdMYPkdPGaaQ0N++uwFGThq8hu5JtjjvCYzfEvtV8HIl9OxTGE0Ikfxarb3io9loHyhXKD8YcUUe1A+cBz+7JkLVVTf9mzFqjhM2gsozvmDj3Rs2LrLoZxDKcfX48x0Ylu08hfr0Q8f5LezzzK+UAd/cjMfkPdj0QHa8LoD5A1MKHT+2JE38IXR7oPG+FtmEpNSnf22TbCyirOsgnJsLneJNMz8cYk/WeUNe1cPX8CyeLns5NnaTTt0CUJ7Kzk+0DR8wkyHuuZcLwghhAQdvCrMmdKldphVDmtPsSqN5Jt6rWTI2OnSdcBIyVemtn5EwwQTcuzXCsVEJPvVE/DZ3MFjpqpSgv9QjHNnz6JD8iYz5i/Rz1TDkoV74it9mARmNjBoWGB5dKeUE0cws75EkbwODTI+UpKndC3NV6xKkbNEdW3c3xYoNPYdIHvMtZftiRs7lsP6wJjchXIBpQlD8vMWvf7ADNIPhQRuGd8bCoc5UQ8ra8CSDWvzm4D8qVT2a4eJh/gMsbnGOLYeg8fICEOBNIHbRrZM6a17Hwd4JmwmUFiLVWmsX8TEZ7JRRvDpdU9gYp29LzomwHXtP1KWrt6oHWHzU+jugDxAx23V+q3WEL+1lHu2a6aWZbgxOG8YaUiV8nP5umBu6xl+sqp8nRY6gRhyqvA39aVtjyEOiqsrMqT5wvrPD7gBId1Ivy8f9UH5d54MjTxD3iEdqGv4Qqf9+tcFcmeTYgVfuzIRQggJWnhVmNH4YSk5+0YUoOHoNWSsoUDMclhdAGDNUHz5zwTWuxxZ/WazA1gb+w2fKGVqNtOl4bDsE9ZRbdmopoPCgrVM8enY5NmK6yd57e9Ts1JphyXmiHcK5s4u3zWobt3zA0oFlm+D8mxvBX5bcC/7dWZNzLWX7XFWMJAOfKI7UYaCquTYKxblShQyFKPP5NLVaw7WRwAL+fW38K2F8mu/RrFZTrHGOLaRk2bZlC2kFe4BiRPG0/2PBbyb5kYZsVf28Mz4MAYs/8513R3oMNvX5Q3b9ki1b9vrlzyfv/D8gY2Ll6/Knv2ObkFYezljwQoSL00+lxus4Fhu0FmGAJwLOeVcXtyBNbft5R2ujXQj/fg4ii+g/MPX2h7kHdLhXNeQ3h7tmkr8uLGtIYQQQoIaPs1WgrVo3qShqtR4ApO0sOxci4Y1HXwMYb3D+sDOSrczUKbwgQRv8aCoYEKWu6FZ4hq8k86tGqtS4Y5vSheVr+3cKd4U5zWZTcy1l52BguHu4zgmKBddjPTDzxlLp9mvQwvgCvI2Pu3In7ZN6sqM0QM8pgPHkFbniWcfC54+VASwLrP9l/xcgQ5zs3rVHBTv9wHKHD7i42q1FYBw+KZ7Ap0gdBo8lQFvmGUJHwXydB3k5fxJw1T2EUIICbr4pDADTKiZPX6w7Fg1VxVi+wYJwn5Qj7ZyYONCtUa7+hoW4i+a6fdFMvPcjGm/VGuO/SoDmdKl0i9Z4SMVWAXDPi7ui/t7U6yIe9DJQKdm05KZ+jEaWLewVSpbTDYsmq7KYhK7yW9vCvxhnddktl972RkoGPBVxtfQ7D/BjPOxRjPW/EaZMMMxqXBIr3bqxoM48G/t27nFW6+agnQgX47uWCETh/XSz06jrOEecAswyzniIO7HiPkutq2Yre8Cdc98fiiAGxfPkEJ5HT9P7YwqjE3ryJIfxuhntXE+8hHvKWb0aNZYgQ86MCgv6xZM0U519ix+LjP4hezBp/ZrVCylYe7ANSqjPiyerh0D8/3juokS+D6igDzAiAXKC8oN8g/XMesbVoNBXpppJIQQEnQJZrGf1UQ+SvCK791/qOvsmqDhhlLrDHyA67fsZvNlxgcqoKzar3pBCCGEEPIp4bOFmXy4vHpl0Rn59j6fa91MXsLkucN/HLfu+Y0suPsABCGEEELIpwAV5k8AuLxkyeB/uTCs/GDPpSvXdGIXl7oihBBCCHkNXTI+Ea7fvC3NO/XTtYtN4JtZtUIJXZ7v+Mn/ZPaC5Q6rIGCpq1njBnH2PiGEEEI+aagwf0JgTeNmHfv6tDQYJibNHDOAs/cJIYQQ8slDl4xPCHw1b/7kYbrygyew1NXciUM0PiGEEELIpw4tzJ8g+EQwrM34RPDRY3/rx2OwXBuWD8MSYFCoucY1IYQQQogfVJgJIYQQQgjxAF0yCCGEEEII8QAVZkIIIYQQQjxAhZkQQgghhBAPUGEmhBBCCCHEA1SYCSGEEEII8QAVZkIIIYQQQjxAhZkQQgghhBAPUGEmhBBCCCHEA1SYCSGEEEII8QAVZkIIIYQQQjxAhZkQQgghhBAPUGEmhBBCCCHEA1SYCSGEEEII8YBXhdliscjRv/6Wxm17SdzUeSVGypxSu3lnOX32gjWGyP0HD2X3/sOyfc8BuXHrjjU06LJ6wzZJm7es1GzaSa7fvG0NJYSQD5fHT57Kd537S+j46aXn4LHy8uUr65GPh3MXLmk7s+/gUXn67Jk19N3JdHdtG9sQQj49vCrMO389KN/Uay2zf14ut+7cVQHy8/J1Uq5OC/nr71Ma5/LV69K62yApWqmhHPnzuIYFVZ48fSobtu2Wf06dkV+27JQ/jv9jPUIIISQoA+UV7UyPwWPk1u27GvYuZbqrto1tCCGfJh4VZlgsoByjV1+zUhk5dWC9bmWKFZQTJ/+TZWs3WWN+OIQNE0Ya1qyoz9OzfTPJkj6N9QghhJAPjfct09mGEPJp4lFhfvT4sZw9f1H/Z8uUThIliKdbLUNQFM2fS+7dfyBbdu3ToSm4bYCS1ZpI6tylbb3uh48ey7jp8yVvmVrqzlG9SQf5/dgJPQYGjpqiQ4ilazSVdj2HSvJsxXX/23a9tXe/cMUvkrlwRQ2r0bSjKu8AvfusRSpreI9BY6R4lcb6H+djuOz8xcvqRoJ7ImzuwpXy4sVLPReW8fmLV8majdv1GW/evqP3x/md+42wnQcXlNFT5tjOA1eu3ZBmHfvajnfpP1IKVain506bu8gaixBCgiaeZLK9LGzRZYAeM2Xd1DkL5er1m9JryFjdxzZ03HQ1rIC3kcng739PS+WGbW3nDJ/4g4NsRVtRt0VXjQsXiSSZCkv9Vt111NNZppvtiqvNlNPe7rfnwGG3bZvz/QDcF3fs/U0q1G2p10D+IK8wMgsC0s4QQoIeHhXmSBEjSKqUn+v/CTN/VOUVlb58ycKy5qfJMrRXe4kaOZLkyZ5Z44LsWdJL6i+SS6iQIVWhhhLcvtdQOXnqrCSIF0eWrNpgCKX6qmjbs2HbHhk/Y75NIZ61YJl8VbSyKqd/Hj+pYYtXrpfOhoJ6994D3TcZNn6G7Xo4H0I1Z4nq6kYCYYqwhm166PCZN0ZNnm07D4KuU9/htvNu370nbXsOkRnzl9iOj5w0S3btO6THCSEkKBMQmQwFGcdMWQcFOtvXVWTI2Om6jw2+0tPnLbae8ZqAyuSz5y9Jk/Z9ZMW6zbqP490GjHKQrVGjRJKMab/U/9GjRpECubNJ7JjRJXhw/80Y4sKoY27meSBkyBA+3Q+WZHdtmzNQljEaC2UZSjRA/iCvqjVuL5euXNMwE0/tDCEkaOJRYQ4dKpQOPWXLnE6tB7WadZJ4afJJliKVjMq9S169eiWZ06eWycP7SLLECfWc3h2/k8UzR8uXKT5TwfHDT0slfeovZOW8iXJw02Lp06mFCgn04O0V38QJ48uscYPkr92rpUq54hp27cYtqV+9gvy5c6W0bVpXww4d/UvOnH894RBULV9C48ydOFTixYml148eLaqsmj9JNiyarmkBe/Yf9tqLh3DdveZHl+ftNoQpGhAI0DEDu8nxPas1fwgh5EPAm0y+d/+hNaZrWQhmjB4gv/6yQBVWsO/g76qI2xMQmfz8+Qt174NFF+3Agqkj5O+9a/3J1u8a1LC1A+lSp5TZ4wer0SZC+HAaZg/iwqiDbebYgToyCtC2lCpawKf7eWrbnMHI4+wFfgpwvWoVtG1YOmusXn/b7v2yZPVGa0w/PLUzhJCgiUeFGaAyr5g7QSYO6yWF8mTXMFh8y9ZqbgjeZdqzdgUmRuz97Yj+z58rq2RI+4WEChVSihfKowL02Il/5eLlq3oc5M6WSQVZ8mSJpUndqhqG/7Uql5WUnyeVBjW+kbSpUujqHM6zkuFLhjjwrS5ROK+GlS6aXwrnzWHc+yupXLaYhl02hNrjJ0/0vzvKFi8kWTOm8Xceht0O/+E36aNciULGPUvL50kTqwBH40MIIUEZX2Qy3OBMXMlCKMkIhzJZp0o5DYObBtw87AmITMbIHebEgBrflNTrJ0uSMFBkK9I1cNRkWbV+qxp+2jWrJxEjhA/0+/17+pxs3vmrtpctG9fUtqFE4XxSu3IZPY5OBZRpE3ftjLf2iRDy/8Ojwvzs+XN1wcCQF3rNvyycJmcPb7b1xBcsW6s9a1fAr+3chcv6H/5ykZJmVd+tHMWrqVCGwLpy/fW5uEfw4MH0f4gQr5Nl/g8WLJgED+Y6uRhiA4gTIoTff/xiX89zMWTnDqTB1XlPnj6zPWuCuHEkQvjw+j9G9KgSN3YM/U8IIUEVX2TytRs39ThwJQvdyWlnAiKToSReuHRF/8MSbJ77trIVxhy0UZNn/ayW3h7tmkmmdKneyf3M68WJFUNiRo+m/5E/6DQAdCoePX6tDLtrZwghQRePNRWW5MyFKkq6vGVtS+rAElG7Sln9DwvxjVuu16CEchs2bBj9X7lscRnYvY2/LaYhoD4UwoYJbQjTmPr/gvHc5kSPm7fuGIr060aGEEKCIr7I5BjR3r9MDhc2rCSMH1f/Q6E3149+W9mKJVEHj5mm/9s2rSNF8uVUBfVd3M+8nn2bCIX99Dm/SfPx48bW+xJCPlw8KswYpsqWOb36EmMWLyYuwFftl81+kxMgJCBgoUyafmR3795Xn7Tw4cJKjiwZNAzKZe3KZaVD8/pS0Or3FjF8eJtf2YcABC2sEwCzo+GOAvcQTN4wZ1ETQkhQAFZUjA7ab7BqepPJ8ePF1v/vE7Qfph/vxB9+kmVrNuokPFey1ZyAB1eLJ0+eqpuJK7dAWMu7DRyl18GIaPVvStksyeGMToOv93PVtrnyM4b7INxN4JoxdOx0bRvgLz7zx6V6HPnuyteaEPLh4FFhjhYlsrRsVFOHs7BCRtLMRSTmF7l05i8EV/VvSkrsmDEkTuyYkiOrnyDGMkQZCpSXE//+p0IKPmwQHBkLVJB8ZWtLsSqNpfvA0TozGEr1h0Tu7JmlYpmv9X+H3sPki5wldcUMQggJSoydNk8Spi+gk7TNbdi4GVKlXIkgJ5NhjKhQsojk+iqT+vli+VAs8+ZKtqZLlVLj/XbkT5W/zTr2kwcPH1mPvgaT7PYf+kP/H/z9mNRu1llKVW+q26KV632+n6u27fhJvw922YPRx7rVymu7iLYSafumXitVxEsWySeliubz6MJCCAn6eK3B+XJmleWzx0n96t+o4gyBgAkLP04ZLjUqltZee5jQoXXCBHryOA7hgaV34M+FWcYDurWWFJ8n0WWMcD3MnMbkC5z3IYEOxKj+XWzPifzo3LKRTiYhhJCgjjeZjJWR/h8kSRRfpozoI+VKFNZ9TPAe0rOdP9maOGE8GdyzrW25tyiRInr1AT7y5wnZuH2Pbbt7777P93PXtjkDpR8rgywz2spSRfNrmNk+TPq+t/4nhHzYBLO4W+aCOICZ3LBqoEFJljiBTQCeOXdRajXvpNYMLNOEGeeEEEIIIeTjgWNEPgJFGQvTF63UUOq17CYn/zurfnRzF61UZRmWCfixEUIIIYSQjwtamAMAFrrHJ7vxERd7MFQ3vG9HqV25nG1iCSGEEEII+TigwhxA8EnVIWOnybI1m+T5ixdSME92+bZOFf2oC5VlQgghhJCPDyrMhBBCCCGEeIA+zIQQQgghhHiACjMhhBBCCCEeoMJMCCGEEEKIB6gwE0IIIYQQ4gEqzIQQQgghhHiACjMhhBBCCCEeoMJMCCGEEEKIB6gwE0IIIYQQ4gEqzIQQQgghhHiACjMhhBBCCCEeoMJMCCGEEEKIB6gwE0IIIYQQ4gEqzIQQQgghhHiACjMhhBBCCCEeoMJMCCGEEEKIB6gwE0IIIYQQ4gEqzIQQQgghhHiACjMhhBBCCCEeoMJMCCGEEEKIB6gwE0IIIYQQ4gEqzIQQQgghhHiACjMhhBBCCCEeoMJMCCGEEEKIB96bwjxw1BQJHT+9wxY3dV7pNWSs3Lpz1xor8Ll5+46UrtFU6rfqLvcfPLSGfro8fvJU8+TZ8+fWkHeHxWKRrbv2S6EK9fR9Dx4zTV69emU9GnRAnnzXub8UrdRQLl+9bg0l5NOF8vr9AnmMZ4csehd8KDKO7TUJyrxXC3PyZIll9vjBsnHxDN26tvlWfly6Vlp0GSB37t23xiLvkuVrN0m8NPlkx97frCHvjrPnL0nPIWMkQbw4smr+JMmcPrWhRFsPEkKCNJTX74/fjvypcnneopXWEEJIUOO9u2SkTZVC8uf6SrfW39aW/l1ayuKV62Xdph3WGORj4dLVa7L/0B+SL2dWKVYwt24hQtALiJAPBcprQgjx4/+uvWTJkEbSp/5CTpz8T67fvKXDMdja9hiiQ4A9B4+Vly9f6TDgsPEzJG3eshIjZU6p3qSD/H7shPUqfrx48VIWrvhF8pSuqUOIxas0lj37D+v5JhhqTJ27tPxx/B9riOthIAxhTZ2zUDIXrqjXwjV/2bLLwaXg4aPHMm76fE2Teb+Dvx9TVwTw9NkzmbVgmZ6LZ2nctpdcunJNj7liz4HDeh1YcCo3bKv/N+3Yq8f+PH5Sz8d1kmcrLr2HjvM3NOopj8whubotuup+yWpN9PrT5i7S9O47eFQqNWij5xWp2EC27zlgew5XmPljn9dwvzDPQT4XKFdX/+O+iGO+SxMzTch7vAOA432/n+Dw7ODQ0b8kSabCMmP+Er2Ht/LgLi9xLtKJ9CIM6V+6eoNx35fWM/1cSQKaH4R8ClBeO4LnhJsK4mODvFmyaoNeH7LVBPGGjJ2ushvHytRsZru3O1l57YZf/jq7J5iyzf76Fy5d0fQir3GP/iMmyaQfFmg8eznqjreRxd7app+WrtFr9Bg0Rt3zzPfpy/t/k3dCyLvCq8J87MS/UrB8XS3Q+MV+YHL33gMVvPHjxpFgwYJp2IZte+Tkf2dk4rBeUqns13L1+k2tKFPnLJLGtSvLtJH95MbN20blqy8bt+/Rc1BxF69aL8069pVYMaLL0lljpVC+HHre5p2/ahxfgWDt3G+4dB0wSsoVL6TuBCk/TyplazWXH35apvdCnK4DRsrAkZOlTtVyer9w4cLK15Ub2YQLrDDtew2T6t+UktkThmhFb997mD6zJyBgEsSNLWsXTJGUnyVR94nydVvKmfMXNU9aNqop85eskWqN29uEh7c8ChsmtAzq3lYmfd9b4y+eOVouH9uhaYPrRPveQyV61CiyYu4EyZQulQrpI386NnAm9vlTNH8uffZo0aJIsSqNZOaPSzV/YI1CvoGR/TvrvTp810CCB/d7xyBc2DCSNWMavc/psxc07Pbdezo8CaC0mqBxiRI5kmRI84U2JN7Kg4lzXu789aA0btdL7hkN0PzJw6Ru1fLqW410mwQ0PwgJKlBevz95DVkFJRPP2cKQydNH9zfi3tfOgT1mfkyft1hlN+4dMmRI2719kZWegLyq1ayz7P3tiPTq0FyG9WpvyM7fpXX3QdYY3nlTWQx56q1tMsHzF8qbQ8YP7SlxY8fy6f2/aRtKyDvBECYeKVCujiVUvHS2DftvwoCRky2pcpWyHP3rb2uIxWL0ii01m3a0ZClcyXL4j+OWG7duW0pVb6L7x/85ZY1lscz8cYkleoocluVrN1levXqlYRcvX7UUrdTQUu3b9pY7d+9bzp6/aMlXprZez1CoNA7izl+8StNdr2U3y737D1ymw7yvGceosHq/8TPmW54/f6FxDEFoqd+qm6VIxQYWo9K6jHP56nVLudrf2dKEexmNlj4n2L3/kGXU5NmW8xcv674zOI60Nu3Qx/Lg4SMNw2/DNj30OqdOn9MwsGHbbr3/2GnzdN+XPAI/Llmt9zAaLt0H5n3Xbd6p+3i+0VPmWLbt3q/7znjKH7yDcxcuaZh53alzFuq+K/Ae8D5GTpql+4YwtiTOWEjPq9SgjcUQ2vpO8G5qNOmo78qXZ3WVlwiv2ridv7zcsnOf3tN8twHND0KCCpTX709er1q/VdNqKIK2a0LWQOYg3JR7nvLDfAZXstL5OU2c40I2QX6t2bjddn3z2RAPsv7R4yeW5p362fLDFQGVxeeMfPGlbTLbnIGjptjyKSDvPyDvhJB3iVcL8+79h63//HDeDwj/nj4nhnBV6we2ZFmKao+2V4dmkvbLFNZYIulSp9SJYsCo6Nq7hQ9dzq8y2awa8eLEkpJF8unw0JnzF+Tshcvawy5VNL/RY42mcRA3T/bMkjNrRt33BSNPZPe+Q5IscUK1noYMGULDI0eKKDPHDNTJL7j33gNHNE5ho8dsxokbO6be/3fjmc5dvKSWyd+P/S09h4zVYbQMab6UNk3qSML4cTW+OzA5LkL4cPrfEBT6jMUK5ZEkiRJoGMiaMa321mFJgAXDlzxyRyIjPfAz7jd8oixdvVHPb9W4ll7PGU/5U7ZYQX0Hx/4+pWG+kNR4puxZMsj+w3+o1cC0XrRoWNPI48Py739n5fzFKxqeI2sGCR0qdICe1T4vr1y7Lv+cOuMvLxEn51evy0hA8oOQoATl9fuR17iv0WlQ95S8ObLYrglZg2uauMuP+HFjy4ZF0+WHsQMlUsQIGvYm4PpGZ0VdZdAmmNfHsxXMk13/+0pAZfH9+w+9tk2G0msNFcmWOZ0tn3x9/2/ahhLyLvCqMOfOlsn6zw/n/YDgPOt624rZsnP1PClbvJCtIjnz+MkTVRpRcTFsZILKFSdWDB0+un7ztsYBsWJG11+TCBHCGwIpvHXPO0+ePjMUqxsSLWpkt4IM/l5GL12MHrmkz1/e1qBgwxAdGhoosYXz5ZAR/TppIwMfNaO3Lj/85Oey4CvwJ4OPGNwD7CfMhQ0TRmIbz4r7II4veeQOCJ+B3dpo3Grfttd0Nu3Q10HYmXjKn9jG+cDo/euvL+AauQxlFY3WX//8K/sOHZV0qVJK6WIFtNFDowTfxxcvXki2TOnk2fNnb/ys7vIydOhQEiNaVOtewPKDkKAE5bV/3oW89nTf6NGiWP+5z4/AwtP10T4EhIDK4jv37nltm+AK4wpf339gtKGEBBZeFebxQ3rahC5+sf822M+6zmX0uKNFiWw94ppwYcOqAnP9xk1/awfDlxVCPWb0aLYe53UjzJ6HDx/J/QePrHvega8veue379xzuw5k6FChVEigJ3xk6zL1OXPecmfLLGFCh5Z61SrIwU2L5cyhTVKlXHH5fvxM+fPESeuVvANFDnmGZ7Xn2TO/dTthqYgeNapPeeQONGbZs6SXZbPHye1/96mfM/zLfl6+zhrjNZ7y59Ztv4keiRLE019fgXUEgnXuwpVy5I8Tar2Af1x6Y9uya5+s2rBNvkzxmSRLktDn8uAKb3lpEpD8ICQoQXntn3chr32Rg8BTfgQG3vI7oAREFvvSNoUP5ze654yv7z8w2lBCAguvCnOaL5PL1uWz5dmlo/qL/fdJ+HBhVXnBxJJdvx60hopaDNZs3C5fGT3dxAnjSRJjg0BctnazTlYA6IXu2ndIh35MPjMqOiwKv//5tzVE5L8zF+QPo6cMoCzlzp5ZTp+7IOs277T1ZGFdbNC6u5Sv00InvWTJkFqvi8kuEBzYIhq944kzf5LW3QZpDxozldt0H6wCFcKjdpWyNmuGr0CwwGVg3eYdcubcRWuoyP7DR2WjkSc5smTQIS1f8sgdazft0OfCzGUMKZYvWdjIywxy7sJlhxnLwFP+LF2zUYfUUhkCNSB8njSxukRgUgjyNmPaL7WBw7MtWbVBl7HC8yGPfS0PrsBEE0wGcs5LDCtiyNYkIPlBSFCC8vr9yGvcF+4CsFrbrw4EZRPPaeIpPzDpD5Pe3FlhoWzC1QFWXcQHuA+W6jTB9VOl/Fyvf+Cw3wQ9AOv3VkPBDSgBkcW+tE3IY1f48v6xQkZgtKGEBBYh+hhY/79TMJv2j7/+kcpli+nQnCswvLR87SZDSQkvJQrn1d4lQEVBJRkzda68emXRXmn3QWMMIXlROrdspP50OiRlCI/xM+arQIkSOaKs+GWL9Bk2QYfk4GuGa8K6AR+s2T8v12v9d/a89BoyTk6dOWeLAx/Wa0aPffDoqVpR0WPGEkmrjd417geBAZ89DC0On/CDvDIqOu4xbto8mTZ3sTStV1Xy58omDx4+VD9YCFcMd2FJIyhg6DHbD9uZnDeE9qwFy9WvCz19AOtI1CiRdebxyl+26n/MrO41dLx8lTGttP62lg4L+pJHSMeTJ89UwD0wevLPnz/XZXyyZ06v1lMojVAoofiuWLdZZ5OnS/XaV9EkdswY/vJn0JipsnbjDunYooGhNGeR4MGDu3weV4QJHUouXr6qM+jh/9agxjc6BPjK8kqWrN6owvm7BjXls6QJNb4vz4oG0PnesAoh7fZ5Cb+43sPG60xz+PBVKFVE77dg2Vqf84OQjw3Ka+/yGu4EUNSxnB2UvidPn8rQsdNlrvXjI6bscZUfuM9JI6xHu6aS4rMk2hGHC8TZ8xc1H9dv3aXKKFwdZhtybMvOfZomyCJYWPGM5vXjxY6leQQlF8929dpNXQ4Oy+qBmpXKSOIE8QylerdafiHjnN1ITAIii31tm+C2sdxQjJGOz5Ik0vvgmt7ef5mvC2ieBuSdEPIu+SAUZvRSixbIpb1pfAlpEXq5hpI3qHsbnZyFyoQNQ0WfJ00kO/YekJGTZutwVbtmdeXGrdtamXFN+NmiR47JX/CFwhAQlj66ZQgSMw7uVyB3dkloCFncC5U0jqFofd+no5Q2KjGEWBhD+cqdPZP+zvl5hYw1hG8UQwhAAFYsU0wFD3rrSA8mjo2aPFv/4zj8wpBeZ9wpmEkSxZdCebLL2QuXZMyUOboGKpQ3XMsc2vIljwDyPnKkCPLj0jWyecevegyNBSwwELr9h0/SRqd98/oqWEOFDKnn2QNBaeYPrClodBInjC+De7ST8iUK2/wbfVWYkTZTIOPjJmWKFZSQIUIY1wkpvx78XWLGiCaNalW0CXlfntXdvWHdgjA+fPQvGTFpllqimtStqkIYnQg8M/I0U/pUPucHIR8blNfe5TV8hgvlzS6vXr7UNYm37NqvimKTOlVV+TNlj5kf8O1FPKw9nPqL5DKsd3t1c8G10YHASCFcHn5etk6t13AT+SJ5MqPTEFV27z8ky9ZskkQJ4qqVFaNg5vWjRokkRfLnlMtXb6jSjKXgypYoJF8XyK0KbEAUZqQlILLYl7bJlcLs6/vHuw/IOyHkXRLMYo4lEUIIIYQQQvzh1YeZEEIIIYSQTxkqzIQQQgghhHiACjMhhBBCCCEeoMJMCCGEEEKIB6gwE0IIIYQQ4gEqzIQQQgghhHiACjMhhBBCCCEeoMJMCCGEEEKIB6gwE0IIIYQQ4gEqzIQQQgghhHiACjMhhBBCCCEeoMJMCCGEEEKIB6gwE0IIIYQQ4gEqzIQQQgghhHiACjMhhBBCCCEeoMJMCCGEEEKIB6gwE0IIIYQQ4gEqzIQQQgghhHiACjMhhBBCCCEeeG8K88BRUyR0/PQut9S5S8sfx/+xxnw7Hj95Kjdv35Fnz59bQ/5//LR0jT7fph17rSFvhsVikQ3b9kjmwhX1enMXrtTnHDd9viTPVlzips6r9+gxaIz+//Xg79YzPfP02bMAn+MryH+8B6TTG0HpnQU1ApKPhAQWkDlbd+2X4lUaq8yBnBk2foatHOL3u879pWilhnL56nUN+xBwJWuwX7pGU6nfqrvcf/DQGhq0+JDkwJqN27VN+X7CTC1HHwN7DhzWejBt7iJryIcD0x54vFcLc/JkiWX2+MGycfEMh23S970lXpzY1lhvx/K1myRemnyyY+9v1pAPn7PnL0m/4RMkzRfJZfmc8ZIsSUJZv2Wn9Bk2XhrWrCgzxw6UiBHCy5XrN+T5ixdy4+Zt65meefHiZYDP8ZXfjvyp72HeopXWEPd8jO8ssAhIPhISWKzesE0qNWgtsWJGl6WzxkrtymVk6NjpMnj0FJUbHyofqqz5kOTAtRs35dadu3LzFo0g5OPivbtkpE2VQvLn+srfFjN6VGsM4sylq9dk/6E/JF/OrFKySD7Jkz2zHPv7lMSJFUNKf51fw3JkySATh/WSfw+s131fiBA+XIDPIYR83MDKunTNJsmbI4t836ejIWMKSPe2TeW7BtVl8aoNcvzkKWtMQvxTt2p5uXp8l/Tr0lLChA5tDSXkwydI+TDDcrFwxS821wMMB65av1VKVP3WNlwGN4JZC5ZJntI1ddincdtecunKNdsQYd0WXfVaJas18WrKv3Dpip4fI2VOHXLsP2KSTPphgZ4HFwfzmvnL1tF7FqpQz5auf06d8buIFVyrWce+mibzWnfu3rcedc+rV69k885fHYY+4XKB5wRwZSlQrq7+R1oQB1vf7yfIv6fPSZbClWxhEZNkkdwlaxjK9L8aH/x5/KQ0aN1dnxFp69B7mFy3syZ/P36mwzkYQjv8x3Gp3qSD7ZzBY6bJw0eP9bgveeIqzT0Hj5WXL19pmIm3d4bjU+cs1Hdt3gPDxN6G+XAcFqQKdVvqecjToeOm254BeLu2OUyL52vVbaBeA3nRud8IuXvvgVqqUE6RR8jfq9dv6nnmM+G8H5estqUBceFWY14feZW1SGV/+WLvxuMpH72VG0LelBcvX8rtO3d11Cp8uLAaFjJkCClVtIDUr/GN2/pn1rtKDdpovUibt6yMnzFf6wSODRo9Vcu8vez84aelWn7t5fS5C5dUvvQaMlbbBMir3kPHaRlH3BpNO8rpsxessV/XGbiXod65cvHzJmvAg4eP9Fpm+4O4Zr0GeAbICFPmQXbMX7xKmnboY3NNMe/jS5thD6697+BRW94VqdhAtu85oOFvIwfeVo7hWMc+3+u7NONcvHxV9v52xPZsZWo2c3g2uPfFSZVHZi9YrvvmsDraLLxT3B/b6Clz/I1W/H7shFRu2Fbj494oH43a9vTq+hOYbTms42Z5QzpbdBkgl694dzsyy7+ndscXHScg+eWMr2n3tU6hfrTvNdSWBjwP8tIEz/y2+oLJm+Y7gJ6D94/zcD6ug+uZmM+DMmFfThavXK/P4CteFeZjJ/6VguXr6s3wi/13ARI9adYCqdWsk7oeYBgwT44s+nAQCCbrNu0wXuAwqf5NKZk9YYgqy+0NJfDp02cyqHtbde8Ai2eOlsvHdmg8V8DNoVazzlrxe3VoLsN6tTcE1u/Suvsga4zXIM7UOYukWf1qMqBbazny5wktRDdu3dHjEDKtuw+WZWs2Sbvm9WT0gC5y6OhfLq9lD54ZlaeKISDix4stq+ZPkkplvpY2PQbLwJGTtXK0/ra2hoOR/TvrM2Hr0qqRurhsWzHbIcweVN7yRuU9f/GKTBvZT/p3bSW/bNklNY3KgXxzxc5fD6rAemIUdLjP4HnGGBW1ZdcBcu/+A2ssz3niKs0dvmsgwYMH0zCTsGFCu31nqHCd+w2XrgNGSdH8ubQ8RIsWRYpVaSQzf1zqtpAj/Ofl61RohQ0bRl1Yvq1TWUZNmm17hoBce9e+QypcRvTtKJXLFZNRk2dLmjyltfHv0qqxPteKdVuk+6DRDoIR5/UaOl4K5M4mC6aOkPhxYmnDtfKXLdYY3nGXj8GMbPRWbsinSWDI68gRI0qmdKlk3eadstHo5JnlKXuW9NLRKH/pU3+h+/bY17tQoUKq7KhctpjRcI03Gsx+qgjkyJpBTp+7IMf/8bNQozH97cgx/Q/5YTbE//x3Vv48cVKyZU6vCh8U0iWrN0rnlg1l/uRhcubcRSlXp4U/pXj6vMVSKG8OGT+0pz8XP0+yxmTFus36zL2N9qBds3rqltJv+ERbukw3FXQiUKcrly2uygFkhjPe2gxn0B617z1UokeNIivmTtD8hwKF8wJDDrypHIMigjT07thcWjWupXGyF6sqDVv30LybYOT18ZOnpXW3QV592cdOmyfPnr+QKSP6SM6vMkqnvsNl0cpfrEdF32fD1j1VIZ8xeoA+94QZP8mcn1dYY7gmMNtyPDtcHcfP+FHzEjrGo8ePVSH0hC/tDuL4ouOYeMsvZ3xNO/QVX+sUlF241cDts1qFkjJs3AyjYzra1iELDH0BvGm+A1PPOXP+oo6Yt2xkdGSXrJFqjdv703PQCUnxeRKZPLy3xI4ZXZoY+YC0+YzxEj1SoFwdS6h46Wwb9t+EASMnWxKky2+Z+eMSy7bd+x22s+cv6pavTG1LwzY9LIaQ1HOM3rPF6MHrfeu17GYxXoBex2gILEaPUuPs3n/IYlR+y/mLl3X/xyWrNf7G7Xt03x1Gb82SOGMhy5qN2/U+wKjwlnK1v7Od/+jxE0vzTv003pad+zQO4uJ+9vfAtaKnyGExeutur+UK42VajJ6WxVBgLddu3NKw589fWAaOmmJJlqWoxVC6NQzPiOtMnbNQ9wHyIVWuUpajf/1tDXEMe/DwkeYl8urU6XPWGBbLhm27Na3mtbydY/8OjJ6wz3niKs3ucPXODAGi6Rw/Y77mCbh7776lfqtuWk7OXbikYc64ylOkz2hMbffw5do3bt22lKrexCEvzDj27xrn9xw8Rsv2gcN/2PIH98I9zeub5QHXxLX//ve0JUvhSpYeg8ZYjIZN4wDnvHCVj76WG/LpEVjy+sq1G5Zq37bXa8RJlcdiNPIWQ+myvHzpV1bNcl6kYgMtj97qHWQH4iB+u55DLE+ePrXJfBzPXaqG5fTZC1oXUCfMfbQXzrLVULi17nTs873l2bPntjqD8m/WN3e4kjVmXcc1cW2A9LXtMcQmG+/cvW+p2ridxjOUC40DIAMhC8188FU+OmPWc0Nh131cC+0K2kfwpnLgbeVYunzlLIZCoeeZcZAOU3bav2NcCzin1dw3lDRtYwDeLd6x2a4bCpilQ+9h+g5wfxPn/HVFYLblKKfYt28bkGak3f6ZnHH1LuzzBtf3VcfxJb9c4WvaA1Kn7NOKa6JsIRxpDEx94U3z3VUagKnnGJ0O3XclI/Yf+kPT5dwGe8KrhXn3/sPWf3447wcEoyBJk/Z+w1f22/qtu+Xshcuq6RfOm0N72SCY0YWGv27OrBl1H6Dn/fuxv6XnkLE6dJEhzZfSpkkdSRg/rjWGd4yXqFaOLBnSSNaMafU+IG7smFIwT3b9b0/Kz5PKlymS6X/EzZY5nf7HEIZ5Lfhh5/wqk9dr2QNrC3qW8B82fbgx9FmmWAG1iGCix5uCISpYuYsVyiNJEiWwhopaVG/+s1ca165sDXkNevZH/jghRYw4iRPG1zA8D54Dz4chQ9N9wFOevC1GuZTd+w5JssQJNb3IExA5UkQpW6yglhP4cLsCbirI01JF80usGNE0DOnD5Mhnl45q+QrItZF3mPgEEOfzpInVd/yzpIn0ujg/VcrPtWzfuffaBQdWOPiAmtc3ywN61m+bR++y3JAPm8CS1yjj8ycNk6Pbl0uHFg20zBmNkjTr2M/BcmTirt6hvkE27DHSET1qVJ1rAavytes3bZbkDs3rGzL0Px2Ox4QxlN/smdNL1KiRNS7qUXbjPFwPpPgsqZQonFeHgg2FUMMA7mPWtzchXeqUkiBeHP0P39uvMqXV54JF7sq16zqEnDdnVoe2JnP61Gr9cyag8jGRcU3MUYFFe+nqjXoOLLqQu+4IiBx4UzmGOEmsbYEZB3yRPJnu49xUKT/TMJzrCeQV5s2AOIY8RNuNdspQetQ9BNZsjGKk+TKFxgHu8tckMNtytDsoU5Dd9m0D0oxy7Qlv7U6RfDl91nFMPOWXM76m3RzV8bVO2acV1yxu6BPx4sRSXSCw9IW3yXd3eg7KAkabMNJgL6/sZcRnSRNKulQp5ILxHLBm+4JXhTl3tkzWf3447wcEuBAc3LxYC5D9BuUNDw7MSm0SIUJ4iRQxvHXPeIH5csiIfp1U8YBfl9FDUD8nZLqvPH7yRO8XJXIkCRc2jDXUD5jpA8LbXAtDScDoNUqYBBl0GBWb0dPTCnjOqGD2/q0BAUOZEEAo7CFC+Oaqjopy9K+/dWgkfOJMtvQkyVRY/ekCUrDehidPnxkN1A2JZjSYkSJGsIb6EdsQ4OD8xcv664y7cmTyNtcOCC6vb6TJuUF6E95luSEfNoEpr4MHD240cp+pQrt56Q863AlZi2XDnHFX7yJFiiBRDdl42ahzz54/k/y5v7J1StFxhbJV6usCqhygIT9pKNH7D/tNcH758qVR1i/K2k07VM6b5TxcoozqS4kG275xf5e4k6ehQ4eSGNHefsI6lPCB3dqoglrt2/b6vE079HXZOTH5mOQAfObhMoL8DR0qlDXUe/4GZlvuqW2IHs1PaXSHt3YHuIvjrOO8Cb6mHe13QOqUc1oxryFWjOhy6/ZdbcsCQ194m3x3Vy/Dhgmj7x+dXXsXo7fFqyY1fkhPm9DFL/bfBWav/bpTL/Wh0Zu6/+B1jwo9/3rVKsjBTYvlzKFNUqVccZ24BkuFr4QLG1bvd/3GTX/L3njrJTvzNtcyC+OCqSPUL815c+X36ysQMliRJCDPg8KKTs2w3h1cpgf+c2aP910C6wgsBLfv3FPfR3tQUUGiBPH01xl35cjkba4dEFxdH+8C+RspgqNQCCjvstyQD5vAkNewDGFSDCbImEDuQomFFegvQ9l1VsS8ye94Rp2DrEz5WRK1pmESDqzfsCSnT51SMqb9Ug4YijLCMfoDSyYUp1gxY0jFMl/LqQPr/ZXznavnqaXzfeBOnj575rc+8tsCqxusq8tmj5Pb/+5TX+vFq9arX6w7PiY5EM1QeGCZxUQt+3bUW/4GZlvuS9vgDm/tDvBWR94GX9Me0DrlnFZYt6/fvKXGpcDSF94m373Vy/hxY0v4cIGns3hVmNN8mVy2Lp+tlmD8Yv9dkCRhPBWkmJSG4RkAqzEmK8AiAeBojtmvbboP1oxFZtSuUtY2bOYrmLQBgYxVCw4cfj1shV7O1l37rHu+YX+tXb8etIb6dq3kSRPrEMHu/Ye054aXjw0NVp3mXTTcHDIJKKicsNqs27xDHfpNNm7fo43hj0tW+7PK4xwMh+05cEStS2Z6YKnAJI8lqzZYY75b8My5s2fWIUdMwjHTCWvL0jUbdQgrVQq/YUBnUIExjLRs7Wa5ffeehuH8GfOXaM932+4Db3ztgICet/2qG2Z5wNBUkkTxjZ5zVIkXJ6YOm5qzeVG+7cujO95luSEfNoEhrxMbsjhbpnRGHdrkMGnm7IVLWm+SJk7gTxFzV+82bt+rxoxchvKOodC4cWJp2YVivG33fh06RcML5X6LUT9QT6E4otOKsp0hzRdariHfzXIO2QSrFtwXXA1Pvwvixo6ldXfzjr1qhTPBcPBeQ16+LbD4lbdOuoKSUb5kYaM9zODRSvwxyYEokSOq4gMZ+fe/p62h3vM3MNty5BVcPiG77dsGWChdjarY463dQVvgi47zpvia9oDWKfu0YhIp9kFaQ0+AnAgMfeFt8t2dnrP/8FGdsAwXMDxzYOHbWP17AAKyUtliKkjrteyqM5YHjpoi7XoOtcbws3LAEjF30UoZM3WuViZYQSA0klr9V5InS6I+NvMXr9YZpVgW5dUr/wKnfInCkuurTFKvRVf9ghX8xhq16aGCK6Bg9miZYgWlgVFIMGsas6mxxJy3a0Fxgo/TrAXLNT6Wv8Fzteo2SAsjZpW/KRC6daqUMwTHTV2qCLOpce22PYboyg2F8+X0J0yjRYksTepWkR17DkiDVt31OWb/vFxn8YKvC+TSiuEL8ePE1veC94iKM2rybLdDI67e2VdGQ1qzUmld0gizg5GWJh366CxtdJJMX0Nn0FOtW628Nmy1mnaylaPuA0dLuRKFNE2war3JtQNKt4GjVAiZZQsziutXr6DDrjGiRZGvC+ZRvzeUQcTBkn/jZ8y3nu2Hq3yMGSPaOys3hJh16ODvx6RGk45a9kzZAd/Hovn9yw5X9Q6NL+oXRgGhMANYuEwLONw9oCSB1F8kV+s1wHFYnXCPquVLaAcWbgeQC5CpzTv1MxrIXVKicD6VWQHB1/bBGSh0NSuW1vkzWBUA5yJPsBqAt9UhfAGrJmAZUiwXh3YNK2/A7RB+1Rhq/tjlAMpFnarl1BqIVSTwXtD2QEZ7y9/AbMvhf9u0XlVb24D5VXjHUHw94Uu744uO8zb4kvaA1imkFcv6oY1E+zRi4g96PspWYOoLb5rv7vQczLWArCpVNJ/PLqm+EGQUZrzIZvWqybxJw9SSAeUTAmPckO5SyM55Hy8Uw1XwkcFammB4307yedJE+h89lR7tmqpy0nXAaH1h1g6LA1BW500aqoouvmDVa+g4yZfrKxnSs501hu9AARozsKs2DFhSpY3RsMBy0q9LK2sM1+CZa1cuJzNG95dLl6/p86AAN6jxjS6PYzrbvykYQl0+e5ykT5NSBSo+pV2hZBEZP6SHptkV6CUvnDHKKGQhdB3S/iMmG4U5mw67mI79voD87dSioVwyhB2WpoGy7K7yuHpnEJxDe3XQtKL3jbQ8f/5Cfpo6QvPMdNx3xhQIGNqE/xsatwXL1kqX1o2lf5fWWsGwvcm1AwIs1VjK7+hf/6hPIianzJ/8vVGBC2gaseE992zfTP4+dUY69RshUSNH9ldmXOUj3s27LDfk08asQ4tnjhH4VkIWQ3ZgUpA7OWBf78KFC6vnYDQLS1kO6dneoUyaynG6VCl1lBBAiYVyCCUav7ieGY5ltXDvoeNmSO3mnbWuwp8aE6nMeL7ia/vgCnzABXkCZb6moRRhidPOLRsZne8y1hhvDur5mEFd1dqO+rx+yy4Z3KOdtk/m8Y9dDqA8zBjTXy3GeEY8S6NalbRceSIw23K0DX06tZCuRnsBa3Hd77qoYojl8zxhX/7dtTuI44uO86b4mvaA1Klpo/rJZ0kSGh0QQ2neuF3rDj5iZPqLB5a+8Kb5Dkw9B3W7VdeBtjoAPTEgafCFYBbT/k0IeWswCxk9ccyonzNhiAonQggh7sF6vMdOnJRkiRM4KDlwB2jSobeOLo8d1F0t/eTdA8syFOC1C6aoEk38CDIWZkIIIYR8emCZwZZdBzp8JQ6YPsypv/g8UH1RCXkTqDATQggh5P8GVmaoW7W8+qzChxn+sKaPOIbaq1coGai+qIS8CXTJICQQwdJG+EQ6lrSBTxtmDRNCCPEMVmFYvWGrTJ71s66YAtcMKMr4xHRgLPVJfAeraOz49TcpVjC3bTIuocJMCCGEEEKIRzjGQQghhBBCiAeoMBNCCCGEEOIBKsyEEEIIIYR4gAozIYQQQgghHqDCTAghhBBCiAeoMBNCCCGEEOIBKsyEEEIIIYR4gAozIYQQB/ABHnx85/GTp9YQ0f/fde4vRSs1lMtXr1tDPyzw2YG79x7I7bv35NWrV9bQwOHCpSvSuG0viZEyp5Sr/Z1cv3nbeuTDBuWgdI2mUr9Vd7n/4KE1lJBPDyrMhBBCHPjtyJ8SL00+mbdopTXk4+DJ02fSbeAoqdKwrVy9ftMa+vY8ffZMRk6aLYf/OC6Tvu8tDWtWlODBg1mPEkI+BqgwE0IIIW/Bg4eP5J9TpyVd6pRSonBeKVu8ED+LT8hHBhVmQgghNgaOmiIFytXV/3DBCB0/vfQcPFZevvRzYXj27Lms37pLClWop8eKV2lsKItn9JgJ3BF6Dx0nybMV1zg1mnaU02cvWI/6x3T3wDV/XLJaKtRtqedlLlxRNmzbo64UJi9evJSFK37RY+b9V63fKiWqfmtzGzDdCLC17TFE4qbOK8079ZM8pWrKtLmLZPueA5IkU2FJnbu0/HH8H+uVXYN779j7m1Rq0EbdLdLmLSvjZ8y3uavsOXBYrfFI5/zFqzSOJ7cVWKNnLVgmeUrX1HTBjePSlWt6zEx39SYdZPbPyx3yGNZrex4+eizjps/X9JhxDv5+zCGv4Hayeeevegxx8D7mLlypabDnz+MnpUHr7pp2pKlD72H+XErQKfhp6Rpbvtdt0TVQrfSEBHWoMBNCCLHR+tvasmr+JP0/sn9nuXxsh3T4roHNxWDvb0dk6pxF0qx+NRnQrbUc+fOEtO81VG7cuqPHoUQ17dBHlqzeKJ1bNpT5k4fJmXMXpVydFl6V0137DkmvoeOlQO5ssmDqCIkfJ5YqkCt/2aLHoQxOmrVAajXrJGm+SC5LZ42VPDmyqNIJxdAZKLEn/zsjE4f1kka1KsmKueOlbtXykid7Zjm6fbnsXD1PvkiezBrbP7jfz8vXqQIfKlRImT1+sFQuW8zoDIw3FPx+cu/+A8maMa0c37NaCuXJLlXLl5BTB9bLwhmjJFaM6NarOLJu0w4jv4ZJ9W9KyewJQ1RZbm8oqPCtNlmyaoOMmzZf6lYrLzNGD5B7RiegYv3W6ioDoCx3HTBSBo6cLHWqltN8CBcurHxduZFs2rFX4yDt6FhUadhW4seLre+0UpmvpU2PwXoeOh4AnYHyxvOdv3hFpo3sJ/27tpJftuySmkYnx1TkwYp1m2Xd5p3Su0NzadesnqzesE36DZ/o4OdOyEeNUakIIYQQG7v3H7KEipfOMnXOQmuIxfLo8RNL8079LIkzFrJs2blPw169emUZNXm2xt24fY+GzfxxiSV6ihyW5Ws36XFw/J9TliyFK1k69vne8uzZcw2zx7w2rjN93mLL8+cvNPzy1euWcrW/s5Sq3sRy49Zty9nzFy35ytS2NGzTw3Lz9h2Ng3vMX7xKz63XspvFUGI1Ls7BPXFvE/M+RSo2sBjKoDXUPYhTvEpji6E8Wq7duKVhuB/SiPutWr9Vw8z7mff3xICRky0Fy9e1XLh0RfeR18jD8xcv266DPF6zcbu//EPa8QxG50DzePyM+f7yqtq37S137t53mXbEHThqiiVZlqKWQ0f/sjx4+EjzEuk5dfqcxgEbtu3W6+P9u8rLJ0+fWtr2GGJJlauU5ehff2sYIR87tDATQgjxmZSfJ5UvU/hZZYMFCybZMqfT/3C5gLXxtyPHJG+OLJI9SwY9DlJ8llR9e+FWYChgGuaK9Km/0HNDhgyh+3Fjx5SCebKrFRvXP3vhslq4C+fNIdGjRtE4uAcsxjmzZtR9e+BTnCBeHOuee+BuAHcI+w0rhfx7+pxarksVzS+xYkTTuLgf7o/n3rP/sM1S64y7a2ZKl0p+P/a39BwyVt05MqT5Uto0qSMJ48e1nimSJUMatVyb+fdZ0kRGPmQzzjshV6/dkL0HjkiyxAk1HfZ5hXT+buTVuYuX5PS5C5r2kkXySczofv7UiFumWAEJGya0WquxsoehOEuxQnkkSaIEGgcUzZ9Lbv6zVxrXrmwNcczLMKFDy1eZ0mr+0C2DfCpQYSaEEBIoPHr8WM6evyhrN+2QxBkLqa8rtnCJMsrQcdPl4uWrHhXmaFEjS6SIEax7fsSOGV2u3bgld+7dVwUPxDLC7IkQIbxxXnjrXsAZM3Wu+iHbb3BVcHe/SJEiSNTIkeSyobw+fvLEGuqIu2sWzpdDRvTrpJ0A+Iojn374aamD73EU49rhwoax7omEDhVKokaJLLdu35Ubt2+rq8TRv/6W9PnL2/IYG/zATSX27PlLem69lt0kTIIMtjhZClfSOOeMzgf8lOG/jM5HiBBUBwjxBGsIIYSQQAGKXayYMaRima/Vlxf+z/abN5/h23fu+VvrF8py8mSJJVKECDYr7HUjzJ6HDx8Z5z2y7gWc7m2byLNLRx22Ivlyer1fvNgxDcU2rDXUEXfXhHW2XrUKcnDTYjlzaJNUKVdcvh8/U/48cdJ6Ju53U63RJvh/5+49iR4tikSLHFkVXFjUj2xd5i+PseXOltmm5MMX3FUc+KXD8pw2VQrNY0KIZ6gwE0IICRQiRggvGdJ8IfsOHlUrJ5ZWwxY8eHDpM2y8ThKDq4I7YDXdumu/zdp65doNY3+fuoEkSRRfkiSMp4oiJqWZk+QQF5MF4aoR2EBRh9vDsrWb9WMnAPfbuH2vKri5smWyuUT4Alan6D9ikrTpPlg7BvHjxpbaVcr6c23AZMUDh/0m+IH/zpzXfEmXKqXEjRNLsmRIrc+LCY1mHiPvJ878SVp3GyTXjGslT5pY3UZ27z+kx8x4eDd1mnfR8EQJ4knm9Kll3eYdOjHTZOP2PbpiBlYssbd8E/IpE6KPgfU/IYQQokvI7Tt0VN0rYBHFMnKpUn4u23bvV1/cCqWK2Fwnzl+6IrMWLFf/WfjeQrGFjy2WRcPKElAEB4+ZKtv3/KYrcKT9MoXNN9cEfsAbtu1Wf9pd+w6qaweszX2/n2AodoelT8fv9NpwVXjw6LGMmPiD/PX3v+q2sHjVBlVC4T8NH2j4Sr989UqWr90kEcKH1308AwgZIoShZJ6V6fMWSzxD8YS/tRj6YML4rv2coWiGDBlSl5Hbf+gPYz+crpoxYORktQzXq15BLcxwy3B1P2dwf6ysgY4D8gB5iKXhIoQPp1ZnPA+uc8pQkNcbnYKwxv7f/55Rf2c8X8/2zeSzJAlV0YY7xfAJP8grQ6HFsXHT5sm0uYulab2qkid7FnVvwcomw8bPVIUcbiur1m8z8nSioSSn0hU4okSKqK4e85eskZW/bNX/WGVj0Oip6kPdslEtddVw9Wxw5VhudCRqVipjpCmRhhHyMUMLMyGEEAeg9HZq0VAuXb2ufrFYxgxWYl+AIjplRB9VroaOmyG1m3eW589f6NJucElwVpbtweQ9LG129K9/pNq37Q3F+YnMn/y9oYwX0POwNatXTeZNGiZnL1ySBq17qC/wuCHddVk3b+B8KHj4Eh+U3mVrNnq0ECM+lopbNnucLtuG+8H6iqXXhvRsb5t4GBBKFM6nXwPEWtAlqzXRsOF9O8nnSV8rnbgnlvRbunqjNGzTQyfbTR3ZV7JnTq/HIxuK7uCebaVd83oy5+cVep2Tp85qHlerUEqfCWmvXbmczBjdXy5dvqZxsAZ1gxrfSK8OzW1pz5czqyw3ni99mpTSrGNfVeArlCwi44f0kDixYmgcQoghDywcbyGEEPJ/BBZSfCwDH0CZM2GIKt2fIrDe1/2ui/qBjx3Uzd8ESELI/w9amAkhhBBCCPEAFWZCCCGEEEI8QIWZEELI/xVMLIMvLSYThg4dyhr66YEJdWWLF5L8ubLqZENCSNCBPsyEEEIIIYR4gBZmQgghhBBCPECFmRBCCCGEEA9QYSaEEEIIIcQDVJgJIYQQQgjxABVmQgghhBBCPECFmRBCCCGEEA9QYSaEEEIIIcQDVJgJIYQQQgjxABVmQgghhBBCPECFmRBCCCGEEA9QYSaEEEIIIcQDVJgJIYQQQgjxABVmQgghhBBCPECFmRBCCCGEEA9QYSaEEEIIIcQDVJgJIYQQQghxi8j/APOk82THbvjbAAAAAElFTkSuQmCC)"
      ],
      "metadata": {
        "id": "GMxCxRzipigv"
      }
    },
    {
      "cell_type": "code",
      "source": [],
      "metadata": {
        "id": "3pkPd2Y-oGIx"
      },
      "execution_count": 23,
      "outputs": []
    }
  ],
  "metadata": {
    "colab": {
      "provenance": [],
      "include_colab_link": true
    },
    "kernelspec": {
      "display_name": "Python 3",
      "language": "python",
      "name": "python3"
    },
    "language_info": {
      "codemirror_mode": {
        "name": "ipython",
        "version": 3
      },
      "file_extension": ".py",
      "mimetype": "text/x-python",
      "name": "python",
      "nbconvert_exporter": "python",
      "pygments_lexer": "ipython3",
      "version": "3.8.8"
    }
  },
  "nbformat": 4,
  "nbformat_minor": 0
}