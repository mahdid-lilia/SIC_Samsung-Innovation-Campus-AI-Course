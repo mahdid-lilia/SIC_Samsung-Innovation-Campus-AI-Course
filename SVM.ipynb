{
  "cells": [
    {
      "cell_type": "markdown",
      "metadata": {
        "id": "view-in-github",
        "colab_type": "text"
      },
      "source": [
        "<a href=\"https://colab.research.google.com/github/mahdid-lilia/SIC_Samsung-Innovation-Campus-AI-Course/blob/main/SVM.ipynb\" target=\"_parent\"><img src=\"https://colab.research.google.com/assets/colab-badge.svg\" alt=\"Open In Colab\"/></a>"
      ]
    },
    {
      "cell_type": "markdown",
      "metadata": {
        "id": "A0k_IJlZHc6i"
      },
      "source": [
        "## Coding Exercise #0311"
      ]
    },
    {
      "cell_type": "markdown",
      "metadata": {
        "id": "JG-Ip6TeHc6r"
      },
      "source": [
        "### 1. Classification with SVM:"
      ]
    },
    {
      "cell_type": "code",
      "execution_count": 1,
      "metadata": {
        "id": "OuUUqjIjHc6t"
      },
      "outputs": [],
      "source": [
        "import numpy as np\n",
        "import pandas as pd\n",
        "import matplotlib.pyplot as plt\n",
        "import seaborn as sns\n",
        "import warnings\n",
        "from sklearn.model_selection import train_test_split,GridSearchCV\n",
        "from sklearn.svm import SVC\n",
        "from sklearn import metrics\n",
        "from sklearn.datasets import load_iris\n",
        "warnings.filterwarnings(action='ignore')                  # Turn off the warnings.\n",
        "%matplotlib inline"
      ]
    },
    {
      "cell_type": "markdown",
      "metadata": {
        "id": "ibYS2s0OHc6v"
      },
      "source": [
        "#### 1.1. Read in data:"
      ]
    },
    {
      "cell_type": "code",
      "execution_count": 2,
      "metadata": {
        "id": "egtHE5leHc6w"
      },
      "outputs": [],
      "source": [
        "# Load data.\n",
        "data = load_iris()"
      ]
    },
    {
      "cell_type": "code",
      "execution_count": 3,
      "metadata": {
        "colab": {
          "base_uri": "https://localhost:8080/"
        },
        "id": "pP6WA3bfHc6x",
        "outputId": "ace07688-ec95-4634-c357-e671a7b5ac34"
      },
      "outputs": [
        {
          "output_type": "stream",
          "name": "stdout",
          "text": [
            "['sepal length (cm)', 'sepal width (cm)', 'petal length (cm)', 'petal width (cm)']\n"
          ]
        }
      ],
      "source": [
        "# Explanatory variables.\n",
        "X = data['data']\n",
        "columns = list(data['feature_names'])\n",
        "print(columns)"
      ]
    },
    {
      "cell_type": "code",
      "execution_count": 4,
      "metadata": {
        "colab": {
          "base_uri": "https://localhost:8080/"
        },
        "id": "oyZJfcl9Hc6y",
        "outputId": "f8bca1fc-c7a6-40ef-d421-239e0632068e"
      },
      "outputs": [
        {
          "output_type": "stream",
          "name": "stdout",
          "text": [
            "['setosa', 'versicolor', 'virginica']\n"
          ]
        }
      ],
      "source": [
        "# Response variable.\n",
        "Y = data['target']\n",
        "labels = list(data['target_names'])\n",
        "print(labels)"
      ]
    },
    {
      "cell_type": "code",
      "execution_count": 5,
      "metadata": {
        "id": "7vMhgCcEHc60"
      },
      "outputs": [],
      "source": [
        "X_train, X_test, Y_train, Y_test = train_test_split(X, Y, test_size=0.3, random_state=1234)"
      ]
    },
    {
      "cell_type": "markdown",
      "metadata": {
        "id": "jrBbVXqmHc61"
      },
      "source": [
        "#### 1.2. SVM hyperparameter optimization (RBF kernel):"
      ]
    },
    {
      "cell_type": "markdown",
      "metadata": {
        "id": "MVGBked9Hc63"
      },
      "source": [
        "C     : Penalty parameter. <br>\n",
        "gamma : kernel parameter ($\\gamma$)."
      ]
    },
    {
      "cell_type": "code",
      "execution_count": 6,
      "metadata": {
        "id": "hqem4AaVHc64"
      },
      "outputs": [],
      "source": [
        "C_grid = 0.02*np.arange(1,20)\n",
        "gamma_grid = 0.02*np.arange(1,50)\n",
        "parameters = {'C': C_grid, 'gamma' : gamma_grid}\n",
        "gridCV = GridSearchCV(SVC(kernel='rbf'), parameters, cv=10, n_jobs=-1)              # \"n_jobs = -1\" means \"use all the CPU cores\".\n",
        "gridCV.fit(X_train, Y_train)\n",
        "best_C = gridCV.best_params_['C']\n",
        "best_gamma = gridCV.best_params_['gamma']"
      ]
    },
    {
      "cell_type": "code",
      "execution_count": 7,
      "metadata": {
        "colab": {
          "base_uri": "https://localhost:8080/"
        },
        "id": "vHKYTlMjHc65",
        "outputId": "2f610c69-2bcb-4db8-e9d3-48c760de8494"
      },
      "outputs": [
        {
          "output_type": "stream",
          "name": "stdout",
          "text": [
            "SVM best C : 0.2\n",
            "SVM best gamma : 0.78\n"
          ]
        }
      ],
      "source": [
        "print(\"SVM best C : \" + str(best_C))\n",
        "print(\"SVM best gamma : \" + str(best_gamma))"
      ]
    },
    {
      "cell_type": "code",
      "execution_count": 8,
      "metadata": {
        "colab": {
          "base_uri": "https://localhost:8080/"
        },
        "id": "Ts3D05nnHc66",
        "outputId": "84a8ffae-6612-409c-f63b-19496e20d26b"
      },
      "outputs": [
        {
          "output_type": "stream",
          "name": "stdout",
          "text": [
            "SVM best accuracy : 0.978\n"
          ]
        }
      ],
      "source": [
        "SVM_best = SVC(kernel='rbf', C=best_C,gamma=best_gamma)\n",
        "SVM_best.fit(X_train, Y_train);\n",
        "Y_pred = SVM_best.predict(X_test)\n",
        "print( \"SVM best accuracy : \" + str(np.round(metrics.accuracy_score(Y_test,Y_pred),3)))"
      ]
    },
    {
      "cell_type": "markdown",
      "source": [
        "### testing gamma"
      ],
      "metadata": {
        "id": "qHTuNJZsMhXv"
      }
    },
    {
      "cell_type": "code",
      "source": [
        "SVM_best = SVC(kernel='rbf', gamma=0.0001)\n",
        "SVM_best.fit(X_train, Y_train);\n",
        "Y_pred = SVM_best.predict(X_test)\n",
        "print( \"SVM best accuracy : \" + str(np.round(metrics.accuracy_score(Y_test,Y_pred),3)))"
      ],
      "metadata": {
        "colab": {
          "base_uri": "https://localhost:8080/"
        },
        "id": "r8boz9w3MByo",
        "outputId": "f7712848-7f5b-411e-f425-a355446acf96"
      },
      "execution_count": 9,
      "outputs": [
        {
          "output_type": "stream",
          "name": "stdout",
          "text": [
            "SVM best accuracy : 0.267\n"
          ]
        }
      ]
    },
    {
      "cell_type": "code",
      "source": [
        "SVM_best = SVC(kernel='rbf', gamma=0.001)\n",
        "SVM_best.fit(X_train, Y_train);\n",
        "Y_pred = SVM_best.predict(X_test)\n",
        "print( \"SVM best accuracy : \" + str(np.round(metrics.accuracy_score(Y_test,Y_pred),3)))"
      ],
      "metadata": {
        "colab": {
          "base_uri": "https://localhost:8080/"
        },
        "id": "SCAZ2NHEL5vi",
        "outputId": "df266a99-46fe-4ee5-ec9f-69e68df14345"
      },
      "execution_count": 10,
      "outputs": [
        {
          "output_type": "stream",
          "name": "stdout",
          "text": [
            "SVM best accuracy : 0.622\n"
          ]
        }
      ]
    },
    {
      "cell_type": "code",
      "source": [
        "SVM_best = SVC(kernel='rbf', gamma=0.01)\n",
        "SVM_best.fit(X_train, Y_train);\n",
        "Y_pred = SVM_best.predict(X_test)\n",
        "print( \"SVM best accuracy : \" + str(np.round(metrics.accuracy_score(Y_test,Y_pred),3)))"
      ],
      "metadata": {
        "colab": {
          "base_uri": "https://localhost:8080/"
        },
        "id": "FnFiqu7zL9cG",
        "outputId": "0f7e32cf-fbd8-421d-f4fc-c74348cb56fc"
      },
      "execution_count": 11,
      "outputs": [
        {
          "output_type": "stream",
          "name": "stdout",
          "text": [
            "SVM best accuracy : 0.978\n"
          ]
        }
      ]
    },
    {
      "cell_type": "markdown",
      "source": [
        "### Testing C"
      ],
      "metadata": {
        "id": "RUeao1ZwMyJB"
      }
    },
    {
      "cell_type": "code",
      "source": [
        "SVM_best = SVC(kernel='rbf', C=1)\n",
        "SVM_best.fit(X_train, Y_train);\n",
        "Y_pred = SVM_best.predict(X_test)\n",
        "print( \"SVM best accuracy : \" + str(np.round(metrics.accuracy_score(Y_test,Y_pred),3)))"
      ],
      "metadata": {
        "colab": {
          "base_uri": "https://localhost:8080/"
        },
        "id": "XttLT8VqMuS7",
        "outputId": "d273dc2a-4597-4e8b-80ad-0a54c732f64f"
      },
      "execution_count": 12,
      "outputs": [
        {
          "output_type": "stream",
          "name": "stdout",
          "text": [
            "SVM best accuracy : 0.978\n"
          ]
        }
      ]
    },
    {
      "cell_type": "code",
      "source": [
        "SVM_best = SVC(kernel='rbf', C=0.001)\n",
        "SVM_best.fit(X_train, Y_train);\n",
        "Y_pred = SVM_best.predict(X_test)\n",
        "print( \"SVM best accuracy : \" + str(np.round(metrics.accuracy_score(Y_test,Y_pred),3)))"
      ],
      "metadata": {
        "colab": {
          "base_uri": "https://localhost:8080/"
        },
        "id": "aHR9ZGIgM1KA",
        "outputId": "0a4ad6ef-f8fa-4204-bee9-731abb1d033d"
      },
      "execution_count": 13,
      "outputs": [
        {
          "output_type": "stream",
          "name": "stdout",
          "text": [
            "SVM best accuracy : 0.267\n"
          ]
        }
      ]
    },
    {
      "cell_type": "code",
      "source": [
        "SVM_best = SVC(kernel='rbf', C=0.01)\n",
        "SVM_best.fit(X_train, Y_train);\n",
        "Y_pred = SVM_best.predict(X_test)\n",
        "print( \"SVM best accuracy : \" + str(np.round(metrics.accuracy_score(Y_test,Y_pred),3)))"
      ],
      "metadata": {
        "colab": {
          "base_uri": "https://localhost:8080/"
        },
        "id": "U_wP_LHPM21l",
        "outputId": "4acd5ab1-b27f-4e9d-833e-a24699d6e0fd"
      },
      "execution_count": 14,
      "outputs": [
        {
          "output_type": "stream",
          "name": "stdout",
          "text": [
            "SVM best accuracy : 0.267\n"
          ]
        }
      ]
    },
    {
      "cell_type": "code",
      "source": [
        "SVM_best = SVC(kernel='rbf', C=5)\n",
        "SVM_best.fit(X_train, Y_train);\n",
        "Y_pred = SVM_best.predict(X_test)\n",
        "print( \"SVM best accuracy : \" + str(np.round(metrics.accuracy_score(Y_test,Y_pred),3)))"
      ],
      "metadata": {
        "colab": {
          "base_uri": "https://localhost:8080/"
        },
        "id": "E5vR7I8RM5PI",
        "outputId": "8cfa8c21-ba27-4b03-e832-c7d219f87aca"
      },
      "execution_count": 15,
      "outputs": [
        {
          "output_type": "stream",
          "name": "stdout",
          "text": [
            "SVM best accuracy : 1.0\n"
          ]
        }
      ]
    },
    {
      "cell_type": "markdown",
      "source": [
        "### testing C"
      ],
      "metadata": {
        "id": "J_R360oVMq-g"
      }
    },
    {
      "cell_type": "markdown",
      "metadata": {
        "id": "GBiR4lfmHc66"
      },
      "source": [
        "#### 1.3. SVM hyperparameter optimization (Polynomial kernel):"
      ]
    },
    {
      "cell_type": "code",
      "execution_count": 16,
      "metadata": {
        "id": "h-W3cYaIHc67"
      },
      "outputs": [],
      "source": [
        "C_grid = 0.0001*np.arange(1,30)\n",
        "gamma_grid = 0.01*np.arange(1,30)\n",
        "parameters = {'C': C_grid, 'gamma' : gamma_grid}\n",
        "gridCV = GridSearchCV(SVC(kernel='poly'), parameters, cv=10, n_jobs=-1)              # \"n_jobs = -1\" means \"use all the CPU cores\".\n",
        "gridCV.fit(X_train, Y_train)\n",
        "best_C = gridCV.best_params_['C']\n",
        "best_gamma = gridCV.best_params_['gamma']"
      ]
    },
    {
      "cell_type": "code",
      "execution_count": 17,
      "metadata": {
        "colab": {
          "base_uri": "https://localhost:8080/"
        },
        "id": "NWozYsaNHc68",
        "outputId": "77d84f0b-bec8-43c0-8dcd-0d28d94e2664"
      },
      "outputs": [
        {
          "output_type": "stream",
          "name": "stdout",
          "text": [
            "SVM best C : 0.0007\n",
            "SVM best gamma : 0.27\n"
          ]
        }
      ],
      "source": [
        "print(\"SVM best C : \" + str(best_C))\n",
        "print(\"SVM best gamma : \" + str(best_gamma))"
      ]
    },
    {
      "cell_type": "code",
      "execution_count": 18,
      "metadata": {
        "colab": {
          "base_uri": "https://localhost:8080/"
        },
        "id": "_sjra9ckHc69",
        "outputId": "c93e22e7-b828-4867-d921-4f0cdd00ec23"
      },
      "outputs": [
        {
          "output_type": "stream",
          "name": "stdout",
          "text": [
            "SVM best accuracy : 0.956\n"
          ]
        }
      ],
      "source": [
        "SVM_best = SVC(kernel='poly', C=best_C,gamma=best_gamma)\n",
        "SVM_best.fit(X_train, Y_train);\n",
        "Y_pred = SVM_best.predict(X_test)\n",
        "print( \"SVM best accuracy : \" + str(np.round(metrics.accuracy_score(Y_test,Y_pred),3)))"
      ]
    },
    {
      "cell_type": "code",
      "execution_count": 18,
      "metadata": {
        "id": "LkeaBURZHc69"
      },
      "outputs": [],
      "source": []
    }
  ],
  "metadata": {
    "kernelspec": {
      "display_name": "Python 3",
      "language": "python",
      "name": "python3"
    },
    "language_info": {
      "codemirror_mode": {
        "name": "ipython",
        "version": 3
      },
      "file_extension": ".py",
      "mimetype": "text/x-python",
      "name": "python",
      "nbconvert_exporter": "python",
      "pygments_lexer": "ipython3",
      "version": "3.8.8"
    },
    "colab": {
      "provenance": [],
      "include_colab_link": true
    }
  },
  "nbformat": 4,
  "nbformat_minor": 0
}