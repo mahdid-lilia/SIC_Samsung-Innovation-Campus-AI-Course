{
  "cells": [
    {
      "cell_type": "markdown",
      "metadata": {
        "id": "view-in-github",
        "colab_type": "text"
      },
      "source": [
        "<a href=\"https://colab.research.google.com/github/mahdid-lilia/SIC_Samsung-Innovation-Campus-AI-Course/blob/main/Categorical_Naive_bayes.ipynb\" target=\"_parent\"><img src=\"https://colab.research.google.com/assets/colab-badge.svg\" alt=\"Open In Colab\"/></a>"
      ]
    },
    {
      "cell_type": "markdown",
      "metadata": {
        "id": "4c6Ss12oFcHB"
      },
      "source": [
        "## Coding Exercise #0310"
      ]
    },
    {
      "cell_type": "code",
      "source": [
        "from google.colab import drive\n",
        "drive.mount('/content/drive')"
      ],
      "metadata": {
        "colab": {
          "base_uri": "https://localhost:8080/"
        },
        "id": "Q97V9bw3fsal",
        "outputId": "2b5fe52b-4067-4ac0-9e30-9d6b07a0520b"
      },
      "execution_count": null,
      "outputs": [
        {
          "output_type": "stream",
          "name": "stdout",
          "text": [
            "Mounted at /content/drive\n"
          ]
        }
      ]
    },
    {
      "cell_type": "markdown",
      "metadata": {
        "id": "QtsTGPNlFcHD"
      },
      "source": [
        "### 1. Classification with KNN:"
      ]
    },
    {
      "cell_type": "code",
      "execution_count": null,
      "metadata": {
        "id": "pM9bFbXNFcHD"
      },
      "outputs": [],
      "source": [
        "import numpy as np\n",
        "import pandas as pd\n",
        "import matplotlib.pyplot as plt\n",
        "import os\n",
        "import seaborn as sns\n",
        "import warnings\n",
        "from sklearn.model_selection import train_test_split,GridSearchCV\n",
        "from sklearn.naive_bayes import CategoricalNB\n",
        "from sklearn import metrics, preprocessing\n",
        "warnings.filterwarnings(action='ignore')                  # Turn off the warnings.\n",
        "%matplotlib inline\n",
        "from sklearn.metrics import classification_report\n"
      ]
    },
    {
      "cell_type": "markdown",
      "metadata": {
        "id": "t3KNGm-uFcHF"
      },
      "source": [
        "#### 1.1. Read in data:"
      ]
    },
    {
      "cell_type": "markdown",
      "metadata": {
        "id": "de2zIZyvFcHF"
      },
      "source": [
        "The data and explanation can be found [here](https://www.kaggle.com/c/titanic/data) (requires sign in)."
      ]
    },
    {
      "cell_type": "code",
      "execution_count": null,
      "metadata": {
        "id": "N-iCW3mIFcHF"
      },
      "outputs": [],
      "source": [
        "# Go to the directory where the data file is located. \n",
        "# os.chdir(r'~~')                # Please, replace the path with your own.   "
      ]
    },
    {
      "cell_type": "code",
      "execution_count": null,
      "metadata": {
        "id": "w-m6tQcuFcHF"
      },
      "outputs": [],
      "source": [
        "df = pd.read_csv('/content/drive/MyDrive/data_set/data_titanic.csv', header='infer')"
      ]
    },
    {
      "cell_type": "code",
      "execution_count": null,
      "metadata": {
        "colab": {
          "base_uri": "https://localhost:8080/"
        },
        "id": "uABfLwyDFcHG",
        "outputId": "633a3d52-eac4-4335-e1b8-d04cbb04bcc1"
      },
      "outputs": [
        {
          "output_type": "execute_result",
          "data": {
            "text/plain": [
              "(891, 12)"
            ]
          },
          "metadata": {},
          "execution_count": 30
        }
      ],
      "source": [
        "df.shape\n"
      ]
    },
    {
      "cell_type": "code",
      "execution_count": null,
      "metadata": {
        "colab": {
          "base_uri": "https://localhost:8080/",
          "height": 274
        },
        "id": "I_JE3XO-FcHG",
        "outputId": "277a76c8-0cdd-4f40-cca1-652092fb4eee"
      },
      "outputs": [
        {
          "output_type": "execute_result",
          "data": {
            "text/plain": [
              "   PassengerId  Survived  Pclass  \\\n",
              "0            1         0       3   \n",
              "1            2         1       1   \n",
              "2            3         1       3   \n",
              "\n",
              "                                                Name     Sex   Age  SibSp  \\\n",
              "0                            Braund, Mr. Owen Harris    male  22.0      1   \n",
              "1  Cumings, Mrs. John Bradley (Florence Briggs Th...  female  38.0      1   \n",
              "2                             Heikkinen, Miss. Laina  female  26.0      0   \n",
              "\n",
              "   Parch            Ticket     Fare Cabin Embarked  \n",
              "0      0         A/5 21171   7.2500   NaN        S  \n",
              "1      0          PC 17599  71.2833   C85        C  \n",
              "2      0  STON/O2. 3101282   7.9250   NaN        S  "
            ],
            "text/html": [
              "\n",
              "  <div id=\"df-84e0b3df-7816-4c93-b8b0-17a255b6298a\">\n",
              "    <div class=\"colab-df-container\">\n",
              "      <div>\n",
              "<style scoped>\n",
              "    .dataframe tbody tr th:only-of-type {\n",
              "        vertical-align: middle;\n",
              "    }\n",
              "\n",
              "    .dataframe tbody tr th {\n",
              "        vertical-align: top;\n",
              "    }\n",
              "\n",
              "    .dataframe thead th {\n",
              "        text-align: right;\n",
              "    }\n",
              "</style>\n",
              "<table border=\"1\" class=\"dataframe\">\n",
              "  <thead>\n",
              "    <tr style=\"text-align: right;\">\n",
              "      <th></th>\n",
              "      <th>PassengerId</th>\n",
              "      <th>Survived</th>\n",
              "      <th>Pclass</th>\n",
              "      <th>Name</th>\n",
              "      <th>Sex</th>\n",
              "      <th>Age</th>\n",
              "      <th>SibSp</th>\n",
              "      <th>Parch</th>\n",
              "      <th>Ticket</th>\n",
              "      <th>Fare</th>\n",
              "      <th>Cabin</th>\n",
              "      <th>Embarked</th>\n",
              "    </tr>\n",
              "  </thead>\n",
              "  <tbody>\n",
              "    <tr>\n",
              "      <th>0</th>\n",
              "      <td>1</td>\n",
              "      <td>0</td>\n",
              "      <td>3</td>\n",
              "      <td>Braund, Mr. Owen Harris</td>\n",
              "      <td>male</td>\n",
              "      <td>22.0</td>\n",
              "      <td>1</td>\n",
              "      <td>0</td>\n",
              "      <td>A/5 21171</td>\n",
              "      <td>7.2500</td>\n",
              "      <td>NaN</td>\n",
              "      <td>S</td>\n",
              "    </tr>\n",
              "    <tr>\n",
              "      <th>1</th>\n",
              "      <td>2</td>\n",
              "      <td>1</td>\n",
              "      <td>1</td>\n",
              "      <td>Cumings, Mrs. John Bradley (Florence Briggs Th...</td>\n",
              "      <td>female</td>\n",
              "      <td>38.0</td>\n",
              "      <td>1</td>\n",
              "      <td>0</td>\n",
              "      <td>PC 17599</td>\n",
              "      <td>71.2833</td>\n",
              "      <td>C85</td>\n",
              "      <td>C</td>\n",
              "    </tr>\n",
              "    <tr>\n",
              "      <th>2</th>\n",
              "      <td>3</td>\n",
              "      <td>1</td>\n",
              "      <td>3</td>\n",
              "      <td>Heikkinen, Miss. Laina</td>\n",
              "      <td>female</td>\n",
              "      <td>26.0</td>\n",
              "      <td>0</td>\n",
              "      <td>0</td>\n",
              "      <td>STON/O2. 3101282</td>\n",
              "      <td>7.9250</td>\n",
              "      <td>NaN</td>\n",
              "      <td>S</td>\n",
              "    </tr>\n",
              "  </tbody>\n",
              "</table>\n",
              "</div>\n",
              "      <button class=\"colab-df-convert\" onclick=\"convertToInteractive('df-84e0b3df-7816-4c93-b8b0-17a255b6298a')\"\n",
              "              title=\"Convert this dataframe to an interactive table.\"\n",
              "              style=\"display:none;\">\n",
              "        \n",
              "  <svg xmlns=\"http://www.w3.org/2000/svg\" height=\"24px\"viewBox=\"0 0 24 24\"\n",
              "       width=\"24px\">\n",
              "    <path d=\"M0 0h24v24H0V0z\" fill=\"none\"/>\n",
              "    <path d=\"M18.56 5.44l.94 2.06.94-2.06 2.06-.94-2.06-.94-.94-2.06-.94 2.06-2.06.94zm-11 1L8.5 8.5l.94-2.06 2.06-.94-2.06-.94L8.5 2.5l-.94 2.06-2.06.94zm10 10l.94 2.06.94-2.06 2.06-.94-2.06-.94-.94-2.06-.94 2.06-2.06.94z\"/><path d=\"M17.41 7.96l-1.37-1.37c-.4-.4-.92-.59-1.43-.59-.52 0-1.04.2-1.43.59L10.3 9.45l-7.72 7.72c-.78.78-.78 2.05 0 2.83L4 21.41c.39.39.9.59 1.41.59.51 0 1.02-.2 1.41-.59l7.78-7.78 2.81-2.81c.8-.78.8-2.07 0-2.86zM5.41 20L4 18.59l7.72-7.72 1.47 1.35L5.41 20z\"/>\n",
              "  </svg>\n",
              "      </button>\n",
              "      \n",
              "  <style>\n",
              "    .colab-df-container {\n",
              "      display:flex;\n",
              "      flex-wrap:wrap;\n",
              "      gap: 12px;\n",
              "    }\n",
              "\n",
              "    .colab-df-convert {\n",
              "      background-color: #E8F0FE;\n",
              "      border: none;\n",
              "      border-radius: 50%;\n",
              "      cursor: pointer;\n",
              "      display: none;\n",
              "      fill: #1967D2;\n",
              "      height: 32px;\n",
              "      padding: 0 0 0 0;\n",
              "      width: 32px;\n",
              "    }\n",
              "\n",
              "    .colab-df-convert:hover {\n",
              "      background-color: #E2EBFA;\n",
              "      box-shadow: 0px 1px 2px rgba(60, 64, 67, 0.3), 0px 1px 3px 1px rgba(60, 64, 67, 0.15);\n",
              "      fill: #174EA6;\n",
              "    }\n",
              "\n",
              "    [theme=dark] .colab-df-convert {\n",
              "      background-color: #3B4455;\n",
              "      fill: #D2E3FC;\n",
              "    }\n",
              "\n",
              "    [theme=dark] .colab-df-convert:hover {\n",
              "      background-color: #434B5C;\n",
              "      box-shadow: 0px 1px 3px 1px rgba(0, 0, 0, 0.15);\n",
              "      filter: drop-shadow(0px 1px 2px rgba(0, 0, 0, 0.3));\n",
              "      fill: #FFFFFF;\n",
              "    }\n",
              "  </style>\n",
              "\n",
              "      <script>\n",
              "        const buttonEl =\n",
              "          document.querySelector('#df-84e0b3df-7816-4c93-b8b0-17a255b6298a button.colab-df-convert');\n",
              "        buttonEl.style.display =\n",
              "          google.colab.kernel.accessAllowed ? 'block' : 'none';\n",
              "\n",
              "        async function convertToInteractive(key) {\n",
              "          const element = document.querySelector('#df-84e0b3df-7816-4c93-b8b0-17a255b6298a');\n",
              "          const dataTable =\n",
              "            await google.colab.kernel.invokeFunction('convertToInteractive',\n",
              "                                                     [key], {});\n",
              "          if (!dataTable) return;\n",
              "\n",
              "          const docLinkHtml = 'Like what you see? Visit the ' +\n",
              "            '<a target=\"_blank\" href=https://colab.research.google.com/notebooks/data_table.ipynb>data table notebook</a>'\n",
              "            + ' to learn more about interactive tables.';\n",
              "          element.innerHTML = '';\n",
              "          dataTable['output_type'] = 'display_data';\n",
              "          await google.colab.output.renderOutput(dataTable, element);\n",
              "          const docLink = document.createElement('div');\n",
              "          docLink.innerHTML = docLinkHtml;\n",
              "          element.appendChild(docLink);\n",
              "        }\n",
              "      </script>\n",
              "    </div>\n",
              "  </div>\n",
              "  "
            ]
          },
          "metadata": {},
          "execution_count": 31
        }
      ],
      "source": [
        "df.head(3)"
      ]
    },
    {
      "cell_type": "markdown",
      "metadata": {
        "id": "WAKEz-C5FcHG"
      },
      "source": [
        "#### 1.2. Missing value processing: "
      ]
    },
    {
      "cell_type": "code",
      "execution_count": null,
      "metadata": {
        "colab": {
          "base_uri": "https://localhost:8080/"
        },
        "id": "out3ricZFcHG",
        "outputId": "7e442680-2c27-4f4c-8235-f379c8c9a298"
      },
      "outputs": [
        {
          "output_type": "execute_result",
          "data": {
            "text/plain": [
              "PassengerId      0\n",
              "Survived         0\n",
              "Pclass           0\n",
              "Name             0\n",
              "Sex              0\n",
              "Age            177\n",
              "SibSp            0\n",
              "Parch            0\n",
              "Ticket           0\n",
              "Fare             0\n",
              "Cabin          687\n",
              "Embarked         2\n",
              "dtype: int64"
            ]
          },
          "metadata": {},
          "execution_count": 32
        }
      ],
      "source": [
        "# Check for the missing values.\n",
        "df.isnull().sum(axis=0)"
      ]
    },
    {
      "cell_type": "code",
      "execution_count": null,
      "metadata": {
        "id": "pdsCtq05FcHH"
      },
      "outputs": [],
      "source": [
        "# Fill the missing values in the Age variable.\n",
        "n = df.shape[0]\n",
        "Age = []                                                               # A temporary list.\n",
        "for i in range(n):\n",
        "    if np.isnan(df.Age[i]):\n",
        "        if ('Mr' in df.Name[i]) or ('Mrs' in df.Name[i]) :\n",
        "            Age.append(30)                                             # If Mr. or Mrs. in the name, then fill with 30.\n",
        "        else:\n",
        "            Age.append(10)                                             # Likely a child. So, fill with 10.\n",
        "    else:\n",
        "        Age.append(df.Age[i])\n",
        "df.Age = pd.Series(Age)"
      ]
    },
    {
      "cell_type": "code",
      "execution_count": null,
      "metadata": {
        "colab": {
          "base_uri": "https://localhost:8080/",
          "height": 143
        },
        "id": "rkfp2YG3FcHH",
        "outputId": "b4cb3840-c423-4053-adf6-83812a3086aa"
      },
      "outputs": [
        {
          "output_type": "execute_result",
          "data": {
            "text/plain": [
              "   Survived  Pclass     Sex   Age  SibSp  Parch Embarked\n",
              "0         0       3    male  22.0      1      0        S\n",
              "1         1       1  female  38.0      1      0        C\n",
              "2         1       3  female  26.0      0      0        S"
            ],
            "text/html": [
              "\n",
              "  <div id=\"df-86e69746-1128-401e-b94c-6a5f356309a0\">\n",
              "    <div class=\"colab-df-container\">\n",
              "      <div>\n",
              "<style scoped>\n",
              "    .dataframe tbody tr th:only-of-type {\n",
              "        vertical-align: middle;\n",
              "    }\n",
              "\n",
              "    .dataframe tbody tr th {\n",
              "        vertical-align: top;\n",
              "    }\n",
              "\n",
              "    .dataframe thead th {\n",
              "        text-align: right;\n",
              "    }\n",
              "</style>\n",
              "<table border=\"1\" class=\"dataframe\">\n",
              "  <thead>\n",
              "    <tr style=\"text-align: right;\">\n",
              "      <th></th>\n",
              "      <th>Survived</th>\n",
              "      <th>Pclass</th>\n",
              "      <th>Sex</th>\n",
              "      <th>Age</th>\n",
              "      <th>SibSp</th>\n",
              "      <th>Parch</th>\n",
              "      <th>Embarked</th>\n",
              "    </tr>\n",
              "  </thead>\n",
              "  <tbody>\n",
              "    <tr>\n",
              "      <th>0</th>\n",
              "      <td>0</td>\n",
              "      <td>3</td>\n",
              "      <td>male</td>\n",
              "      <td>22.0</td>\n",
              "      <td>1</td>\n",
              "      <td>0</td>\n",
              "      <td>S</td>\n",
              "    </tr>\n",
              "    <tr>\n",
              "      <th>1</th>\n",
              "      <td>1</td>\n",
              "      <td>1</td>\n",
              "      <td>female</td>\n",
              "      <td>38.0</td>\n",
              "      <td>1</td>\n",
              "      <td>0</td>\n",
              "      <td>C</td>\n",
              "    </tr>\n",
              "    <tr>\n",
              "      <th>2</th>\n",
              "      <td>1</td>\n",
              "      <td>3</td>\n",
              "      <td>female</td>\n",
              "      <td>26.0</td>\n",
              "      <td>0</td>\n",
              "      <td>0</td>\n",
              "      <td>S</td>\n",
              "    </tr>\n",
              "  </tbody>\n",
              "</table>\n",
              "</div>\n",
              "      <button class=\"colab-df-convert\" onclick=\"convertToInteractive('df-86e69746-1128-401e-b94c-6a5f356309a0')\"\n",
              "              title=\"Convert this dataframe to an interactive table.\"\n",
              "              style=\"display:none;\">\n",
              "        \n",
              "  <svg xmlns=\"http://www.w3.org/2000/svg\" height=\"24px\"viewBox=\"0 0 24 24\"\n",
              "       width=\"24px\">\n",
              "    <path d=\"M0 0h24v24H0V0z\" fill=\"none\"/>\n",
              "    <path d=\"M18.56 5.44l.94 2.06.94-2.06 2.06-.94-2.06-.94-.94-2.06-.94 2.06-2.06.94zm-11 1L8.5 8.5l.94-2.06 2.06-.94-2.06-.94L8.5 2.5l-.94 2.06-2.06.94zm10 10l.94 2.06.94-2.06 2.06-.94-2.06-.94-.94-2.06-.94 2.06-2.06.94z\"/><path d=\"M17.41 7.96l-1.37-1.37c-.4-.4-.92-.59-1.43-.59-.52 0-1.04.2-1.43.59L10.3 9.45l-7.72 7.72c-.78.78-.78 2.05 0 2.83L4 21.41c.39.39.9.59 1.41.59.51 0 1.02-.2 1.41-.59l7.78-7.78 2.81-2.81c.8-.78.8-2.07 0-2.86zM5.41 20L4 18.59l7.72-7.72 1.47 1.35L5.41 20z\"/>\n",
              "  </svg>\n",
              "      </button>\n",
              "      \n",
              "  <style>\n",
              "    .colab-df-container {\n",
              "      display:flex;\n",
              "      flex-wrap:wrap;\n",
              "      gap: 12px;\n",
              "    }\n",
              "\n",
              "    .colab-df-convert {\n",
              "      background-color: #E8F0FE;\n",
              "      border: none;\n",
              "      border-radius: 50%;\n",
              "      cursor: pointer;\n",
              "      display: none;\n",
              "      fill: #1967D2;\n",
              "      height: 32px;\n",
              "      padding: 0 0 0 0;\n",
              "      width: 32px;\n",
              "    }\n",
              "\n",
              "    .colab-df-convert:hover {\n",
              "      background-color: #E2EBFA;\n",
              "      box-shadow: 0px 1px 2px rgba(60, 64, 67, 0.3), 0px 1px 3px 1px rgba(60, 64, 67, 0.15);\n",
              "      fill: #174EA6;\n",
              "    }\n",
              "\n",
              "    [theme=dark] .colab-df-convert {\n",
              "      background-color: #3B4455;\n",
              "      fill: #D2E3FC;\n",
              "    }\n",
              "\n",
              "    [theme=dark] .colab-df-convert:hover {\n",
              "      background-color: #434B5C;\n",
              "      box-shadow: 0px 1px 3px 1px rgba(0, 0, 0, 0.15);\n",
              "      filter: drop-shadow(0px 1px 2px rgba(0, 0, 0, 0.3));\n",
              "      fill: #FFFFFF;\n",
              "    }\n",
              "  </style>\n",
              "\n",
              "      <script>\n",
              "        const buttonEl =\n",
              "          document.querySelector('#df-86e69746-1128-401e-b94c-6a5f356309a0 button.colab-df-convert');\n",
              "        buttonEl.style.display =\n",
              "          google.colab.kernel.accessAllowed ? 'block' : 'none';\n",
              "\n",
              "        async function convertToInteractive(key) {\n",
              "          const element = document.querySelector('#df-86e69746-1128-401e-b94c-6a5f356309a0');\n",
              "          const dataTable =\n",
              "            await google.colab.kernel.invokeFunction('convertToInteractive',\n",
              "                                                     [key], {});\n",
              "          if (!dataTable) return;\n",
              "\n",
              "          const docLinkHtml = 'Like what you see? Visit the ' +\n",
              "            '<a target=\"_blank\" href=https://colab.research.google.com/notebooks/data_table.ipynb>data table notebook</a>'\n",
              "            + ' to learn more about interactive tables.';\n",
              "          element.innerHTML = '';\n",
              "          dataTable['output_type'] = 'display_data';\n",
              "          await google.colab.output.renderOutput(dataTable, element);\n",
              "          const docLink = document.createElement('div');\n",
              "          docLink.innerHTML = docLinkHtml;\n",
              "          element.appendChild(docLink);\n",
              "        }\n",
              "      </script>\n",
              "    </div>\n",
              "  </div>\n",
              "  "
            ]
          },
          "metadata": {},
          "execution_count": 34
        }
      ],
      "source": [
        "# We will drop some columns.\n",
        "df = df.drop(columns = ['PassengerId','Name','Ticket','Fare','Cabin'])\n",
        "df.head(3)"
      ]
    },
    {
      "cell_type": "code",
      "execution_count": null,
      "metadata": {
        "colab": {
          "base_uri": "https://localhost:8080/"
        },
        "id": "4SDAEQbrFcHH",
        "outputId": "44f2d6f6-f4fc-4eeb-e6ac-dc095a7e1b80"
      },
      "outputs": [
        {
          "output_type": "execute_result",
          "data": {
            "text/plain": [
              "(889, 7)"
            ]
          },
          "metadata": {},
          "execution_count": 35
        }
      ],
      "source": [
        "# Delete the rest of missing values.\n",
        "df=df.dropna(axis=0)\n",
        "df.shape"
      ]
    },
    {
      "cell_type": "code",
      "execution_count": null,
      "metadata": {
        "colab": {
          "base_uri": "https://localhost:8080/"
        },
        "id": "kbgvoyqFFcHH",
        "outputId": "13cc2c95-97eb-4134-8fd0-79e49ed04ef6"
      },
      "outputs": [
        {
          "output_type": "execute_result",
          "data": {
            "text/plain": [
              "(889, 7)"
            ]
          },
          "metadata": {},
          "execution_count": 36
        }
      ],
      "source": [
        "df.shape"
      ]
    },
    {
      "cell_type": "markdown",
      "metadata": {
        "id": "ctNyKooTFcHI"
      },
      "source": [
        "#### 1.3. Exploratory data analysis:"
      ]
    },
    {
      "cell_type": "code",
      "execution_count": null,
      "metadata": {
        "colab": {
          "base_uri": "https://localhost:8080/",
          "height": 279
        },
        "id": "0v8hi8n9FcHI",
        "outputId": "f6aa594d-45df-48aa-fd79-b7509a22d040"
      },
      "outputs": [
        {
          "output_type": "display_data",
          "data": {
            "text/plain": [
              "<Figure size 432x288 with 1 Axes>"
            ],
            "image/png": "[encoded data removed]"
          },
          "metadata": {
            "needs_background": "light"
          }
        }
      ],
      "source": [
        "# The frequency table of Survived.\n",
        "sns.countplot('Survived',data=df)\n",
        "plt.show()"
      ]
    },
    {
      "cell_type": "code",
      "execution_count": null,
      "metadata": {
        "colab": {
          "base_uri": "https://localhost:8080/",
          "height": 279
        },
        "id": "d6-8nPReFcHI",
        "outputId": "1d299b95-14a6-4420-99c5-0ee0053ebb4e"
      },
      "outputs": [
        {
          "output_type": "display_data",
          "data": {
            "text/plain": [
              "<Figure size 432x288 with 1 Axes>"
            ],
            "image/png": "[encoded data removed]"
          },
          "metadata": {
            "needs_background": "light"
          }
        }
      ],
      "source": [
        "# Survival rate by Age category. \n",
        "df['AgeCategory'] = pd.qcut(df.Age,4)                   # Using quantiles cut into 4 intervals.\n",
        "sns.barplot(x='AgeCategory',y='Survived', ci=None, data=df)\n",
        "plt.show()"
      ]
    },
    {
      "cell_type": "code",
      "execution_count": null,
      "metadata": {
        "colab": {
          "base_uri": "https://localhost:8080/",
          "height": 279
        },
        "id": "6qFRrYAUFcHI",
        "outputId": "d5490edb-6d55-49ac-cab9-ae6cdbc1625c"
      },
      "outputs": [
        {
          "output_type": "display_data",
          "data": {
            "text/plain": [
              "<Figure size 432x288 with 1 Axes>"
            ],
            "image/png": "[encoded data removed]"
          },
          "metadata": {
            "needs_background": "light"
          }
        }
      ],
      "source": [
        "# Survival rate by SibSp category. \n",
        "sns.barplot(x='SibSp', y='Survived', ci=None, data=df)\n",
        "plt.show()"
      ]
    },
    {
      "cell_type": "code",
      "execution_count": null,
      "metadata": {
        "colab": {
          "base_uri": "https://localhost:8080/",
          "height": 279
        },
        "id": "masr-XIRFcHI",
        "outputId": "de494ecd-77f6-490d-8ebe-c8e64528f47f"
      },
      "outputs": [
        {
          "output_type": "display_data",
          "data": {
            "text/plain": [
              "<Figure size 432x288 with 1 Axes>"
            ],
            "image/png": "[encoded data removed]"
          },
          "metadata": {
            "needs_background": "light"
          }
        }
      ],
      "source": [
        "# Survival rate by Parch.\n",
        "sns.barplot(x='Parch', y='Survived', ci=None, data=df)\n",
        "plt.show()"
      ]
    },
    {
      "cell_type": "code",
      "execution_count": null,
      "metadata": {
        "colab": {
          "base_uri": "https://localhost:8080/",
          "height": 279
        },
        "id": "ZgTx0sQnFcHJ",
        "outputId": "3c62eb3b-ec54-4c4c-a9e0-65baf6e18b3f"
      },
      "outputs": [
        {
          "output_type": "display_data",
          "data": {
            "text/plain": [
              "<Figure size 432x288 with 1 Axes>"
            ],
            "image/png": "[encoded data removed]"
          },
          "metadata": {
            "needs_background": "light"
          }
        }
      ],
      "source": [
        "# Survival rate by Pclass.\n",
        "sns.barplot(x='Pclass', y='Survived', ci=None, data=df)\n",
        "plt.show()"
      ]
    },
    {
      "cell_type": "code",
      "execution_count": null,
      "metadata": {
        "colab": {
          "base_uri": "https://localhost:8080/",
          "height": 279
        },
        "id": "2CudLHiNFcHJ",
        "outputId": "0226a528-a089-483f-821e-006afa0ac319"
      },
      "outputs": [
        {
          "output_type": "display_data",
          "data": {
            "text/plain": [
              "<Figure size 432x288 with 1 Axes>"
            ],
            "image/png": "[encoded data removed]"
          },
          "metadata": {
            "needs_background": "light"
          }
        }
      ],
      "source": [
        "# Survival rate by Embarked.\n",
        "sns.barplot(x='Embarked', y='Survived', ci=None, data=df)\n",
        "plt.show()"
      ]
    },
    {
      "cell_type": "code",
      "execution_count": null,
      "metadata": {
        "colab": {
          "base_uri": "https://localhost:8080/",
          "height": 279
        },
        "id": "fvS9-MR6FcHJ",
        "outputId": "02592553-adc1-4fb4-de88-4d802801525f"
      },
      "outputs": [
        {
          "output_type": "display_data",
          "data": {
            "text/plain": [
              "<Figure size 432x288 with 1 Axes>"
            ],
            "image/png": "[encoded data removed]"
          },
          "metadata": {
            "needs_background": "light"
          }
        }
      ],
      "source": [
        "# Survival rate by Sex.\n",
        "sns.barplot(x='Sex', y='Survived', ci=None,  data=df)\n",
        "plt.show()"
      ]
    },
    {
      "cell_type": "code",
      "source": [
        "df"
      ],
      "metadata": {
        "id": "HsAJ_P70_oMu",
        "colab": {
          "base_uri": "https://localhost:8080/",
          "height": 424
        },
        "outputId": "0d558ec0-cecd-49f8-beee-899436864377"
      },
      "execution_count": null,
      "outputs": [
        {
          "output_type": "execute_result",
          "data": {
            "text/plain": [
              "     Survived  Pclass     Sex   Age  SibSp  Parch Embarked    AgeCategory\n",
              "0           0       3    male  22.0      1      0        S   (21.0, 30.0]\n",
              "1           1       1  female  38.0      1      0        C   (35.0, 80.0]\n",
              "2           1       3  female  26.0      0      0        S   (21.0, 30.0]\n",
              "3           1       1  female  35.0      1      0        S   (30.0, 35.0]\n",
              "4           0       3    male  35.0      0      0        S   (30.0, 35.0]\n",
              "..        ...     ...     ...   ...    ...    ...      ...            ...\n",
              "886         0       2    male  27.0      0      0        S   (21.0, 30.0]\n",
              "887         1       1  female  19.0      0      0        S  (0.419, 21.0]\n",
              "888         0       3  female  10.0      1      2        S  (0.419, 21.0]\n",
              "889         1       1    male  26.0      0      0        C   (21.0, 30.0]\n",
              "890         0       3    male  32.0      0      0        Q   (30.0, 35.0]\n",
              "\n",
              "[889 rows x 8 columns]"
            ],
            "text/html": [
              "\n",
              "  <div id=\"df-d90db796-ff7c-4ec6-ae1f-466b58b717b5\">\n",
              "    <div class=\"colab-df-container\">\n",
              "      <div>\n",
              "<style scoped>\n",
              "    .dataframe tbody tr th:only-of-type {\n",
              "        vertical-align: middle;\n",
              "    }\n",
              "\n",
              "    .dataframe tbody tr th {\n",
              "        vertical-align: top;\n",
              "    }\n",
              "\n",
              "    .dataframe thead th {\n",
              "        text-align: right;\n",
              "    }\n",
              "</style>\n",
              "<table border=\"1\" class=\"dataframe\">\n",
              "  <thead>\n",
              "    <tr style=\"text-align: right;\">\n",
              "      <th></th>\n",
              "      <th>Survived</th>\n",
              "      <th>Pclass</th>\n",
              "      <th>Sex</th>\n",
              "      <th>Age</th>\n",
              "      <th>SibSp</th>\n",
              "      <th>Parch</th>\n",
              "      <th>Embarked</th>\n",
              "      <th>AgeCategory</th>\n",
              "    </tr>\n",
              "  </thead>\n",
              "  <tbody>\n",
              "    <tr>\n",
              "      <th>0</th>\n",
              "      <td>0</td>\n",
              "      <td>3</td>\n",
              "      <td>male</td>\n",
              "      <td>22.0</td>\n",
              "      <td>1</td>\n",
              "      <td>0</td>\n",
              "      <td>S</td>\n",
              "      <td>(21.0, 30.0]</td>\n",
              "    </tr>\n",
              "    <tr>\n",
              "      <th>1</th>\n",
              "      <td>1</td>\n",
              "      <td>1</td>\n",
              "      <td>female</td>\n",
              "      <td>38.0</td>\n",
              "      <td>1</td>\n",
              "      <td>0</td>\n",
              "      <td>C</td>\n",
              "      <td>(35.0, 80.0]</td>\n",
              "    </tr>\n",
              "    <tr>\n",
              "      <th>2</th>\n",
              "      <td>1</td>\n",
              "      <td>3</td>\n",
              "      <td>female</td>\n",
              "      <td>26.0</td>\n",
              "      <td>0</td>\n",
              "      <td>0</td>\n",
              "      <td>S</td>\n",
              "      <td>(21.0, 30.0]</td>\n",
              "    </tr>\n",
              "    <tr>\n",
              "      <th>3</th>\n",
              "      <td>1</td>\n",
              "      <td>1</td>\n",
              "      <td>female</td>\n",
              "      <td>35.0</td>\n",
              "      <td>1</td>\n",
              "      <td>0</td>\n",
              "      <td>S</td>\n",
              "      <td>(30.0, 35.0]</td>\n",
              "    </tr>\n",
              "    <tr>\n",
              "      <th>4</th>\n",
              "      <td>0</td>\n",
              "      <td>3</td>\n",
              "      <td>male</td>\n",
              "      <td>35.0</td>\n",
              "      <td>0</td>\n",
              "      <td>0</td>\n",
              "      <td>S</td>\n",
              "      <td>(30.0, 35.0]</td>\n",
              "    </tr>\n",
              "    <tr>\n",
              "      <th>...</th>\n",
              "      <td>...</td>\n",
              "      <td>...</td>\n",
              "      <td>...</td>\n",
              "      <td>...</td>\n",
              "      <td>...</td>\n",
              "      <td>...</td>\n",
              "      <td>...</td>\n",
              "      <td>...</td>\n",
              "    </tr>\n",
              "    <tr>\n",
              "      <th>886</th>\n",
              "      <td>0</td>\n",
              "      <td>2</td>\n",
              "      <td>male</td>\n",
              "      <td>27.0</td>\n",
              "      <td>0</td>\n",
              "      <td>0</td>\n",
              "      <td>S</td>\n",
              "      <td>(21.0, 30.0]</td>\n",
              "    </tr>\n",
              "    <tr>\n",
              "      <th>887</th>\n",
              "      <td>1</td>\n",
              "      <td>1</td>\n",
              "      <td>female</td>\n",
              "      <td>19.0</td>\n",
              "      <td>0</td>\n",
              "      <td>0</td>\n",
              "      <td>S</td>\n",
              "      <td>(0.419, 21.0]</td>\n",
              "    </tr>\n",
              "    <tr>\n",
              "      <th>888</th>\n",
              "      <td>0</td>\n",
              "      <td>3</td>\n",
              "      <td>female</td>\n",
              "      <td>10.0</td>\n",
              "      <td>1</td>\n",
              "      <td>2</td>\n",
              "      <td>S</td>\n",
              "      <td>(0.419, 21.0]</td>\n",
              "    </tr>\n",
              "    <tr>\n",
              "      <th>889</th>\n",
              "      <td>1</td>\n",
              "      <td>1</td>\n",
              "      <td>male</td>\n",
              "      <td>26.0</td>\n",
              "      <td>0</td>\n",
              "      <td>0</td>\n",
              "      <td>C</td>\n",
              "      <td>(21.0, 30.0]</td>\n",
              "    </tr>\n",
              "    <tr>\n",
              "      <th>890</th>\n",
              "      <td>0</td>\n",
              "      <td>3</td>\n",
              "      <td>male</td>\n",
              "      <td>32.0</td>\n",
              "      <td>0</td>\n",
              "      <td>0</td>\n",
              "      <td>Q</td>\n",
              "      <td>(30.0, 35.0]</td>\n",
              "    </tr>\n",
              "  </tbody>\n",
              "</table>\n",
              "<p>889 rows × 8 columns</p>\n",
              "</div>\n",
              "      <button class=\"colab-df-convert\" onclick=\"convertToInteractive('df-d90db796-ff7c-4ec6-ae1f-466b58b717b5')\"\n",
              "              title=\"Convert this dataframe to an interactive table.\"\n",
              "              style=\"display:none;\">\n",
              "        \n",
              "  <svg xmlns=\"http://www.w3.org/2000/svg\" height=\"24px\"viewBox=\"0 0 24 24\"\n",
              "       width=\"24px\">\n",
              "    <path d=\"M0 0h24v24H0V0z\" fill=\"none\"/>\n",
              "    <path d=\"M18.56 5.44l.94 2.06.94-2.06 2.06-.94-2.06-.94-.94-2.06-.94 2.06-2.06.94zm-11 1L8.5 8.5l.94-2.06 2.06-.94-2.06-.94L8.5 2.5l-.94 2.06-2.06.94zm10 10l.94 2.06.94-2.06 2.06-.94-2.06-.94-.94-2.06-.94 2.06-2.06.94z\"/><path d=\"M17.41 7.96l-1.37-1.37c-.4-.4-.92-.59-1.43-.59-.52 0-1.04.2-1.43.59L10.3 9.45l-7.72 7.72c-.78.78-.78 2.05 0 2.83L4 21.41c.39.39.9.59 1.41.59.51 0 1.02-.2 1.41-.59l7.78-7.78 2.81-2.81c.8-.78.8-2.07 0-2.86zM5.41 20L4 18.59l7.72-7.72 1.47 1.35L5.41 20z\"/>\n",
              "  </svg>\n",
              "      </button>\n",
              "      \n",
              "  <style>\n",
              "    .colab-df-container {\n",
              "      display:flex;\n",
              "      flex-wrap:wrap;\n",
              "      gap: 12px;\n",
              "    }\n",
              "\n",
              "    .colab-df-convert {\n",
              "      background-color: #E8F0FE;\n",
              "      border: none;\n",
              "      border-radius: 50%;\n",
              "      cursor: pointer;\n",
              "      display: none;\n",
              "      fill: #1967D2;\n",
              "      height: 32px;\n",
              "      padding: 0 0 0 0;\n",
              "      width: 32px;\n",
              "    }\n",
              "\n",
              "    .colab-df-convert:hover {\n",
              "      background-color: #E2EBFA;\n",
              "      box-shadow: 0px 1px 2px rgba(60, 64, 67, 0.3), 0px 1px 3px 1px rgba(60, 64, 67, 0.15);\n",
              "      fill: #174EA6;\n",
              "    }\n",
              "\n",
              "    [theme=dark] .colab-df-convert {\n",
              "      background-color: #3B4455;\n",
              "      fill: #D2E3FC;\n",
              "    }\n",
              "\n",
              "    [theme=dark] .colab-df-convert:hover {\n",
              "      background-color: #434B5C;\n",
              "      box-shadow: 0px 1px 3px 1px rgba(0, 0, 0, 0.15);\n",
              "      filter: drop-shadow(0px 1px 2px rgba(0, 0, 0, 0.3));\n",
              "      fill: #FFFFFF;\n",
              "    }\n",
              "  </style>\n",
              "\n",
              "      <script>\n",
              "        const buttonEl =\n",
              "          document.querySelector('#df-d90db796-ff7c-4ec6-ae1f-466b58b717b5 button.colab-df-convert');\n",
              "        buttonEl.style.display =\n",
              "          google.colab.kernel.accessAllowed ? 'block' : 'none';\n",
              "\n",
              "        async function convertToInteractive(key) {\n",
              "          const element = document.querySelector('#df-d90db796-ff7c-4ec6-ae1f-466b58b717b5');\n",
              "          const dataTable =\n",
              "            await google.colab.kernel.invokeFunction('convertToInteractive',\n",
              "                                                     [key], {});\n",
              "          if (!dataTable) return;\n",
              "\n",
              "          const docLinkHtml = 'Like what you see? Visit the ' +\n",
              "            '<a target=\"_blank\" href=https://colab.research.google.com/notebooks/data_table.ipynb>data table notebook</a>'\n",
              "            + ' to learn more about interactive tables.';\n",
              "          element.innerHTML = '';\n",
              "          dataTable['output_type'] = 'display_data';\n",
              "          await google.colab.output.renderOutput(dataTable, element);\n",
              "          const docLink = document.createElement('div');\n",
              "          docLink.innerHTML = docLinkHtml;\n",
              "          element.appendChild(docLink);\n",
              "        }\n",
              "      </script>\n",
              "    </div>\n",
              "  </div>\n",
              "  "
            ]
          },
          "metadata": {},
          "execution_count": 44
        }
      ]
    },
    {
      "cell_type": "markdown",
      "metadata": {
        "id": "Id4sBTGqFcHJ"
      },
      "source": [
        "#### 1.4. Feature engineering:"
      ]
    },
    {
      "cell_type": "code",
      "source": [
        "#it's preferable to do our preprocesssing data after splitin the data, \n",
        "\n",
        "from sklearn.preprocessing import LabelEncoder\n",
        "encoder= LabelEncoder()\n",
        "# df[['Sex']]= encoder.fit_transform(df['Sex'])\n",
        "# df['Embarked']= encoder.fit_transform(df['Embarked'])\n",
        "# df['AgeCategory']= encoder.fit_transform(df['AgeCategory'])\n",
        "# df"
      ],
      "metadata": {
        "id": "_l8Drj0BIaCq"
      },
      "execution_count": null,
      "outputs": []
    },
    {
      "cell_type": "markdown",
      "source": [],
      "metadata": {
        "id": "lStMqW85F4Op"
      }
    },
    {
      "cell_type": "markdown",
      "metadata": {
        "id": "TXrvIErTFcHK"
      },
      "source": [
        "#### 1.5. Naive bayes train and test:"
      ]
    },
    {
      "cell_type": "code",
      "execution_count": null,
      "metadata": {
        "id": "Vu_nX_DHFcHK"
      },
      "outputs": [],
      "source": [
        "X = df.drop(columns=['Survived'])\n",
        "Y = df.Survived"
      ]
    },
    {
      "cell_type": "code",
      "execution_count": null,
      "metadata": {
        "id": "FNKMrnEzFcHL"
      },
      "outputs": [],
      "source": [
        "X_train, X_test, Y_train, Y_test = train_test_split(X, Y, test_size=0.3, random_state=12)"
      ]
    },
    {
      "cell_type": "code",
      "execution_count": null,
      "metadata": {
        "colab": {
          "base_uri": "https://localhost:8080/"
        },
        "id": "xQntaVKCFcHL",
        "outputId": "4ff60893-7318-4540-a5f6-88aaa3b0b415"
      },
      "outputs": [
        {
          "output_type": "stream",
          "name": "stdout",
          "text": [
            "(622, 7)\n",
            "(267, 7)\n",
            "(622,)\n",
            "(267,)\n"
          ]
        }
      ],
      "source": [
        "print(X_train.shape)\n",
        "print(X_test.shape)\n",
        "print(Y_train.shape)\n",
        "print(Y_test.shape)"
      ]
    },
    {
      "cell_type": "code",
      "source": [
        "# label encoding \n",
        "encoder = LabelEncoder()\n",
        "X_train['Pclass'] = encoder.fit_transform(X_train['Pclass'])\n",
        "X_test['Pclass'] = encoder.transform(X_test['Pclass'])\n",
        "encoder = LabelEncoder()\n",
        "X_train['Sex'] = encoder.fit_transform(X_train['Sex'])\n",
        "X_test['Sex'] = encoder.transform(X_test['Sex'])\n",
        "encoder = LabelEncoder()\n",
        "X_train['Embarked'] = encoder.fit_transform(X_train['Embarked'])\n",
        "X_test['Embarked'] = encoder.transform(X_test['Embarked'])\n",
        "encoder = LabelEncoder()\n",
        "X_train['AgeCategory'] = encoder.fit_transform(X_train['AgeCategory'])\n",
        "X_test['AgeCategory'] = encoder.transform(X_test['AgeCategory'])\n"
      ],
      "metadata": {
        "id": "_tdkP7GyKkuc"
      },
      "execution_count": null,
      "outputs": []
    },
    {
      "cell_type": "code",
      "execution_count": null,
      "metadata": {
        "colab": {
          "base_uri": "https://localhost:8080/"
        },
        "id": "muSVXtysFcHL",
        "outputId": "83c02b43-043a-49c3-c60d-5eef4a0a2e5f"
      },
      "outputs": [
        {
          "output_type": "execute_result",
          "data": {
            "text/plain": [
              "CategoricalNB()"
            ]
          },
          "metadata": {},
          "execution_count": 50
        }
      ],
      "source": [
        "# set alpha to 1\n",
        "from sklearn.metrics import f1_score\n",
        "# train the model\n",
        "model= CategoricalNB(alpha=1.0)\n",
        "model.fit(X_train.values, Y_train.values)"
      ]
    },
    {
      "cell_type": "code",
      "source": [
        "# test \n",
        "Y_pred = model.predict(X_test.values)\n",
        "# classification report \n",
        "print(classification_report(Y_test,Y_pred))"
      ],
      "metadata": {
        "colab": {
          "base_uri": "https://localhost:8080/"
        },
        "id": "KMMw3IYDW7Rv",
        "outputId": "8014c7f4-8022-409c-977a-ef5c6613fabf"
      },
      "execution_count": null,
      "outputs": [
        {
          "output_type": "stream",
          "name": "stdout",
          "text": [
            "              precision    recall  f1-score   support\n",
            "\n",
            "           0       0.87      0.80      0.83       169\n",
            "           1       0.69      0.79      0.74        98\n",
            "\n",
            "    accuracy                           0.79       267\n",
            "   macro avg       0.78      0.79      0.78       267\n",
            "weighted avg       0.80      0.79      0.80       267\n",
            "\n"
          ]
        }
      ]
    },
    {
      "cell_type": "code",
      "source": [
        "# confusion matrix\n",
        "confusion_matrix = pd.crosstab(Y_test, Y_pred, rownames=['Actual'], colnames=['Predicted'])\n",
        "sns.heatmap(confusion_matrix, annot=True,fmt=\".1f\")"
      ],
      "metadata": {
        "colab": {
          "base_uri": "https://localhost:8080/",
          "height": 296
        },
        "id": "c5lF_FK6W4em",
        "outputId": "310ff6d4-ef31-4b19-a7ec-2e43a6365ea0"
      },
      "execution_count": null,
      "outputs": [
        {
          "output_type": "execute_result",
          "data": {
            "text/plain": [
              "<matplotlib.axes._subplots.AxesSubplot at 0x7fdd86072d10>"
            ]
          },
          "metadata": {},
          "execution_count": 52
        },
        {
          "output_type": "display_data",
          "data": {
            "text/plain": [
              "<Figure size 432x288 with 2 Axes>"
            ],
            "image/png": "[encoded data removed]"
          },
          "metadata": {
            "needs_background": "light"
          }
        }
      ]
    },
    {
      "cell_type": "code",
      "execution_count": null,
      "metadata": {
        "colab": {
          "base_uri": "https://localhost:8080/",
          "height": 453
        },
        "id": "NPxeNPQvFcHL",
        "outputId": "406402e5-4de8-4980-a707-72c779acfc77"
      },
      "outputs": [
        {
          "output_type": "stream",
          "name": "stdout",
          "text": [
            "              precision    recall  f1-score   support\n",
            "\n",
            "           0       0.85      0.79      0.82       169\n",
            "           1       0.68      0.76      0.71        98\n",
            "\n",
            "    accuracy                           0.78       267\n",
            "   macro avg       0.76      0.77      0.77       267\n",
            "weighted avg       0.79      0.78      0.78       267\n",
            "\n"
          ]
        },
        {
          "output_type": "execute_result",
          "data": {
            "text/plain": [
              "<matplotlib.axes._subplots.AxesSubplot at 0x7fdd830d6290>"
            ]
          },
          "metadata": {},
          "execution_count": 58
        },
        {
          "output_type": "display_data",
          "data": {
            "text/plain": [
              "<Figure size 432x288 with 2 Axes>"
            ],
            "image/png": "[encoded data removed]"
          },
          "metadata": {
            "needs_background": "light"
          }
        }
      ],
      "source": [
        "# set alpha to 0.5\n",
        "from sklearn.metrics import f1_score\n",
        "# train the model\n",
        "model= CategoricalNB(alpha=0.1)\n",
        "model.fit(X_train.values, Y_train.values)\n",
        "# test \n",
        "Y_pred = model.predict(X_test.values)\n",
        "# classification report \n",
        "print(classification_report(Y_test,Y_pred))\n",
        "# confusion matrix\n",
        "confusion_matrix = pd.crosstab(Y_test, Y_pred, rownames=['Actual'], colnames=['Predicted'])\n",
        "sns.heatmap(confusion_matrix, annot=True,fmt=\".1f\")"
      ]
    },
    {
      "cell_type": "code",
      "source": [
        "\n",
        "# print from the model category_count_\n",
        "print(model.category_count_)\n",
        "# print from the model class_count_\n",
        "print(model.class_count_)\n",
        "# print from the model n_categories_\n",
        "print(model.n_categories_)\n",
        "# print feature_log_prob_\n",
        "print(model.feature_log_prob_)"
      ],
      "metadata": {
        "id": "nYBuJMaszv-q",
        "colab": {
          "base_uri": "https://localhost:8080/"
        },
        "outputId": "8d6d7856-1c42-416c-8825-c1e946267ded"
      },
      "execution_count": null,
      "outputs": [
        {
          "output_type": "stream",
          "name": "stdout",
          "text": [
            "[array([[ 51.,  62., 267.],\n",
            "       [ 93.,  58.,  91.]]), array([[ 52., 328.],\n",
            "       [159.,  83.]]), array([[ 0.,  1.,  7.,  1.,  2.,  0.,  0.,  1.,  2.,  5., 11.,  1.,  0.,\n",
            "         0.,  3.,  0.,  9.,  7., 11., 12.,  9., 12., 12.,  6., 11., 11.,\n",
            "         8.,  5., 11.,  7., 88.,  7.,  7.,  6.,  7.,  5.,  8.,  3.,  6.,\n",
            "         6.,  7.,  2.,  5.,  4.,  1.,  7.,  2.,  6.,  3.,  1.,  4.,  2.,\n",
            "         3.,  0.,  3.,  1.,  1.,  2.,  2.,  1.,  2.,  2.,  1.,  0.,  2.,\n",
            "         3.,  1.,  0.,  0.,  0.,  3.,  1.,  0.,  0.,  0.,  0.,  0.,  0.,\n",
            "         0.,  0.,  0.],\n",
            "       [ 5.,  4.,  1.,  4.,  5.,  4.,  2.,  1.,  2.,  1., 17.,  1.,  1.,\n",
            "         0.,  1.,  1.,  5.,  4.,  6.,  9.,  3.,  4.,  8.,  5., 12.,  3.,\n",
            "         6.,  6.,  5.,  8., 29.,  5.,  7.,  6.,  3.,  7.,  8.,  0.,  4.,\n",
            "         4.,  4.,  2.,  3.,  0.,  2.,  4.,  0.,  0.,  3.,  4.,  2.,  2.,\n",
            "         2.,  1.,  0.,  1.,  1.,  0.,  1.,  0.,  1.,  0.,  0.,  1.,  0.,\n",
            "         0.,  0.,  0.,  0.,  0.,  0.,  0.,  0.,  0.,  0.,  0.,  0.,  0.,\n",
            "         0.,  0.,  1.]]), array([[274.,  66.,  11.,   8.,  11.,   3.,   0.,   0.,   7.],\n",
            "       [151.,  75.,  10.,   4.,   2.,   0.,   0.,   0.,   0.]]), array([[305.,  36.,  30.,   2.,   3.,   3.,   1.],\n",
            "       [165.,  43.,  31.,   2.,   0.,   1.,   0.]]), array([[ 51.,  35., 294.],\n",
            "       [ 67.,  20., 155.]]), array([[ 94., 158.,  33.,  95.],\n",
            "       [ 81.,  82.,  28.,  51.]])]\n",
            "[380. 242.]\n",
            "[ 3  2 81  9  7  3  4]\n",
            "[array([[-2.00717592, -1.81221443, -0.35333729],\n",
            "       [-0.95650244, -1.42801096, -0.97821882]]), array([[-1.98753248, -0.14737899],\n",
            "       [-0.4202309 , -1.06971913]]), array([[-8.26384813, -5.86595286, -4.00116825, -5.86595286, -5.21932569,\n",
            "        -8.26384813, -8.26384813, -5.86595286, -5.21932569, -4.3320225 ,\n",
            "        -3.55431793, -5.86595286, -8.26384813, -8.26384813, -4.82986093,\n",
            "        -8.26384813, -3.75298862, -4.00116825, -3.55431793, -3.46805759,\n",
            "        -3.75298862, -3.46805759, -3.46805759, -4.15297427, -3.55431793,\n",
            "        -3.55431793, -3.86939898, -4.3320225 , -3.55431793, -4.00116825,\n",
            "        -1.48279051, -4.00116825, -4.00116825, -4.15297427, -4.00116825,\n",
            "        -4.3320225 , -3.86939898, -4.82986093, -4.15297427, -4.15297427,\n",
            "        -4.00116825, -5.21932569, -4.3320225 , -4.55027606, -5.86595286,\n",
            "        -4.00116825, -5.21932569, -4.15297427, -4.82986093, -5.86595286,\n",
            "        -4.55027606, -5.21932569, -4.82986093, -8.26384813, -4.82986093,\n",
            "        -5.86595286, -5.86595286, -5.21932569, -5.21932569, -5.86595286,\n",
            "        -5.21932569, -5.21932569, -5.86595286, -8.26384813, -5.21932569,\n",
            "        -4.82986093, -5.86595286, -8.26384813, -8.26384813, -8.26384813,\n",
            "        -4.82986093, -5.86595286, -8.26384813, -8.26384813, -8.26384813,\n",
            "        -8.26384813, -8.26384813, -8.26384813, -8.26384813, -8.26384813,\n",
            "        -8.26384813],\n",
            "       [-3.8926203 , -4.11087386, -5.42655066, -4.11087386, -3.8926203 ,\n",
            "        -4.11087386, -4.77992349, -5.42655066, -4.77992349, -5.42655066,\n",
            "        -2.68278237, -5.42655066, -5.42655066, -7.82444593, -5.42655066,\n",
            "        -5.42655066, -3.8926203 , -4.11087386, -3.71357207, -3.31358642,\n",
            "        -4.39045873, -4.11087386, -3.42999678, -3.8926203 , -3.02865539,\n",
            "        -4.39045873, -3.71357207, -3.71357207, -3.8926203 , -3.42999678,\n",
            "        -2.15112266, -3.8926203 , -3.56176605, -3.71357207, -4.39045873,\n",
            "        -3.56176605, -3.42999678, -7.82444593, -4.11087386, -4.11087386,\n",
            "        -4.11087386, -4.77992349, -4.39045873, -7.82444593, -4.77992349,\n",
            "        -4.11087386, -7.82444593, -7.82444593, -4.39045873, -4.11087386,\n",
            "        -4.77992349, -4.77992349, -4.77992349, -5.42655066, -7.82444593,\n",
            "        -5.42655066, -5.42655066, -7.82444593, -5.42655066, -7.82444593,\n",
            "        -5.42655066, -7.82444593, -7.82444593, -5.42655066, -7.82444593,\n",
            "        -7.82444593, -7.82444593, -7.82444593, -7.82444593, -7.82444593,\n",
            "        -7.82444593, -7.82444593, -7.82444593, -7.82444593, -7.82444593,\n",
            "        -7.82444593, -7.82444593, -7.82444593, -7.82444593, -7.82444593,\n",
            "        -5.42655066]]), array([[-0.32904387, -1.75136813, -3.53559177, -3.85067281, -3.53559177,\n",
            "        -4.81113476, -8.24512197, -8.24512197, -3.98244209],\n",
            "       [-0.47470797, -1.17382928, -3.18011441, -4.08166286, -4.75071249,\n",
            "        -7.79523493, -7.79523493, -7.79523493, -7.79523493]]), array([[-0.22137207, -2.3557188 , -2.53748649, -5.20007432, -4.81060955,\n",
            "        -4.81060955, -5.84670148],\n",
            "       [-0.38527476, -1.72830312, -2.05461829, -4.74988877, -7.79441121,\n",
            "        -5.39651593, -7.79441121]]), array([[-2.00717592, -2.38275928, -0.25704057],\n",
            "       [-1.28399258, -2.48945681, -0.44610656]]), array([[-1.39686528, -0.87799559, -2.44169005, -1.38629436],\n",
            "       [-1.09490629, -1.08265124, -2.15481968, -1.55680476]])]\n"
          ]
        }
      ]
    },
    {
      "cell_type": "markdown",
      "metadata": {
        "id": "AeFnWyOrFcHL"
      },
      "source": [
        "#### 1.6. choosing the right alpha"
      ]
    },
    {
      "cell_type": "markdown",
      "metadata": {
        "id": "DIANuNFnFcHM"
      },
      "source": [
        "#### 1.7. Naive bayes hyperparameter optimization:"
      ]
    },
    {
      "cell_type": "code",
      "execution_count": null,
      "metadata": {
        "id": "XWSUZ1zXFcHM"
      },
      "outputs": [],
      "source": [
        "# Parameter grid.\n",
        "alpha_grid = np.arange(1,51,1)\n",
        "parameters = {'alpha':alpha_grid}"
      ]
    },
    {
      "cell_type": "code",
      "execution_count": null,
      "metadata": {
        "id": "0MypZwqJFcHM",
        "colab": {
          "base_uri": "https://localhost:8080/"
        },
        "outputId": "524bae78-12a1-42a6-c40a-daeff41a48ff"
      },
      "outputs": [
        {
          "output_type": "stream",
          "name": "stdout",
          "text": [
            "Best alpha : 1\n"
          ]
        }
      ],
      "source": [
        "# Optimize the k.\n",
        "gridCV = GridSearchCV(CategoricalNB(), parameters, cv=15, n_jobs = -1,scoring=f1_score)      \n",
        "\n",
        "# \"n_jobs = -1\" means \"use all the CPU cores\".\n",
        "gridCV.fit(X_train, Y_train)\n",
        "best_k = gridCV.best_params_['alpha']\n",
        "print(\"Best alpha : \" + str(best_k))"
      ]
    },
    {
      "cell_type": "code",
      "execution_count": null,
      "metadata": {
        "id": "pcFd-eltFcHM",
        "colab": {
          "base_uri": "https://localhost:8080/"
        },
        "outputId": "ef4d348a-06f8-4a2c-b23a-77746eff7159"
      },
      "outputs": [
        {
          "output_type": "stream",
          "name": "stdout",
          "text": [
            "              precision    recall  f1-score   support\n",
            "\n",
            "           0       0.87      0.80      0.83       169\n",
            "           1       0.69      0.79      0.74        98\n",
            "\n",
            "    accuracy                           0.79       267\n",
            "   macro avg       0.78      0.79      0.78       267\n",
            "weighted avg       0.80      0.79      0.80       267\n",
            "\n"
          ]
        }
      ],
      "source": [
        "# train and Test with the best alpha\n",
        "from sklearn.metrics import f1_score\n",
        "# train the model\n",
        "model= CategoricalNB(alpha=1.0)\n",
        "model.fit(X_train.values, Y_train.values)\n",
        "# test \n",
        "Y_pred = model.predict(X_test.values)\n",
        "# classification report \n",
        "print(classification_report(Y_test,Y_pred))\n"
      ]
    },
    {
      "cell_type": "code",
      "source": [
        "\n",
        "# print from the model category_count_\n",
        "print(model.category_count_)\n",
        "# print from the model class_count_\n",
        "print(model.class_count_)\n",
        "# print from the model n_categories_\n",
        "print(model.n_categories_)\n",
        "# print feature_log_prob_\n",
        "print(model.feature_log_prob_)"
      ],
      "metadata": {
        "id": "Q4mjmgPB0TSe",
        "colab": {
          "base_uri": "https://localhost:8080/"
        },
        "outputId": "17ce9ab6-5577-41f8-b2c7-319ab7d2197c"
      },
      "execution_count": null,
      "outputs": [
        {
          "output_type": "stream",
          "name": "stdout",
          "text": [
            "[array([[ 51.,  62., 267.],\n",
            "       [ 93.,  58.,  91.]]), array([[ 52., 328.],\n",
            "       [159.,  83.]]), array([[ 0.,  1.,  7.,  1.,  2.,  0.,  0.,  1.,  2.,  5., 11.,  1.,  0.,\n",
            "         0.,  3.,  0.,  9.,  7., 11., 12.,  9., 12., 12.,  6., 11., 11.,\n",
            "         8.,  5., 11.,  7., 88.,  7.,  7.,  6.,  7.,  5.,  8.,  3.,  6.,\n",
            "         6.,  7.,  2.,  5.,  4.,  1.,  7.,  2.,  6.,  3.,  1.,  4.,  2.,\n",
            "         3.,  0.,  3.,  1.,  1.,  2.,  2.,  1.,  2.,  2.,  1.,  0.,  2.,\n",
            "         3.,  1.,  0.,  0.,  0.,  3.,  1.,  0.,  0.,  0.,  0.,  0.,  0.,\n",
            "         0.,  0.,  0.],\n",
            "       [ 5.,  4.,  1.,  4.,  5.,  4.,  2.,  1.,  2.,  1., 17.,  1.,  1.,\n",
            "         0.,  1.,  1.,  5.,  4.,  6.,  9.,  3.,  4.,  8.,  5., 12.,  3.,\n",
            "         6.,  6.,  5.,  8., 29.,  5.,  7.,  6.,  3.,  7.,  8.,  0.,  4.,\n",
            "         4.,  4.,  2.,  3.,  0.,  2.,  4.,  0.,  0.,  3.,  4.,  2.,  2.,\n",
            "         2.,  1.,  0.,  1.,  1.,  0.,  1.,  0.,  1.,  0.,  0.,  1.,  0.,\n",
            "         0.,  0.,  0.,  0.,  0.,  0.,  0.,  0.,  0.,  0.,  0.,  0.,  0.,\n",
            "         0.,  0.,  1.]]), array([[274.,  66.,  11.,   8.,  11.,   3.,   0.,   0.,   7.],\n",
            "       [151.,  75.,  10.,   4.,   2.,   0.,   0.,   0.,   0.]]), array([[305.,  36.,  30.,   2.,   3.,   3.,   1.],\n",
            "       [165.,  43.,  31.,   2.,   0.,   1.,   0.]]), array([[ 51.,  35., 294.],\n",
            "       [ 67.,  20., 155.]]), array([[ 94., 158.,  33.,  95.],\n",
            "       [ 81.,  82.,  28.,  51.]])]\n",
            "[380. 242.]\n",
            "[ 3  2 81  9  7  3  4]\n",
            "[array([[-1.99679127, -1.80490026, -0.35704801],\n",
            "       [-0.95796343, -1.42372077, -0.97946963]]), array([[-1.9751287 , -0.14936286],\n",
            "       [-0.42199441, -1.06635143]]), array([[-6.13339804, -5.44025086, -4.0539565 , -5.44025086, -5.03478575,\n",
            "        -6.13339804, -6.13339804, -5.44025086, -5.03478575, -4.34163857,\n",
            "        -3.64849139, -5.44025086, -6.13339804, -6.13339804, -4.74710368,\n",
            "        -6.13339804, -3.83081295, -4.0539565 , -3.64849139, -3.56844869,\n",
            "        -3.83081295, -3.56844869, -3.56844869, -4.18748789, -3.64849139,\n",
            "        -3.64849139, -3.93617347, -4.34163857, -3.64849139, -4.0539565 ,\n",
            "        -1.64476167, -4.0539565 , -4.0539565 , -4.18748789, -4.0539565 ,\n",
            "        -4.34163857, -3.93617347, -4.74710368, -4.18748789, -4.18748789,\n",
            "        -4.0539565 , -5.03478575, -4.34163857, -4.52396013, -5.44025086,\n",
            "        -4.0539565 , -5.03478575, -4.18748789, -4.74710368, -5.44025086,\n",
            "        -4.52396013, -5.03478575, -4.74710368, -6.13339804, -4.74710368,\n",
            "        -5.44025086, -5.44025086, -5.03478575, -5.03478575, -5.44025086,\n",
            "        -5.03478575, -5.03478575, -5.44025086, -6.13339804, -5.03478575,\n",
            "        -4.74710368, -5.44025086, -6.13339804, -6.13339804, -6.13339804,\n",
            "        -4.74710368, -5.44025086, -6.13339804, -6.13339804, -6.13339804,\n",
            "        -6.13339804, -6.13339804, -6.13339804, -6.13339804, -6.13339804,\n",
            "        -6.13339804],\n",
            "       [-3.98589285, -4.16821441, -5.08450514, -4.16821441, -3.98589285,\n",
            "        -4.16821441, -4.67904003, -5.08450514, -4.67904003, -5.08450514,\n",
            "        -2.88728057, -5.08450514, -5.08450514, -5.77765232, -5.08450514,\n",
            "        -5.08450514, -3.98589285, -4.16821441, -3.83174217, -3.47506723,\n",
            "        -4.39135796, -4.16821441, -3.58042775, -3.98589285, -3.21270297,\n",
            "        -4.39135796, -3.83174217, -3.83174217, -3.98589285, -3.58042775,\n",
            "        -2.37645494, -3.98589285, -3.69821078, -3.83174217, -4.39135796,\n",
            "        -3.69821078, -3.58042775, -5.77765232, -4.16821441, -4.16821441,\n",
            "        -4.16821441, -4.67904003, -4.39135796, -5.77765232, -4.67904003,\n",
            "        -4.16821441, -5.77765232, -5.77765232, -4.39135796, -4.16821441,\n",
            "        -4.67904003, -4.67904003, -4.67904003, -5.08450514, -5.77765232,\n",
            "        -5.08450514, -5.08450514, -5.77765232, -5.08450514, -5.77765232,\n",
            "        -5.08450514, -5.77765232, -5.77765232, -5.08450514, -5.77765232,\n",
            "        -5.77765232, -5.77765232, -5.77765232, -5.77765232, -5.77765232,\n",
            "        -5.77765232, -5.77765232, -5.77765232, -5.77765232, -5.77765232,\n",
            "        -5.77765232, -5.77765232, -5.77765232, -5.77765232, -5.77765232,\n",
            "        -5.08450514]]), array([[-0.34680825, -1.75888672, -3.47867269, -3.76635477, -3.47867269,\n",
            "        -4.57728498, -5.96357934, -5.96357934, -3.8841378 ],\n",
            "       [-0.50157242, -1.1947196 , -3.12755767, -3.91601503, -4.42684065,\n",
            "        -5.52545294, -5.52545294, -5.52545294, -5.52545294]]), array([[-0.23483959, -2.34750678, -2.52443749, -4.8598124 , -4.57213033,\n",
            "        -4.57213033, -5.26527751],\n",
            "       [-0.40546511, -1.73326326, -2.05171699, -4.41884061, -5.5174529 ,\n",
            "        -4.82430572, -5.5174529 ]]), array([[-1.99679127, -2.36451605, -0.26105963],\n",
            "       [-1.28175051, -2.45673577, -0.4514022 ]]), array([[-1.39676566, -0.88173835, -2.42428203, -1.38629436],\n",
            "       [-1.09861229, -1.08649093, -2.13803571, -1.55408782]])]\n"
          ]
        }
      ]
    },
    {
      "cell_type": "code",
      "execution_count": null,
      "metadata": {
        "id": "h7fqUpTeFcHM",
        "colab": {
          "base_uri": "https://localhost:8080/"
        },
        "outputId": "51e5e41e-bd74-40d1-977c-69348bd386ac"
      },
      "outputs": [
        {
          "output_type": "stream",
          "name": "stdout",
          "text": [
            "19\n"
          ]
        }
      ],
      "source": [
        "from sklearn.model_selection import RandomizedSearchCV\n",
        "rsCV = RandomizedSearchCV(CategoricalNB(), parameters, cv=15, n_jobs = -1,scoring=f1_score)#cv=5 , scoring =f1_score\n",
        "\n",
        "rsCV.fit(X_train, Y_train)\n",
        "best_alpha = rsCV.best_params_['alpha']\n",
        "print(best_alpha)"
      ]
    },
    {
      "cell_type": "code",
      "source": [
        "# set alpha to 0.5\n",
        "from sklearn.metrics import f1_score\n",
        "# train the model\n",
        "model= CategoricalNB(alpha=19)\n",
        "model.fit(X_train.values, Y_train.values)\n",
        "# test \n",
        "Y_pred = model.predict(X_test.values)\n",
        "# classification report \n",
        "print(classification_report(Y_test,Y_pred))\n",
        "# print from the model category_count_\n",
        "# print from the model class_count_\n",
        "# print from the model n_categories_\n",
        "# print feature_log_prob_"
      ],
      "metadata": {
        "id": "R-vpkqEP0U8X",
        "colab": {
          "base_uri": "https://localhost:8080/"
        },
        "outputId": "4aca21a0-36e1-43af-ab6a-58a0ddd7dfd8"
      },
      "execution_count": null,
      "outputs": [
        {
          "output_type": "stream",
          "name": "stdout",
          "text": [
            "              precision    recall  f1-score   support\n",
            "\n",
            "           0       0.84      0.85      0.84       169\n",
            "           1       0.74      0.71      0.73        98\n",
            "\n",
            "    accuracy                           0.80       267\n",
            "   macro avg       0.79      0.78      0.78       267\n",
            "weighted avg       0.80      0.80      0.80       267\n",
            "\n"
          ]
        }
      ]
    },
    {
      "cell_type": "code",
      "source": [],
      "metadata": {
        "id": "LpyHGlV2D6dn"
      },
      "execution_count": null,
      "outputs": []
    }
  ],
  "metadata": {
    "kernelspec": {
      "display_name": "Python 3",
      "language": "python",
      "name": "python3"
    },
    "language_info": {
      "codemirror_mode": {
        "name": "ipython",
        "version": 3
      },
      "file_extension": ".py",
      "mimetype": "text/x-python",
      "name": "python",
      "nbconvert_exporter": "python",
      "pygments_lexer": "ipython3",
      "version": "3.8.8"
    },
    "colab": {
      "provenance": [],
      "include_colab_link": true
    }
  },
  "nbformat": 4,
  "nbformat_minor": 0
}