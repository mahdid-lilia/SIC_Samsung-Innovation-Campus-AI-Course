{
 "cells": [
  {
   "cell_type": "code",
   "execution_count": 1,
   "id": "0b6ca7a3",
   "metadata": {},
   "outputs": [
    {
     "name": "stdout",
     "output_type": "stream",
     "text": [
      "Welcome to python world! Let's start coding\n"
     ]
    }
   ],
   "source": [
    "print(\"Welcome to python world! Let's start coding\")"
   ]
  },
  {
   "cell_type": "raw",
   "id": "71178de3",
   "metadata": {},
   "source": [
    "This is the first Checkpoint: Intro to AI"
   ]
  },
  {
   "cell_type": "code",
   "execution_count": null,
   "id": "58325eed",
   "metadata": {},
   "outputs": [],
   "source": []
  },
  {
   "cell_type": "code",
   "execution_count": null,
   "id": "cc7b01a9",
   "metadata": {},
   "outputs": [],
   "source": []
  }
 ],
 "metadata": {
  "kernelspec": {
   "display_name": "Python 3 (ipykernel)",
   "language": "python",
   "name": "python3"
  },
  "language_info": {
   "codemirror_mode": {
    "name": "ipython",
    "version": 3
   },
   "file_extension": ".py",
   "mimetype": "text/x-python",
   "name": "python",
   "nbconvert_exporter": "python",
   "pygments_lexer": "ipython3",
   "version": "3.9.7"
  }
 },
 "nbformat": 4,
 "nbformat_minor": 5
}
