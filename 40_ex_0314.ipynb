{
  "cells": [
    {
      "cell_type": "markdown",
      "metadata": {
        "id": "view-in-github",
        "colab_type": "text"
      },
      "source": [
        "<a href=\"https://colab.research.google.com/github/mahdid-lilia/SIC_Samsung-Innovation-Campus-AI-Course/blob/main/40_ex_0314.ipynb\" target=\"_parent\"><img src=\"https://colab.research.google.com/assets/colab-badge.svg\" alt=\"Open In Colab\"/></a>"
      ]
    },
    {
      "cell_type": "markdown",
      "metadata": {
        "id": "-t7mKpeU6oGw"
      },
      "source": [
        "## Coding Exercise #0314"
      ]
    },
    {
      "cell_type": "markdown",
      "metadata": {
        "id": "kvj8qILo6oG1"
      },
      "source": [
        "### 1. Bagging ensemble:"
      ]
    },
    {
      "cell_type": "code",
      "execution_count": 1,
      "metadata": {
        "id": "Yh3mNJkI6oG1"
      },
      "outputs": [],
      "source": [
        "# Install once.\n",
        "# !pip install xgboost"
      ]
    },
    {
      "cell_type": "code",
      "execution_count": 2,
      "metadata": {
        "id": "mw38mMSZ6oG4"
      },
      "outputs": [],
      "source": [
        "import numpy as np\n",
        "import pandas as pd\n",
        "import warnings \n",
        "import seaborn as sns\n",
        "import matplotlib.pyplot as plt\n",
        "from sklearn.model_selection import train_test_split,GridSearchCV\n",
        "from sklearn.tree import DecisionTreeClassifier\n",
        "from sklearn.ensemble import RandomForestClassifier,AdaBoostClassifier, GradientBoostingClassifier\n",
        "from xgboost import XGBClassifier\n",
        "from sklearn import metrics\n",
        "from sklearn.datasets import load_breast_cancer\n",
        "warnings.filterwarnings(action='ignore')                  # Turn off the warnings."
      ]
    },
    {
      "cell_type": "markdown",
      "metadata": {
        "id": "TTEiX4Vh6oG4"
      },
      "source": [
        "#### 1.1. Read in data:"
      ]
    },
    {
      "cell_type": "code",
      "execution_count": 3,
      "metadata": {
        "id": "Lxdlsbur6oG5"
      },
      "outputs": [],
      "source": [
        "# Load data.\n",
        "data = load_breast_cancer()"
      ]
    },
    {
      "cell_type": "code",
      "execution_count": 4,
      "metadata": {
        "colab": {
          "base_uri": "https://localhost:8080/"
        },
        "id": "Pp2czNxS6oG5",
        "outputId": "1f07d16a-29f8-4514-beaa-47348b7a47fa"
      },
      "outputs": [
        {
          "output_type": "stream",
          "name": "stdout",
          "text": [
            "['mean radius' 'mean texture' 'mean perimeter' 'mean area'\n",
            " 'mean smoothness' 'mean compactness' 'mean concavity'\n",
            " 'mean concave points' 'mean symmetry' 'mean fractal dimension'\n",
            " 'radius error' 'texture error' 'perimeter error' 'area error'\n",
            " 'smoothness error' 'compactness error' 'concavity error'\n",
            " 'concave points error' 'symmetry error' 'fractal dimension error'\n",
            " 'worst radius' 'worst texture' 'worst perimeter' 'worst area'\n",
            " 'worst smoothness' 'worst compactness' 'worst concavity'\n",
            " 'worst concave points' 'worst symmetry' 'worst fractal dimension']\n"
          ]
        }
      ],
      "source": [
        "# Explanatory variables.\n",
        "X = data['data']\n",
        "variable_names = data['feature_names']\n",
        "print(variable_names)"
      ]
    },
    {
      "cell_type": "code",
      "execution_count": 5,
      "metadata": {
        "colab": {
          "base_uri": "https://localhost:8080/"
        },
        "id": "2z6FIS4a6oG6",
        "outputId": "df56f6a0-f90a-463a-ef05-c422be75c5ae"
      },
      "outputs": [
        {
          "output_type": "execute_result",
          "data": {
            "text/plain": [
              "(569, 30)"
            ]
          },
          "metadata": {},
          "execution_count": 5
        }
      ],
      "source": [
        "X.shape"
      ]
    },
    {
      "cell_type": "code",
      "execution_count": 6,
      "metadata": {
        "colab": {
          "base_uri": "https://localhost:8080/"
        },
        "id": "eiih7-cE6oG6",
        "outputId": "abf2c182-58a5-4395-b22e-643b8671f71a"
      },
      "outputs": [
        {
          "output_type": "stream",
          "name": "stdout",
          "text": [
            "['benign', 'malignant']\n"
          ]
        }
      ],
      "source": [
        "# Response variable.\n",
        "# Relabel such that 0 = 'benign' and 1 = malignant.\n",
        "Y = 1 - data['target']\n",
        "label = list(data['target_names'])\n",
        "label.reverse()\n",
        "print(label)"
      ]
    },
    {
      "cell_type": "code",
      "execution_count": 7,
      "metadata": {
        "id": "iXXUJdii6oG7"
      },
      "outputs": [],
      "source": [
        "X_train, X_test, Y_train, Y_test = train_test_split(X, Y, test_size=0.3, random_state=1234)"
      ]
    },
    {
      "cell_type": "markdown",
      "metadata": {
        "id": "iSDw5_9b6oG8"
      },
      "source": [
        "#### 1.2. Random Forest:"
      ]
    },
    {
      "cell_type": "code",
      "execution_count": 8,
      "metadata": {
        "colab": {
          "base_uri": "https://localhost:8080/"
        },
        "id": "XMGH_q2q6oG8",
        "outputId": "3f46a9d1-abad-4885-ebdf-ffe92f34d38a"
      },
      "outputs": [
        {
          "output_type": "stream",
          "name": "stdout",
          "text": [
            "Random Forest accuracy : 0.924\n"
          ]
        }
      ],
      "source": [
        "# Classification by Random Forest.\n",
        "RFC = RandomForestClassifier(n_estimators=100,max_depth=5,min_samples_leaf=2,random_state=123)\n",
        "RFC.fit(X_train, Y_train)\n",
        "Y_pred = RFC.predict(X_test)\n",
        "print( \"Random Forest accuracy : \" + str(np.round(metrics.accuracy_score(Y_test,Y_pred),3)))"
      ]
    },
    {
      "cell_type": "code",
      "execution_count": 9,
      "metadata": {
        "colab": {
          "base_uri": "https://localhost:8080/",
          "height": 265
        },
        "id": "aMtn_WNY6oG8",
        "outputId": "5703b3a6-a518-453d-b068-280a58cd44ed"
      },
      "outputs": [
        {
          "output_type": "display_data",
          "data": {
            "text/plain": [
              "<Figure size 432x288 with 1 Axes>"
            ],
            "image/png": "[encoded data removed]"
          },
          "metadata": {
            "needs_background": "light"
          }
        }
      ],
      "source": [
        "# Display the top 10 most important variables.\n",
        "variable_importance = pd.Series(RFC.feature_importances_, index = variable_names)\n",
        "top_variables_10 = variable_importance.sort_values(ascending=False)[:10]\n",
        "sns.barplot(x=top_variables_10.values, y = top_variables_10.index, ci=None)\n",
        "plt.show()"
      ]
    },
    {
      "cell_type": "markdown",
      "metadata": {
        "id": "nEvHI21v6oG9"
      },
      "source": [
        "### 2. Boosting Ensemble:"
      ]
    },
    {
      "cell_type": "markdown",
      "metadata": {
        "id": "2CnEgIFY6oG9"
      },
      "source": [
        "#### 2.1.  AdaBoost:"
      ]
    },
    {
      "cell_type": "code",
      "execution_count": 10,
      "metadata": {
        "id": "YG38-WOu6oG9",
        "colab": {
          "base_uri": "https://localhost:8080/"
        },
        "outputId": "d69e7c64-8e16-49e8-a9c7-b9df709f1f2f"
      },
      "outputs": [
        {
          "output_type": "stream",
          "name": "stdout",
          "text": [
            "AdaBoost accuracy : 0.924\n"
          ]
        }
      ],
      "source": [
        "# Classification by AdaBoost.\n",
        "ABC = AdaBoostClassifier(base_estimator=DecisionTreeClassifier(max_depth=10),n_estimators=100,learning_rate=0.01,random_state=123)\n",
        "ABC.fit(X_train, Y_train)\n",
        "Y_pred = ABC.predict(X_test)\n",
        "print( \"AdaBoost accuracy : \" + str(np.round(metrics.accuracy_score(Y_test,Y_pred),3)))"
      ]
    },
    {
      "cell_type": "code",
      "execution_count": 11,
      "metadata": {
        "id": "WNBNMaQe6oG9",
        "colab": {
          "base_uri": "https://localhost:8080/",
          "height": 265
        },
        "outputId": "2290b45e-a328-43b0-e705-8846c17f5524"
      },
      "outputs": [
        {
          "output_type": "display_data",
          "data": {
            "text/plain": [
              "<Figure size 432x288 with 1 Axes>"
            ],
            "image/png": "[encoded data removed]"
          },
          "metadata": {
            "needs_background": "light"
          }
        }
      ],
      "source": [
        "# Display the top 10 most important variables.\n",
        "variable_importance = pd.Series(ABC.feature_importances_, index = variable_names)\n",
        "top_variables_10 = variable_importance.sort_values(ascending=False)[:10]\n",
        "sns.barplot(x=top_variables_10.values, y = top_variables_10.index, ci=None)\n",
        "plt.show()"
      ]
    },
    {
      "cell_type": "markdown",
      "metadata": {
        "id": "GDggvyZB6oG-"
      },
      "source": [
        "#### 2.2.  Gradient Boosting:"
      ]
    },
    {
      "cell_type": "code",
      "execution_count": 12,
      "metadata": {
        "id": "DPD4Rl5i6oG-",
        "colab": {
          "base_uri": "https://localhost:8080/"
        },
        "outputId": "6aab67a4-b257-43b8-c776-8b96d68934a8"
      },
      "outputs": [
        {
          "output_type": "stream",
          "name": "stdout",
          "text": [
            "Gradient Boosting accuracy : 0.906\n"
          ]
        }
      ],
      "source": [
        "# Classification by Gradient Boosting.\n",
        "GBC = GradientBoostingClassifier(n_estimators=100,learning_rate=0.01,min_samples_leaf=2,max_leaf_nodes=30,random_state=123)\n",
        "GBC.fit(X_train, Y_train)\n",
        "Y_pred = GBC.predict(X_test)\n",
        "print( \"Gradient Boosting accuracy : \" + str(np.round(metrics.accuracy_score(Y_test,Y_pred),3)))"
      ]
    },
    {
      "cell_type": "code",
      "execution_count": 13,
      "metadata": {
        "id": "sqmAzD116oG-",
        "colab": {
          "base_uri": "https://localhost:8080/",
          "height": 265
        },
        "outputId": "364c6d4d-0123-4372-a43c-8178b387d82d"
      },
      "outputs": [
        {
          "output_type": "display_data",
          "data": {
            "text/plain": [
              "<Figure size 432x288 with 1 Axes>"
            ],
            "image/png": "[encoded data removed]"
          },
          "metadata": {
            "needs_background": "light"
          }
        }
      ],
      "source": [
        "# Display the top 10 most important variables.\n",
        "variable_importance = pd.Series(GBC.feature_importances_, index = variable_names)\n",
        "top_variables_10 = variable_importance.sort_values(ascending=False)[:10]\n",
        "sns.barplot(x=top_variables_10.values, y = top_variables_10.index, ci=None)\n",
        "plt.show()"
      ]
    },
    {
      "cell_type": "markdown",
      "metadata": {
        "id": "i1UQdeE36oG_"
      },
      "source": [
        "#### 2.3. XGBoost:"
      ]
    },
    {
      "cell_type": "code",
      "execution_count": 14,
      "metadata": {
        "id": "-2d81LvD6oG_",
        "colab": {
          "base_uri": "https://localhost:8080/"
        },
        "outputId": "13ff2075-7763-4ad0-9ac0-8ffda355d219"
      },
      "outputs": [
        {
          "output_type": "stream",
          "name": "stdout",
          "text": [
            "XGBoost accuracy : 0.942\n"
          ]
        }
      ],
      "source": [
        "# Classification by XGBoost.\n",
        "XGBC = XGBClassifier(n_estimator = 500, learning_Rate = 0.1, max_depth = 4, random_state=123)\n",
        "XGBC.fit(X_train, Y_train)\n",
        "Y_pred = XGBC.predict(X_test)\n",
        "print( \"XGBoost accuracy : \" + str(np.round(metrics.accuracy_score(Y_test,Y_pred),3)))"
      ]
    },
    {
      "cell_type": "code",
      "execution_count": 15,
      "metadata": {
        "id": "Zi3kDzlJ6oG_",
        "colab": {
          "base_uri": "https://localhost:8080/",
          "height": 265
        },
        "outputId": "33743ca1-e56e-403f-8017-9e886b4b7abb"
      },
      "outputs": [
        {
          "output_type": "display_data",
          "data": {
            "text/plain": [
              "<Figure size 432x288 with 1 Axes>"
            ],
            "image/png": "[encoded data removed]"
          },
          "metadata": {
            "needs_background": "light"
          }
        }
      ],
      "source": [
        "# Display the top 10 most important variables.\n",
        "variable_importance = pd.Series(XGBC.feature_importances_, index = variable_names)\n",
        "top_variables_10 = variable_importance.sort_values(ascending=False)[:10]\n",
        "sns.barplot(x=top_variables_10.values, y = top_variables_10.index, ci=None)\n",
        "plt.show()"
      ]
    },
    {
      "cell_type": "markdown",
      "metadata": {
        "id": "d8p0GUn26oG_"
      },
      "source": [
        "NOTE: The hyperparameters of XGBClassifier can be optimized using GridSearchCV() and RandomSearchCV(). Students are encouraged to explore. "
      ]
    },
    {
      "cell_type": "code",
      "execution_count": null,
      "metadata": {
        "id": "mTIjCKwG6oHA"
      },
      "outputs": [],
      "source": []
    }
  ],
  "metadata": {
    "kernelspec": {
      "display_name": "Python 3",
      "language": "python",
      "name": "python3"
    },
    "language_info": {
      "codemirror_mode": {
        "name": "ipython",
        "version": 3
      },
      "file_extension": ".py",
      "mimetype": "text/x-python",
      "name": "python",
      "nbconvert_exporter": "python",
      "pygments_lexer": "ipython3",
      "version": "3.8.8"
    },
    "colab": {
      "provenance": [],
      "include_colab_link": true
    }
  },
  "nbformat": 4,
  "nbformat_minor": 0
}