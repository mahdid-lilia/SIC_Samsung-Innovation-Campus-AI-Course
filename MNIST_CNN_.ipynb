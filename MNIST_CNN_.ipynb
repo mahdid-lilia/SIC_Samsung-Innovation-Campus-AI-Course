{
  "nbformat": 4,
  "nbformat_minor": 0,
  "metadata": {
    "colab": {
      "provenance": [],
      "authorship_tag": "ABX9TyOFqTq/Ypcci4VRT8167T1H",
      "include_colab_link": true
    },
    "kernelspec": {
      "name": "python3",
      "display_name": "Python 3"
    },
    "language_info": {
      "name": "python"
    }
  },
  "cells": [
    {
      "cell_type": "markdown",
      "metadata": {
        "id": "view-in-github",
        "colab_type": "text"
      },
      "source": [
        "<a href=\"https://colab.research.google.com/github/mahdid-lilia/SIC_Samsung-Innovation-Campus-AI-Course/blob/main/MNIST_CNN_.ipynb\" target=\"_parent\"><img src=\"https://colab.research.google.com/assets/colab-badge.svg\" alt=\"Open In Colab\"/></a>"
      ]
    },
    {
      "cell_type": "code",
      "execution_count": 1,
      "metadata": {
        "id": "MkhN-XdrBYvw"
      },
      "outputs": [],
      "source": [
        "from keras.datasets.mnist import load_data\n",
        "import numpy as np\n",
        "from sklearn.model_selection import train_test_split\n",
        "from keras.utils import to_categorical"
      ]
    },
    {
      "cell_type": "code",
      "source": [
        "# load the data - it returns 2 tuples of digits & labels - one for\n",
        "# the train set & the other for the test set\n",
        "(train_digits, train_labels), (test_digits, test_labels) = load_data()\n",
        "#  some variables...\n",
        "image_height = train_digits.shape[1]  \n",
        "image_width = train_digits.shape[2]\n",
        "num_channels = 1  # we have grayscale images\n",
        "# NOTE: image_height == image_width == 28\n",
        "\n",
        "# re-shape the images data\n",
        "train_data = np.reshape(train_digits, (train_digits.shape[0], image_height, image_width, num_channels))\n",
        "test_data = np.reshape(test_digits, (test_digits.shape[0],image_height, image_width, num_channels))\n",
        "\n",
        "# re-scale the image data to values between [0,1]\n",
        "train_data = train_data.astype('float32') / 255.\n",
        "test_data = test_data.astype('float32') / 255.\n",
        "\n",
        "# one-hot encode the labels - we have 10 output classes\n",
        "# so 3 -> [0 0 0 1 0 0 0 0 0 0], 5 -> [0 0 0 0 0 1 0 0 0 0] & so on\n",
        "num_classes = 10\n",
        "train_labels_cat = to_categorical(train_labels,num_classes)\n",
        "test_labels_cat = to_categorical(test_labels,num_classes)\n",
        "\n",
        "# split training set into training and validation\n",
        "train_data2, val_data,train_labels_cat2,  val_labels = train_test_split(train_data, train_labels_cat, test_size=0.1)"
      ],
      "metadata": {
        "colab": {
          "base_uri": "https://localhost:8080/"
        },
        "id": "SO3gsQ8EBi1O",
        "outputId": "fed90cf4-0a7f-4469-963d-b9100899caa1"
      },
      "execution_count": 2,
      "outputs": [
        {
          "output_type": "stream",
          "name": "stdout",
          "text": [
            "Downloading data from https://storage.googleapis.com/tensorflow/tf-keras-datasets/mnist.npz\n",
            "11490434/11490434 [==============================] - 0s 0us/step\n"
          ]
        }
      ]
    },
    {
      "cell_type": "markdown",
      "source": [
        "MNIST Model Building "
      ],
      "metadata": {
        "id": "WG2SzCVQBq3_"
      }
    },
    {
      "cell_type": "code",
      "source": [
        "from keras.models import Sequential\n",
        "from keras.layers import Conv2D, MaxPooling2D, Flatten, Dense, Dropout\n",
        "\n",
        "def build_model():\n",
        "    model = Sequential()\n",
        "    # add Convolutional layers\n",
        "    model.add(Conv2D(filters=32, kernel_size=(3,3), activation='relu', padding='same',\n",
        "                     input_shape=(image_height, image_width, num_channels)))\n",
        "    model.add(MaxPooling2D(pool_size=(2,2)))\n",
        "    model.add(Conv2D(filters=64, kernel_size=(3,3), activation='relu', padding='same'))\n",
        "    model.add(MaxPooling2D(pool_size=(2,2)))\n",
        "    model.add(Conv2D(filters=64, kernel_size=(3,3), activation='relu', padding='same'))\n",
        "    model.add(MaxPooling2D(pool_size=(2,2)))    \n",
        "    model.add(Flatten())\n",
        "    # Densely connected layers\n",
        "    model.add(Dense(128, activation='relu'))\n",
        "    # output layer\n",
        "    model.add(Dense(num_classes, activation='softmax'))\n",
        "    # compile with adam optimizer & categorical_crossentropy loss function\n",
        "    model.compile(optimizer='adam', loss='categorical_crossentropy', metrics=['accuracy'])\n",
        "    return model\n",
        "\n",
        "model = build_model()"
      ],
      "metadata": {
        "id": "LIfxU7oeBl0A"
      },
      "execution_count": 3,
      "outputs": []
    },
    {
      "cell_type": "markdown",
      "source": [
        "MNIST Training "
      ],
      "metadata": {
        "id": "dtdjbp0UB62v"
      }
    },
    {
      "cell_type": "code",
      "source": [
        "history = model.fit(train_data2, train_labels_cat2, \n",
        "                    epochs=15, batch_size=64,\n",
        "                    validation_data=(val_data, val_labels))"
      ],
      "metadata": {
        "colab": {
          "base_uri": "https://localhost:8080/"
        },
        "id": "zscPHrJjBtya",
        "outputId": "426814ff-cacf-4377-cbf7-dcbf65929377"
      },
      "execution_count": 6,
      "outputs": [
        {
          "output_type": "stream",
          "name": "stdout",
          "text": [
            "Epoch 1/15\n",
            "844/844 [==============================] - 59s 70ms/step - loss: 0.0063 - accuracy: 0.9977 - val_loss: 0.0579 - val_accuracy: 0.9880\n",
            "Epoch 2/15\n",
            "844/844 [==============================] - 53s 63ms/step - loss: 0.0050 - accuracy: 0.9982 - val_loss: 0.0566 - val_accuracy: 0.9885\n",
            "Epoch 3/15\n",
            "844/844 [==============================] - 51s 60ms/step - loss: 0.0048 - accuracy: 0.9987 - val_loss: 0.0490 - val_accuracy: 0.9890\n",
            "Epoch 4/15\n",
            "844/844 [==============================] - 51s 60ms/step - loss: 0.0033 - accuracy: 0.9989 - val_loss: 0.0423 - val_accuracy: 0.9908\n",
            "Epoch 5/15\n",
            "844/844 [==============================] - 51s 60ms/step - loss: 0.0068 - accuracy: 0.9978 - val_loss: 0.0420 - val_accuracy: 0.9908\n",
            "Epoch 6/15\n",
            "844/844 [==============================] - 52s 62ms/step - loss: 0.0042 - accuracy: 0.9985 - val_loss: 0.0484 - val_accuracy: 0.9888\n",
            "Epoch 7/15\n",
            "844/844 [==============================] - 51s 60ms/step - loss: 0.0034 - accuracy: 0.9989 - val_loss: 0.0564 - val_accuracy: 0.9915\n",
            "Epoch 8/15\n",
            "844/844 [==============================] - 51s 61ms/step - loss: 0.0040 - accuracy: 0.9988 - val_loss: 0.0501 - val_accuracy: 0.9922\n",
            "Epoch 9/15\n",
            "844/844 [==============================] - 51s 61ms/step - loss: 0.0035 - accuracy: 0.9989 - val_loss: 0.0465 - val_accuracy: 0.9908\n",
            "Epoch 10/15\n",
            "844/844 [==============================] - 52s 62ms/step - loss: 0.0031 - accuracy: 0.9991 - val_loss: 0.0542 - val_accuracy: 0.9915\n",
            "Epoch 11/15\n",
            "844/844 [==============================] - 51s 61ms/step - loss: 0.0021 - accuracy: 0.9993 - val_loss: 0.0885 - val_accuracy: 0.9882\n",
            "Epoch 12/15\n",
            "844/844 [==============================] - 51s 60ms/step - loss: 0.0055 - accuracy: 0.9983 - val_loss: 0.0575 - val_accuracy: 0.9900\n",
            "Epoch 13/15\n",
            "844/844 [==============================] - 52s 62ms/step - loss: 0.0025 - accuracy: 0.9992 - val_loss: 0.0534 - val_accuracy: 0.9893\n",
            "Epoch 14/15\n",
            "844/844 [==============================] - 52s 62ms/step - loss: 0.0029 - accuracy: 0.9991 - val_loss: 0.0612 - val_accuracy: 0.9912\n",
            "Epoch 15/15\n",
            "844/844 [==============================] - 52s 62ms/step - loss: 0.0037 - accuracy: 0.9987 - val_loss: 0.0517 - val_accuracy: 0.9917\n"
          ]
        }
      ]
    },
    {
      "cell_type": "markdown",
      "source": [
        "MNIST Testing"
      ],
      "metadata": {
        "id": "ZLjnR1K8CG6g"
      }
    },
    {
      "cell_type": "code",
      "source": [
        "test_loss, test_accuracy = model.evaluate(test_data, test_labels_cat, batch_size=64)\n",
        "print('Test loss: %.4f accuracy: %.4f' % (test_loss, test_accuracy))"
      ],
      "metadata": {
        "colab": {
          "base_uri": "https://localhost:8080/"
        },
        "id": "mUnRPlx2B9L8",
        "outputId": "b1b6ec91-4bb7-4b1d-92ee-706f05d75838"
      },
      "execution_count": 7,
      "outputs": [
        {
          "output_type": "stream",
          "name": "stdout",
          "text": [
            "157/157 [==============================] - 3s 18ms/step - loss: 0.0450 - accuracy: 0.9921\n",
            "Test loss: 0.0450 accuracy: 0.9921\n"
          ]
        }
      ]
    },
    {
      "cell_type": "code",
      "source": [],
      "metadata": {
        "id": "SViv9eDmCIol"
      },
      "execution_count": null,
      "outputs": []
    }
  ]
}