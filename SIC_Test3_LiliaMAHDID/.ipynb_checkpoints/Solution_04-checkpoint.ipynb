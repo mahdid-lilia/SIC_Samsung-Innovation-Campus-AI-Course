{
 "cells": [
  {
   "cell_type": "markdown",
   "metadata": {},
   "source": [
    "# 4. Let's answer the following questions:"
   ]
  },
  {
   "cell_type": "code",
   "execution_count": 2,
   "metadata": {},
   "outputs": [],
   "source": [
    "import pandas as pd\n",
    "import numpy as np\n",
    "import os\n",
    "import matplotlib.pyplot as plt\n",
    "%matplotlib inline "
   ]
  },
  {
   "cell_type": "markdown",
   "metadata": {},
   "source": [
    "#### Read in the data."
   ]
  },
  {
   "cell_type": "code",
   "execution_count": 3,
   "metadata": {},
   "outputs": [],
   "source": [
    "# Go to the directory where the data file is located. \n",
    "# os.chdir(r'~~')                # Please, replace the path with your own."
   ]
  },
  {
   "cell_type": "code",
   "execution_count": 4,
   "metadata": {},
   "outputs": [],
   "source": [
    "df = pd.read_csv('./data/data_coffeeshop.csv', header='infer',na_values=[' '])"
   ]
  },
  {
   "cell_type": "code",
   "execution_count": 5,
   "metadata": {},
   "outputs": [
    {
     "data": {
      "text/plain": [
       "(43182, 3)"
      ]
     },
     "execution_count": 5,
     "metadata": {},
     "output_type": "execute_result"
    }
   ],
   "source": [
    "df.shape"
   ]
  },
  {
   "cell_type": "code",
   "execution_count": 6,
   "metadata": {},
   "outputs": [
    {
     "data": {
      "text/html": [
       "<div>\n",
       "<style scoped>\n",
       "    .dataframe tbody tr th:only-of-type {\n",
       "        vertical-align: middle;\n",
       "    }\n",
       "\n",
       "    .dataframe tbody tr th {\n",
       "        vertical-align: top;\n",
       "    }\n",
       "\n",
       "    .dataframe thead th {\n",
       "        text-align: right;\n",
       "    }\n",
       "</style>\n",
       "<table border=\"1\" class=\"dataframe\">\n",
       "  <thead>\n",
       "    <tr style=\"text-align: right;\">\n",
       "      <th></th>\n",
       "      <th>Year of Start</th>\n",
       "      <th>Current State</th>\n",
       "      <th>Size of Site</th>\n",
       "    </tr>\n",
       "  </thead>\n",
       "  <tbody>\n",
       "    <tr>\n",
       "      <th>0</th>\n",
       "      <td>2008.0</td>\n",
       "      <td>In</td>\n",
       "      <td>20.80</td>\n",
       "    </tr>\n",
       "    <tr>\n",
       "      <th>1</th>\n",
       "      <td>2010.0</td>\n",
       "      <td>In</td>\n",
       "      <td>212.72</td>\n",
       "    </tr>\n",
       "    <tr>\n",
       "      <th>2</th>\n",
       "      <td>2013.0</td>\n",
       "      <td>In</td>\n",
       "      <td>20.04</td>\n",
       "    </tr>\n",
       "    <tr>\n",
       "      <th>3</th>\n",
       "      <td>2012.0</td>\n",
       "      <td>In</td>\n",
       "      <td>64.17</td>\n",
       "    </tr>\n",
       "    <tr>\n",
       "      <th>4</th>\n",
       "      <td>2002.0</td>\n",
       "      <td>Out</td>\n",
       "      <td>11.40</td>\n",
       "    </tr>\n",
       "  </tbody>\n",
       "</table>\n",
       "</div>"
      ],
      "text/plain": [
       "   Year of Start Current State  Size of Site\n",
       "0         2008.0            In         20.80\n",
       "1         2010.0            In        212.72\n",
       "2         2013.0            In         20.04\n",
       "3         2012.0            In         64.17\n",
       "4         2002.0           Out         11.40"
      ]
     },
     "execution_count": 6,
     "metadata": {},
     "output_type": "execute_result"
    }
   ],
   "source": [
    "df.head(5)"
   ]
  },
  {
   "cell_type": "markdown",
   "metadata": {},
   "source": [
    "#### Answer the following questions."
   ]
  },
  {
   "cell_type": "markdown",
   "metadata": {},
   "source": [
    "1). Make a frequency table of 'yearOfStart' and visualize by year. \n",
    "- Sort by the year.\n",
    "- Draw a line plot from 1997 to 2014. <= Hint: plt.xlim()"
   ]
  },
  {
   "cell_type": "code",
   "execution_count": 10,
   "metadata": {},
   "outputs": [
    {
     "data": {
      "text/plain": [
       "2014.0    9905\n",
       "2013.0    7270\n",
       "2012.0    6315\n",
       "2011.0    5942\n",
       "2010.0    4172\n",
       "2009.0    2489\n",
       "2008.0    1579\n",
       "2007.0    1233\n",
       "2006.0     863\n",
       "2003.0     799\n",
       "2005.0     654\n",
       "2004.0     648\n",
       "2002.0     398\n",
       "2001.0     183\n",
       "2000.0      89\n",
       "1997.0      54\n",
       "1998.0      54\n",
       "1993.0      50\n",
       "1994.0      48\n",
       "1995.0      48\n",
       "1999.0      46\n",
       "1996.0      41\n",
       "1992.0      37\n",
       "1991.0      28\n",
       "1988.0      26\n",
       "1990.0      25\n",
       "1989.0      23\n",
       "1986.0      21\n",
       "1987.0      21\n",
       "1985.0      18\n",
       "1982.0      12\n",
       "1984.0      11\n",
       "1983.0       9\n",
       "1980.0       9\n",
       "1981.0       8\n",
       "1971.0       6\n",
       "1976.0       5\n",
       "1970.0       4\n",
       "1979.0       4\n",
       "1972.0       3\n",
       "1967.0       3\n",
       "1969.0       2\n",
       "1975.0       2\n",
       "1964.0       2\n",
       "1966.0       2\n",
       "1974.0       1\n",
       "1968.0       1\n",
       "Name: Year of Start, dtype: int64"
      ]
     },
     "execution_count": 10,
     "metadata": {},
     "output_type": "execute_result"
    }
   ],
   "source": [
    "years= df['Year of Start']\n",
    "cnt = years.value_counts()\n",
    "cnt"
   ]
  },
  {
   "cell_type": "code",
   "execution_count": 11,
   "metadata": {},
   "outputs": [
    {
     "name": "stdout",
     "output_type": "stream",
     "text": [
      "1964.0    2\n",
      "1966.0    2\n",
      "1967.0    3\n",
      "1968.0    1\n",
      "1969.0    2\n",
      "1970.0    4\n",
      "1971.0    6\n",
      "1972.0    3\n",
      "1974.0    1\n",
      "1975.0    2\n",
      "Name: Year of Start, dtype: int64\n"
     ]
    }
   ],
   "source": [
    "f_table=cnt.sort_index()\n",
    "print (f_table.head(10)) "
   ]
  },
  {
   "cell_type": "code",
   "execution_count": 39,
   "metadata": {},
   "outputs": [
    {
     "data": {
      "text/plain": [
       "[<matplotlib.lines.Line2D at 0x1d8ac6122e0>]"
      ]
     },
     "execution_count": 39,
     "metadata": {},
     "output_type": "execute_result"
    },
    {
     "data": {
      "image/png": "[encoded data removed]",
      "text/plain": [
       "<Figure size 720x576 with 1 Axes>"
      ]
     },
     "metadata": {
      "needs_background": "light"
     },
     "output_type": "display_data"
    }
   ],
   "source": [
    "fig,ax=plt.subplots(figsize=(10,8)) \n",
    "plt.title(\" A line plot showing the frequency table of 'yearOfStart' from 1997 to 2014\")\n",
    "\n",
    "plt.xlim([1997,2014])\n",
    "ax.plot(f_table.index, f_table.values, c='blue')"
   ]
  },
  {
   "cell_type": "markdown",
   "metadata": {},
   "source": [
    "2). Now, split the data by the current state of business ('In' or 'Out' of business). Then, visualize the yearly trend of the 'yearOfStart' frequencies. \n",
    "- Sort by the year.\n",
    "- Draw two overlapping line plots from 1997 to 2014.\n",
    "- Use the 'figure' object."
   ]
  },
  {
   "cell_type": "code",
   "execution_count": 40,
   "metadata": {},
   "outputs": [
    {
     "data": {
      "text/plain": [
       "dict_items([('In', Int64Index([    0,     1,     2,     3,     5,     6,     7,     8,     9,\n",
       "               11,\n",
       "            ...\n",
       "            43157, 43160, 43161, 43163, 43166, 43168, 43172, 43178, 43179,\n",
       "            43181],\n",
       "           dtype='int64', length=30004)), ('Out', Int64Index([    4,    10,    15,    16,    28,    33,    35,    36,    59,\n",
       "               60,\n",
       "            ...\n",
       "            43167, 43169, 43170, 43171, 43173, 43174, 43175, 43176, 43177,\n",
       "            43180],\n",
       "           dtype='int64', length=13159))])"
      ]
     },
     "execution_count": 40,
     "metadata": {},
     "output_type": "execute_result"
    }
   ],
   "source": [
    "new=df.groupby(['Current State']).groups.items()\n",
    "new\n"
   ]
  },
  {
   "cell_type": "code",
   "execution_count": 45,
   "metadata": {},
   "outputs": [],
   "source": [
    "ser1=df[df['Current State']==\"In\"]['Year of Start']\n",
    "ser2=df[df['Current State']==\"Out\"]['Year of Start']\n",
    "t1 = ser1.value_counts()\n",
    "t2 = ser2.value_counts()\n",
    "f_table1=t1.sort_index()\n",
    "f_table2=t2.sort_index()\n",
    "\n"
   ]
  },
  {
   "cell_type": "code",
   "execution_count": 49,
   "metadata": {},
   "outputs": [
    {
     "data": {
      "text/plain": [
       "[<matplotlib.lines.Line2D at 0x1d8aca4f370>]"
      ]
     },
     "execution_count": 49,
     "metadata": {},
     "output_type": "execute_result"
    },
    {
     "data": {
      "image/png": "[encoded data removed]",
      "text/plain": [
       "<Figure size 864x720 with 1 Axes>"
      ]
     },
     "metadata": {
      "needs_background": "light"
     },
     "output_type": "display_data"
    }
   ],
   "source": [
    "fig,ax=plt.subplots(figsize=(12,10)) \n",
    "plt.title(\"The two overlapping line plots for the yearly trend of the 'yearOfStart' frequencies from 1997 to 2014\")\n",
    "\n",
    "plt.xlim([1997,2014])\n",
    "ax.plot(f_table1.index, f_table1.values, c='magenta', label='In')\n",
    "ax.plot(f_table2.index, f_table2.values, c='cyan', label='Out')"
   ]
  },
  {
   "cell_type": "markdown",
   "metadata": {},
   "source": [
    "3). From the results of 1) and 2), how can you describe the trend in general?"
   ]
  },
  {
   "cell_type": "markdown",
   "metadata": {},
   "source": [
    "* From 1997 to 2008, we visualize that the frequence of new coffee shops is stable, around the year 2008, began a steep increase in the number of new coffee shops.\n",
    "* More coffee shops opened in the past 5 years starting from 2014, are still in business rather than going out of business.\n",
    "* In general, coffee shops opening increased rapidly between 2008 and 2014 and it remained stable between 1997 and 2008. "
   ]
  },
  {
   "cell_type": "code",
   "execution_count": null,
   "metadata": {},
   "outputs": [],
   "source": []
  }
 ],
 "metadata": {
  "interpreter": {
   "hash": "6d46af94c2bbce495f1e668725902fa517c90b1782bcfe2fce0dd9868df553d3"
  },
  "kernelspec": {
   "display_name": "Python 3 (ipykernel)",
   "language": "python",
   "name": "python3"
  },
  "language_info": {
   "codemirror_mode": {
    "name": "ipython",
    "version": 3
   },
   "file_extension": ".py",
   "mimetype": "text/x-python",
   "name": "python",
   "nbconvert_exporter": "python",
   "pygments_lexer": "ipython3",
   "version": "3.9.7"
  }
 },
 "nbformat": 4,
 "nbformat_minor": 2
}
