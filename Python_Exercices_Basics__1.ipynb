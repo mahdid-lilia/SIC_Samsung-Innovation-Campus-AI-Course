{
 "cells": [
  {
   "cell_type": "markdown",
   "metadata": {
    "id": "aRmeuL6YWoU3"
   },
   "source": [
    "# **Exercice 1**\n",
    "\n",
    "Write a Python function to find the Max of three numbers."
   ]
  },
  {
   "cell_type": "code",
   "execution_count": 1,
   "metadata": {},
   "outputs": [],
   "source": [
    "def max_of_two( x, y ):\n",
    "    if x > y:\n",
    "        return x\n",
    "    return y\n",
    "def max_of_three( x, y, z ):\n",
    "    return max_of_two( x, max_of_two( y, z ) )"
   ]
  },
  {
   "cell_type": "markdown",
   "metadata": {
    "id": "DZuDNF4F17Ni"
   },
   "source": [
    "Write a Python program that accepts an integer (n) and computes the value of n+nn+nnn.\n",
    "\n",
    "The sample value of n is 5.\n",
    "\n",
    "Expected Result: 615 (5+55+555)"
   ]
  },
  {
   "cell_type": "code",
   "execution_count": 56,
   "metadata": {},
   "outputs": [
    {
     "data": {
      "text/plain": [
       "615"
      ]
     },
     "execution_count": 56,
     "metadata": {},
     "output_type": "execute_result"
    }
   ],
   "source": [
    "def Computation(n):\n",
    "    return n+n*10+n+n*100+n*10+n\n",
    "\n",
    "Computation(5)    "
   ]
  },
  {
   "cell_type": "markdown",
   "metadata": {
    "id": "MukkavLLWzrd"
   },
   "source": [
    "# **Exercice 2**\n",
    "\n",
    "Write a Python function to sum all the odd numbers in a list "
   ]
  },
  {
   "cell_type": "code",
   "execution_count": 8,
   "metadata": {},
   "outputs": [
    {
     "name": "stdout",
     "output_type": "stream",
     "text": [
      "Please enter the Total Number of List Elements: 12\n",
      "Please enter the Value of 1 Element : 1\n",
      "Please enter the Value of 2 Element : 2\n",
      "Please enter the Value of 3 Element : 3\n",
      "Please enter the Value of 4 Element : 4\n",
      "Please enter the Value of 5 Element : 5\n",
      "Please enter the Value of 6 Element : 6\n",
      "Please enter the Value of 7 Element : 7\n",
      "Please enter the Value of 8 Element : 8\n",
      "Please enter the Value of 9 Element : 9\n",
      "Please enter the Value of 10 Element : 7\n",
      "Please enter the Value of 11 Element : 7\n",
      "Please enter the Value of 12 Element : 7\n",
      "The Sum of Odd Numbers in this List =   46\n"
     ]
    }
   ],
   "source": [
    "def odd_sum(NumList):\n",
    "    Odd_Sum = 0\n",
    "    for j in range(Number):\n",
    "        if(NumList[j] % 2 != 0):\n",
    "            Odd_Sum = Odd_Sum + NumList[j]\n",
    "    return Odd_Sum\n",
    "NumList = []\n",
    "Number = int(input(\"Please enter the Total Number of List Elements: \"))\n",
    "for i in range(1, Number + 1):\n",
    "    value = int(input(\"Please enter the Value of %d Element : \" %i))\n",
    "    NumList.append(value)\n",
    "\n",
    "Odd_Sum = odd_sum(NumList)\n",
    "print(\"The Sum of Odd Numbers in this List =  \", Odd_Sum)"
   ]
  },
  {
   "cell_type": "markdown",
   "metadata": {
    "id": "hrCISsCKW4Sw"
   },
   "source": [
    "# **Exercice 3**\n",
    "\n",
    "Write a Python function that takes a list and returns a new list with unique elements of the first list.\n",
    "\n",
    "\n",
    "\n",
    "```\n",
    "Sample List : [1,2,3,3,3,3,4,5]\n",
    "Unique List : [1, 2, 3, 4, 5]\n",
    "\n",
    "```\n",
    "\n"
   ]
  },
  {
   "cell_type": "code",
   "execution_count": 9,
   "metadata": {},
   "outputs": [
    {
     "name": "stdout",
     "output_type": "stream",
     "text": [
      "[1, 2, 3, 4, 5]\n"
     ]
    }
   ],
   "source": [
    "def unique_list(l):\n",
    "  x = []\n",
    "  for a in l:\n",
    "    if a not in x:\n",
    "      x.append(a)\n",
    "  return x\n",
    "\n",
    "print(unique_list([1,2,3,3,3,3,4,5])) "
   ]
  },
  {
   "cell_type": "markdown",
   "metadata": {
    "id": "sJr5a2B1XEjF"
   },
   "source": [
    "# **Exercice 4**\n",
    "\n",
    "4.\tWrite a Python program to print out a set containing all the elements from list_1 which are not present in list_2. \n",
    "\n",
    "\n",
    "```\n",
    "Test Data :\n",
    "list_1 = set([\"Jhon\", \"Adam\", \"Eva\"])\n",
    "list_2 = set([\"Adam\", \"Green\"])\n",
    "Expected Output :\n",
    "{'Jhon','Eva'}\n",
    "```\n",
    "\n",
    "\n"
   ]
  },
  {
   "cell_type": "code",
   "execution_count": 11,
   "metadata": {},
   "outputs": [
    {
     "name": "stdout",
     "output_type": "stream",
     "text": [
      "Original set elements:\n",
      "{'Adam', 'Eva', 'Jhon'}\n",
      "{'Adam', 'Green'}\n",
      "\n",
      "The elements from list_1 which are not present in list_2:\n",
      "{'Jhon', 'Eva'}\n"
     ]
    }
   ],
   "source": [
    "list_1 = set([\"Jhon\", \"Adam\", \"Eva\"])\n",
    "list_2 = set([\"Adam\", \"Green\"])\n",
    "print(\"Original set elements:\")\n",
    "print(list_1)\n",
    "print(list_2)\n",
    "print(\"\\nThe elements from list_1 which are not present in list_2:\")\n",
    "print(list_1.difference(list_2))\n"
   ]
  },
  {
   "cell_type": "markdown",
   "metadata": {
    "id": "h41BUOcLXTzT"
   },
   "source": [
    "# **Exercice 5**\n",
    "\n",
    "Write a Python program to check whether a variable is of float or boolean, in two lines of code, and please use **isinstance**"
   ]
  },
  {
   "cell_type": "code",
   "execution_count": null,
   "metadata": {},
   "outputs": [],
   "source": [
    "# check if a number is int or float\n",
    "x=input()\n",
    "x=isinstance(x, float)\n",
    "print(x)# float\n",
    "#isinstance(x, bool) # boolean\n"
   ]
  },
  {
   "cell_type": "markdown",
   "metadata": {
    "id": "9wfilEXqXjJv"
   },
   "source": [
    "# **Exercice 6**\n",
    "\n",
    "Write a Python program to reverse a string"
   ]
  },
  {
   "cell_type": "code",
   "execution_count": 17,
   "metadata": {},
   "outputs": [
    {
     "name": "stdout",
     "output_type": "stream",
     "text": [
      "The original string is : Lilia MAHDID\n",
      "The reversed string(using loops) is : DIDHAM ailiL\n"
     ]
    }
   ],
   "source": [
    "\n",
    "def reverse(s):\n",
    "    str = \"\"\n",
    "    for i in s:\n",
    "        str = i + str\n",
    "    return str\n",
    " \n",
    "s = \"Lilia MAHDID\"\n",
    " \n",
    "print(\"The original string is : \", end=\"\")\n",
    "print(s)\n",
    " \n",
    "print(\"The reversed string(using loops) is : \", end=\"\")\n",
    "print(reverse(s))"
   ]
  },
  {
   "cell_type": "markdown",
   "metadata": {
    "id": "r6oQjFUrXpnf"
   },
   "source": [
    "# **Exercice 7**\n",
    "\n",
    "Write a Python function that accepts a string and calculate the number of upper case letters and lower case letters."
   ]
  },
  {
   "cell_type": "code",
   "execution_count": 19,
   "metadata": {},
   "outputs": [
    {
     "name": "stdout",
     "output_type": "stream",
     "text": [
      "Original String :  My name is Lilia MAHDID\n",
      "No. of Upper case characters :  8\n",
      "No. of Lower case Characters :  11\n"
     ]
    }
   ],
   "source": [
    "def string_test(s):\n",
    "    d={\"UPPER_CASE\":0, \"LOWER_CASE\":0}\n",
    "    for c in s:\n",
    "        if c.isupper():\n",
    "           d[\"UPPER_CASE\"]+=1\n",
    "        elif c.islower():\n",
    "           d[\"LOWER_CASE\"]+=1\n",
    "        else:\n",
    "           pass\n",
    "    print (\"Original String : \", s)\n",
    "    print (\"No. of Upper case characters : \", d[\"UPPER_CASE\"])\n",
    "    print (\"No. of Lower case Characters : \", d[\"LOWER_CASE\"])\n",
    "\n",
    "string_test('My name is Lilia MAHDID')"
   ]
  },
  {
   "cell_type": "markdown",
   "metadata": {
    "id": "t_soF5tMXwRz"
   },
   "source": [
    "# **Exercice 8**\n",
    "\n",
    "Write a Python program that accepts a hyphen-separated sequence of words as input and prints the words in a hyphen-separated sequence after sorting them alphabetically. \n",
    "```\n",
    "Sample Items : green-red-yellow-black-white\n",
    "Expected Result : black-green-red-white-yellow\n",
    "``` "
   ]
  },
  {
   "cell_type": "code",
   "execution_count": 1,
   "metadata": {},
   "outputs": [
    {
     "name": "stdout",
     "output_type": "stream",
     "text": [
      "Lilia-Black-Ailil-Nice\n",
      "Ailil-Black-Lilia-Nice\n"
     ]
    }
   ],
   "source": [
    "items=[n for n in input().split('-')]\n",
    "items.sort()\n",
    "print('-'.join(items))"
   ]
  },
  {
   "cell_type": "markdown",
   "metadata": {
    "id": "Gytg6jEUX8r8"
   },
   "source": [
    "# **Exercice 9**\n",
    "\n",
    "Using **filter()** function, filter the list so that only negative numbers are left."
   ]
  },
  {
   "cell_type": "code",
   "execution_count": 1,
   "metadata": {},
   "outputs": [
    {
     "name": "stdout",
     "output_type": "stream",
     "text": [
      "[-1, -0.5, -0.2, -100]\n"
     ]
    }
   ],
   "source": [
    "lst1=[12, -1, 9, 8, -0.5, -0.2, -100]\n",
    "lst2 = list(filter(lambda x: x<0, lst1))\n",
    "print(lst2)"
   ]
  },
  {
   "cell_type": "markdown",
   "metadata": {
    "id": "M35sWj2oYDeB"
   },
   "source": [
    "# **Exercice 10**\n",
    "\n",
    "Using **filter()** and **list()** functions and **.lower()** method filter all the vowels in a given string."
   ]
  },
  {
   "cell_type": "code",
   "execution_count": 2,
   "metadata": {},
   "outputs": [
    {
     "name": "stdout",
     "output_type": "stream",
     "text": [
      "Please enter the sentence: My name is Lilia MAHDID\n",
      "a\n",
      "e\n",
      "i\n",
      "i\n",
      "i\n",
      "a\n",
      "a\n",
      "i\n"
     ]
    }
   ],
   "source": [
    "\n",
    "def filter_vowel(str1= input(\"Please enter the sentence: \")):\n",
    "    lst = list(filter(lambda x: True if x.lower() in \"aeiou\" else False, str1))\n",
    "    for i in lst:\n",
    "        print(i.lower())\n",
    "\n",
    "filter_vowel()\n"
   ]
  },
  {
   "cell_type": "markdown",
   "metadata": {
    "id": "eT_QrfgGYORM"
   },
   "source": [
    "# **Exercice 11**\n",
    "\n",
    "Write a Python program to clone or copy a list (hint : use ``` copy library ```  ) then print the old and new id number using id()  "
   ]
  },
  {
   "cell_type": "code",
   "execution_count": 5,
   "metadata": {},
   "outputs": [
    {
     "name": "stdout",
     "output_type": "stream",
     "text": [
      "Original List: [4, 8, 2, 10, 15, 18]\n",
      "After Cloning: [4, 8, 2, 10, 15, 18]\n",
      "2226044183744\n",
      "2226044342464\n"
     ]
    }
   ],
   "source": [
    "import copy\n",
    "def Cloning(li1):\n",
    "    li_copy = copy.copy(li1)\n",
    "    return li_copy\n",
    "  \n",
    "# Driver Code\n",
    "li1 = [4, 8, 2, 10, 15, 18]\n",
    "li2 = Cloning(li1)\n",
    "print(\"Original List:\", li1)\n",
    "print(\"After Cloning:\", li2)\n",
    "print(id(li1))\n",
    "print(id(li2))"
   ]
  },
  {
   "cell_type": "markdown",
   "metadata": {
    "id": "KZvq0hElYbov"
   },
   "source": [
    "# **Exercice 12**\n",
    "\n",
    "\n",
    "Write a Python program to transform a list into a dictionary, such as every unique element is the key, and the value is the occurence of each of them\n",
    "\n",
    "\n",
    "```\n",
    "sample input : \n",
    "[\"A\",\"B\",\"C\",\"A\",\"B\", \"B\"]\n",
    "output : \n",
    "{\"A\":2,\"B\":3,\"C\":1}\n",
    "```"
   ]
  },
  {
   "cell_type": "code",
   "execution_count": 29,
   "metadata": {},
   "outputs": [
    {
     "name": "stdout",
     "output_type": "stream",
     "text": [
      "Counter({'B': 3, 'A': 2, 'C': 1})\n",
      "dict_values([2, 3, 1])\n",
      "dict_keys(['A', 'B', 'C'])\n",
      "[('B', 3), ('A', 2), ('C', 1)]\n",
      "The response is: {'A': 2, 'B': 3, 'C': 1}\n"
     ]
    }
   ],
   "source": [
    "import collections\n",
    "\n",
    "a = [\"A\",\"B\",\"C\",\"A\",\"B\", \"B\"]\n",
    "counter=collections.Counter(a)\n",
    "\n",
    "print(counter)\n",
    "# Counter({1: 4, 2: 4, 3: 2, 5: 2, 4: 1})\n",
    "\n",
    "print(counter.values())\n",
    "# [4, 4, 2, 1, 2]\n",
    "\n",
    "print(counter.keys())\n",
    "# [1, 2, 3, 4, 5]\n",
    "\n",
    "print(counter.most_common(3))\n",
    "# [(1, 4), (2, 4), (3, 2)]\n",
    "\n",
    "print(\"The response is:\", dict(counter))\n",
    "# {1: 4, 2: 4, 3: 2, 5: 2, 4: 1}"
   ]
  },
  {
   "cell_type": "markdown",
   "metadata": {
    "id": "eMprKbCFw4I5"
   },
   "source": [
    "# **Exercice 13**\n",
    "\n",
    "- Create the file **words1.txt**\n",
    "- Write a Python program to read an entire text file\n",
    "- Write a Python program to read first n lines of a file\n",
    "- Write a Python program to append text to a file and display the text\n",
    "- Write a Python program to read a file line by line and store it into a list\n",
    "- Write a python program to find the longest words.\n",
    "- Write a Python program to count the frequency of words in a file.\n",
    "- Write a Python program that creates a file where all letters of English alphabet are listed by n number of letters on each line. The example below is the expected result for n=3\n",
    "\n",
    "```\n",
    "words1.txt\n",
    "ABC\n",
    "DEF\n",
    "GHI\n",
    "JKL\n",
    "MNO\n",
    "PQR\n",
    "STU\n",
    "VWX\n",
    "YZ\n",
    "```\n"
   ]
  },
  {
   "cell_type": "code",
   "execution_count": 54,
   "metadata": {
    "id": "Jiv1agFLUKb9"
   },
   "outputs": [
    {
     "name": "stdout",
     "output_type": "stream",
     "text": [
      "My name is Lilia Good Bye Good Bye\n",
      "ABCDEFGHIJK Good Bye\n",
      "[]\n",
      "Python Exercises\n",
      "Java Exercises\n",
      "['Python Exercises\\n', 'Java Exercises']\n",
      "Number of words in the file : Counter({'Exercises': 2, 'Python': 1, 'Java': 1, 'Good': 1, 'Bye': 1})\n"
     ]
    }
   ],
   "source": [
    "# Create the file words1.txt\n",
    "open('words1.txt')\n",
    "# Write a Python program to read an entire text file\n",
    "f = open('words1.txt', \"r\")\n",
    "print(f.read())\n",
    "# Write a Python program to read first n lines of a file\n",
    "from itertools import islice\n",
    "N=0\n",
    "with open('words1.txt') as myfile:\n",
    "    head = list(islice(myfile, N))\n",
    "print(head)\n",
    "\n",
    "\n",
    "# Write a Python program to append text to a file and display the text \n",
    "with open('words1.txt', \"w\") as myfile:\n",
    "    myfile.write(\"Python Exercises\\n\")\n",
    "    myfile.write(\"Java Exercises\")\n",
    "txt = open('words1.txt')\n",
    "print(txt.read())\n",
    "\n",
    "\n",
    "# Write a Python program to read a file line by line and store it into a list\n",
    "with open(\"words1.txt\") as f:\n",
    "    content_list = f.readlines()\n",
    "print(content_list)\n",
    "\n",
    "# Write a python program to find the longest words.\n",
    "file_object = open('words1.txt', 'a')\n",
    "# Append 'hello' at the end of file\n",
    "file_object.write(' Good Bye')\n",
    "# Close the file\n",
    "file_object.close()\n",
    "file_object\n",
    "# Write a Python program to count the frequency of words in a file.\n",
    "from collections import Counter\n",
    "def word_count(fname):\n",
    "        with open(fname) as f:\n",
    "                return Counter(f.read().split())\n",
    "            \n",
    "print(\"Number of words in the file :\",word_count(\"words1.txt\"))\n",
    "# Write a Python program that creates a file where all letters of English alphabet are listed by n number of letters on each line. The example below is the expected result for n=3"
   ]
  },
  {
   "cell_type": "markdown",
   "metadata": {
    "id": "_x-4c-vDZ5cZ"
   },
   "source": [
    "# **Exercice 14**\n",
    "\n",
    "Add a list of elements to a given set.\n",
    "\n",
    "- Explain why add function is not a good choice. "
   ]
  },
  {
   "cell_type": "markdown",
   "metadata": {
    "id": "TLMBu_94bEte"
   },
   "source": [
    "# **Exercice 15**\n",
    "\n",
    "Write a Python program to calculate the time runs (difference between start and current time) of a program. (consider using the ``` time ``` library ).\n"
   ]
  },
  {
   "cell_type": "markdown",
   "metadata": {
    "id": "pxrJIUvjbUFP"
   },
   "source": [
    "# **Exercice 16**\n",
    "\n",
    "write a program that shuffle and print a given list (hint : use the library ``` random ``` )"
   ]
  },
  {
   "cell_type": "code",
   "execution_count": 1,
   "metadata": {},
   "outputs": [
    {
     "name": "stdout",
     "output_type": "stream",
     "text": [
      "['banana', 'apple', 'cherry']\n"
     ]
    }
   ],
   "source": [
    "import random\n",
    "\n",
    "mylist = [\"apple\", \"banana\", \"cherry\"]\n",
    "random.shuffle(mylist)\n",
    "\n",
    "print(mylist)"
   ]
  },
  {
   "cell_type": "markdown",
   "metadata": {
    "id": "SSuwDUFnTH9Q"
   },
   "source": [
    "# **Exercice 17**\n",
    "Write the definition of a Point class. Objects from this class should have a\n",
    "\n",
    "- a method show to display the coordinates of the point\n",
    "- a method move to change these coordinates.\n",
    "- a method dist that computes the distance between 2 points.\n",
    "Note the distance between 2 points A(x0, y0) and B(x1, y1) can be compute as follows\n",
    "$d(A,B)=\\sqrt{(x_{1}-x_{0})^{2} + (y_{1}-y_{0})^{2} }$\n",
    "\n",
    "this is the expected result\n",
    "\n",
    "```\n",
    "p1 = Point(2, 3)\n",
    ">>> p2 = Point(3, 3)\n",
    ">>> p1.show()\n",
    "(2, 3)\n",
    ">>> p2.show()\n",
    "(3, 3)\n",
    ">>> p1.move(10, -10)\n",
    ">>> p1.show()\n",
    "(12, -7)\n",
    ">>> p2.show()\n",
    "(3, 3)\n",
    ">>> p1.dist(p2)\n",
    "1.0\n",
    "```\n",
    "\n"
   ]
  },
  {
   "cell_type": "markdown",
   "metadata": {
    "id": "1LXUHDhPxGi8"
   },
   "source": [
    "# **Exercice 18**\n",
    "\n",
    "A fun game.. working on it\n",
    "\n",
    "In a fighting game, there will be a combat between 2 players or more\n",
    "\n",
    "In this exersice, we will simulate a simple fighting game, using OOP.\n",
    "\n",
    "*   Strat by creating a class **Player**\n",
    "*   A method **show** to display informations about the player\n",
    "*   A method **attack** using *random* \n",
    "\n",
    "\n",
    "\n"
   ]
  },
  {
   "cell_type": "markdown",
   "metadata": {
    "id": "5fh9b3AbXFc6"
   },
   "source": [
    "![gifstart4.gif](data:image/gif;base64,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)"
   ]
  },
  {
   "cell_type": "code",
   "execution_count": null,
   "metadata": {},
   "outputs": [],
   "source": []
  }
 ],
 "metadata": {
  "colab": {
   "collapsed_sections": [
    "aRmeuL6YWoU3",
    "MukkavLLWzrd",
    "hrCISsCKW4Sw",
    "sJr5a2B1XEjF",
    "h41BUOcLXTzT",
    "9wfilEXqXjJv",
    "r6oQjFUrXpnf",
    "t_soF5tMXwRz",
    "Gytg6jEUX8r8",
    "M35sWj2oYDeB",
    "eT_QrfgGYORM",
    "_x-4c-vDZ5cZ",
    "TLMBu_94bEte",
    "pxrJIUvjbUFP"
   ],
   "name": "Python_Exercices_Basics_ (1).ipynb",
   "provenance": []
  },
  "kernelspec": {
   "display_name": "Python 3 (ipykernel)",
   "language": "python",
   "name": "python3"
  },
  "language_info": {
   "codemirror_mode": {
    "name": "ipython",
    "version": 3
   },
   "file_extension": ".py",
   "mimetype": "text/x-python",
   "name": "python",
   "nbconvert_exporter": "python",
   "pygments_lexer": "ipython3",
   "version": "3.9.7"
  }
 },
 "nbformat": 4,
 "nbformat_minor": 1
}
