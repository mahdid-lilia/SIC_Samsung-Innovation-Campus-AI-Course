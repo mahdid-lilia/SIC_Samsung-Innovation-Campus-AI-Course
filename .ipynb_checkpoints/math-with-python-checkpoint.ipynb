{
 "cells": [
  {
   "cell_type": "code",
   "execution_count": 1,
   "metadata": {
    "execution": {
     "iopub.execute_input": "2022-07-17T18:01:22.732877Z",
     "iopub.status.busy": "2022-07-17T18:01:22.732390Z",
     "iopub.status.idle": "2022-07-17T18:01:22.764677Z",
     "shell.execute_reply": "2022-07-17T18:01:22.763685Z",
     "shell.execute_reply.started": "2022-07-17T18:01:22.732776Z"
    }
   },
   "outputs": [],
   "source": [
    "import numpy as np"
   ]
  },
  {
   "cell_type": "markdown",
   "metadata": {},
   "source": [
    "# vector"
   ]
  },
  {
   "cell_type": "code",
   "execution_count": 2,
   "metadata": {
    "execution": {
     "iopub.execute_input": "2022-07-17T18:01:22.767267Z",
     "iopub.status.busy": "2022-07-17T18:01:22.766565Z",
     "iopub.status.idle": "2022-07-17T18:01:22.773874Z",
     "shell.execute_reply": "2022-07-17T18:01:22.772490Z",
     "shell.execute_reply.started": "2022-07-17T18:01:22.767230Z"
    }
   },
   "outputs": [
    {
     "name": "stdout",
     "output_type": "stream",
     "text": [
      "[1. 2. 3.]\n",
      "(3,)\n"
     ]
    }
   ],
   "source": [
    "a  = np.array( [1.0, 2.0, 3.0])\n",
    "print(a)\n",
    "print(a.shape)"
   ]
  },
  {
   "cell_type": "markdown",
   "metadata": {},
   "source": [
    "# vector norm"
   ]
  },
  {
   "cell_type": "code",
   "execution_count": 3,
   "metadata": {
    "execution": {
     "iopub.execute_input": "2022-07-17T18:01:22.777013Z",
     "iopub.status.busy": "2022-07-17T18:01:22.775746Z",
     "iopub.status.idle": "2022-07-17T18:01:22.790737Z",
     "shell.execute_reply": "2022-07-17T18:01:22.789854Z",
     "shell.execute_reply.started": "2022-07-17T18:01:22.776941Z"
    }
   },
   "outputs": [
    {
     "name": "stdout",
     "output_type": "stream",
     "text": [
      "[ 1  2 -3 -4]\n",
      "10.0\n"
     ]
    }
   ],
   "source": [
    "from numpy.linalg import norm\n",
    "# define vector\n",
    "a = np.array([1, 2, -3,-4])\n",
    "print(a)\n",
    "# calculate norm\n",
    "l1 = norm(a, 1)\n",
    "print(l1)"
   ]
  },
  {
   "cell_type": "code",
   "execution_count": 4,
   "metadata": {
    "execution": {
     "iopub.execute_input": "2022-07-17T18:01:22.794439Z",
     "iopub.status.busy": "2022-07-17T18:01:22.792988Z",
     "iopub.status.idle": "2022-07-17T18:01:22.805283Z",
     "shell.execute_reply": "2022-07-17T18:01:22.803493Z",
     "shell.execute_reply.started": "2022-07-17T18:01:22.794348Z"
    }
   },
   "outputs": [
    {
     "name": "stdout",
     "output_type": "stream",
     "text": [
      "5.477225575051661\n"
     ]
    }
   ],
   "source": [
    "l2 = norm(a, 2)\n",
    "print(l2)"
   ]
  },
  {
   "cell_type": "code",
   "execution_count": 5,
   "metadata": {
    "execution": {
     "iopub.execute_input": "2022-07-17T18:01:22.807881Z",
     "iopub.status.busy": "2022-07-17T18:01:22.807206Z",
     "iopub.status.idle": "2022-07-17T18:01:22.819019Z",
     "shell.execute_reply": "2022-07-17T18:01:22.818004Z",
     "shell.execute_reply.started": "2022-07-17T18:01:22.807841Z"
    }
   },
   "outputs": [
    {
     "name": "stdout",
     "output_type": "stream",
     "text": [
      "[1 2 3]\n",
      "[1 2 3]\n",
      "14\n"
     ]
    }
   ],
   "source": [
    "a = np.array([1, 2, 3])\n",
    "print(a)\n",
    "# define second vector\n",
    "b = np.array([1, 2, 3])\n",
    "print(b)\n",
    "# multiply vectors\n",
    "c = a.dot(b)\n",
    "print(c)"
   ]
  },
  {
   "cell_type": "markdown",
   "metadata": {},
   "source": [
    "# matrix"
   ]
  },
  {
   "cell_type": "code",
   "execution_count": 6,
   "metadata": {
    "execution": {
     "iopub.execute_input": "2022-07-17T18:01:22.821295Z",
     "iopub.status.busy": "2022-07-17T18:01:22.820361Z",
     "iopub.status.idle": "2022-07-17T18:01:22.833669Z",
     "shell.execute_reply": "2022-07-17T18:01:22.832009Z",
     "shell.execute_reply.started": "2022-07-17T18:01:22.821258Z"
    }
   },
   "outputs": [
    {
     "name": "stdout",
     "output_type": "stream",
     "text": [
      "[[1 2 3]\n",
      " [4 5 6]]\n"
     ]
    }
   ],
   "source": [
    "A = np.array([[1, 2, 3], \n",
    "              [4, 5, 6]])\n",
    "print(A)\n"
   ]
  },
  {
   "cell_type": "code",
   "execution_count": 7,
   "metadata": {
    "execution": {
     "iopub.execute_input": "2022-07-17T18:01:22.836142Z",
     "iopub.status.busy": "2022-07-17T18:01:22.835468Z",
     "iopub.status.idle": "2022-07-17T18:01:22.849674Z",
     "shell.execute_reply": "2022-07-17T18:01:22.848650Z",
     "shell.execute_reply.started": "2022-07-17T18:01:22.836096Z"
    }
   },
   "outputs": [
    {
     "name": "stdout",
     "output_type": "stream",
     "text": [
      "[[1 2 3]\n",
      " [4 5 6]]\n",
      "[[1 2 3]\n",
      " [4 5 6]]\n",
      "[[ 2  4  6]\n",
      " [ 8 10 12]]\n"
     ]
    }
   ],
   "source": [
    "A = np.array([\n",
    "[1, 2, 3],\n",
    "[4, 5, 6]])\n",
    "print(A)\n",
    "# define second matrix\n",
    "B = np.array([\n",
    "[1, 2, 3],\n",
    "[4, 5, 6]])\n",
    "print(B)\n",
    "# add matrices\n",
    "C = A + B\n",
    "print(C)"
   ]
  },
  {
   "cell_type": "markdown",
   "metadata": {},
   "source": [
    "# element wise"
   ]
  },
  {
   "cell_type": "code",
   "execution_count": 8,
   "metadata": {
    "execution": {
     "iopub.execute_input": "2022-07-17T18:01:22.852018Z",
     "iopub.status.busy": "2022-07-17T18:01:22.851362Z",
     "iopub.status.idle": "2022-07-17T18:01:22.865389Z",
     "shell.execute_reply": "2022-07-17T18:01:22.863963Z",
     "shell.execute_reply.started": "2022-07-17T18:01:22.851974Z"
    }
   },
   "outputs": [
    {
     "data": {
      "text/plain": [
       "array([[ 1,  4,  9],\n",
       "       [16, 25, 36]])"
      ]
     },
     "execution_count": 8,
     "metadata": {},
     "output_type": "execute_result"
    }
   ],
   "source": [
    "A * B"
   ]
  },
  {
   "cell_type": "code",
   "execution_count": 9,
   "metadata": {
    "execution": {
     "iopub.execute_input": "2022-07-17T18:01:22.868152Z",
     "iopub.status.busy": "2022-07-17T18:01:22.867280Z",
     "iopub.status.idle": "2022-07-17T18:01:22.878242Z",
     "shell.execute_reply": "2022-07-17T18:01:22.876724Z",
     "shell.execute_reply.started": "2022-07-17T18:01:22.868116Z"
    }
   },
   "outputs": [
    {
     "name": "stdout",
     "output_type": "stream",
     "text": [
      "[[1 2]\n",
      " [3 4]\n",
      " [5 6]]\n",
      "[[1 2]\n",
      " [3 4]]\n",
      "[[ 7 10]\n",
      " [15 22]\n",
      " [23 34]]\n",
      "[[ 7 10]\n",
      " [15 22]\n",
      " [23 34]]\n"
     ]
    }
   ],
   "source": [
    "A = np.array([\n",
    "[1, 2],\n",
    "[3, 4],\n",
    "[5, 6]])\n",
    "print(A)\n",
    "# define second matrix\n",
    "B = np.array([\n",
    "[1, 2],\n",
    "[3, 4]])\n",
    "print(B)\n",
    "# multiply matrices\n",
    "C = A.dot(B)\n",
    "print(C)\n",
    "# multiply matrices with @ operator\n",
    "D = A @ B\n",
    "print(D)"
   ]
  },
  {
   "cell_type": "markdown",
   "metadata": {},
   "source": [
    "# Matrix-Vector Multiplication"
   ]
  },
  {
   "cell_type": "code",
   "execution_count": 10,
   "metadata": {
    "execution": {
     "iopub.execute_input": "2022-07-17T18:01:22.881614Z",
     "iopub.status.busy": "2022-07-17T18:01:22.880928Z",
     "iopub.status.idle": "2022-07-17T18:01:22.890130Z",
     "shell.execute_reply": "2022-07-17T18:01:22.888997Z",
     "shell.execute_reply.started": "2022-07-17T18:01:22.881575Z"
    }
   },
   "outputs": [
    {
     "name": "stdout",
     "output_type": "stream",
     "text": [
      "[[1 2]\n",
      " [3 4]\n",
      " [5 6]]\n",
      "[0.5 0.5]\n",
      "[1.5 3.5 5.5]\n"
     ]
    }
   ],
   "source": [
    "A = np.array([\n",
    "[1, 2],\n",
    "[3, 4],\n",
    "[5, 6]])\n",
    "print(A)\n",
    "# define vector\n",
    "B = np.array([0.5, 0.5])\n",
    "print(B)\n",
    "# multiply\n",
    "C = A.dot(B)\n",
    "print(C)\n"
   ]
  },
  {
   "cell_type": "code",
   "execution_count": 11,
   "metadata": {
    "execution": {
     "iopub.execute_input": "2022-07-17T18:01:22.893363Z",
     "iopub.status.busy": "2022-07-17T18:01:22.891952Z",
     "iopub.status.idle": "2022-07-17T18:01:22.905288Z",
     "shell.execute_reply": "2022-07-17T18:01:22.904045Z",
     "shell.execute_reply.started": "2022-07-17T18:01:22.893319Z"
    }
   },
   "outputs": [
    {
     "name": "stdout",
     "output_type": "stream",
     "text": [
      "[[1 2]\n",
      " [3 4]\n",
      " [5 6]]\n",
      "[[1 3 5]\n",
      " [2 4 6]]\n"
     ]
    }
   ],
   "source": [
    "from numpy import array\n",
    "# define matrix\n",
    "A = np.array([\n",
    "[1, 2],\n",
    "[3, 4],\n",
    "[5, 6]])\n",
    "print(A)\n",
    "# calculate transpose\n",
    "C = A.T\n",
    "print(C)"
   ]
  },
  {
   "cell_type": "code",
   "execution_count": 12,
   "metadata": {
    "execution": {
     "iopub.execute_input": "2022-07-17T18:02:23.437363Z",
     "iopub.status.busy": "2022-07-17T18:02:23.436888Z",
     "iopub.status.idle": "2022-07-17T18:02:23.448255Z",
     "shell.execute_reply": "2022-07-17T18:02:23.446864Z",
     "shell.execute_reply.started": "2022-07-17T18:02:23.437331Z"
    }
   },
   "outputs": [
    {
     "name": "stdout",
     "output_type": "stream",
     "text": [
      "[[1. 2.]\n",
      " [3. 4.]]\n",
      "[[-2.   1. ]\n",
      " [ 1.5 -0.5]]\n",
      "[[1.00000000e+00 1.11022302e-16]\n",
      " [0.00000000e+00 1.00000000e+00]]\n",
      "-2.0000000000000004\n"
     ]
    }
   ],
   "source": [
    "from numpy.linalg import inv\n",
    "from numpy.linalg import det\n",
    "\n",
    "A = np.array([\n",
    "[1.0, 2.0],\n",
    "[3.0, 4.0]])\n",
    "print(A)\n",
    "# invert matrix\n",
    "B = inv(A)\n",
    "print(B)\n",
    "# multiply A and B\n",
    "I = A.dot(B)\n",
    "print(I)\n",
    "#printing det\n",
    "print(det(A))"
   ]
  },
  {
   "cell_type": "code",
   "execution_count": 13,
   "metadata": {
    "execution": {
     "iopub.execute_input": "2022-07-17T18:01:22.924671Z",
     "iopub.status.busy": "2022-07-17T18:01:22.924099Z",
     "iopub.status.idle": "2022-07-17T18:01:22.933927Z",
     "shell.execute_reply": "2022-07-17T18:01:22.933086Z",
     "shell.execute_reply.started": "2022-07-17T18:01:22.924639Z"
    }
   },
   "outputs": [
    {
     "name": "stdout",
     "output_type": "stream",
     "text": [
      "[[1 2 3]\n",
      " [4 5 6]\n",
      " [7 8 9]]\n",
      "15\n"
     ]
    }
   ],
   "source": [
    "from numpy import trace\n",
    "# define matrix\n",
    "A = np.array([\n",
    "[1, 2, 3],\n",
    "[4, 5, 6],\n",
    "[7, 8, 9]])\n",
    "print(A)\n",
    "# calculate trace\n",
    "B = trace(A)\n",
    "print(B)\n"
   ]
  },
  {
   "cell_type": "markdown",
   "metadata": {},
   "source": [
    "# Differential Method"
   ]
  },
  {
   "cell_type": "markdown",
   "metadata": {},
   "source": [
    "## one variable "
   ]
  },
  {
   "cell_type": "code",
   "execution_count": 14,
   "metadata": {
    "execution": {
     "iopub.execute_input": "2022-07-17T18:09:39.289898Z",
     "iopub.status.busy": "2022-07-17T18:09:39.289455Z",
     "iopub.status.idle": "2022-07-17T18:09:39.378669Z",
     "shell.execute_reply": "2022-07-17T18:09:39.377283Z",
     "shell.execute_reply.started": "2022-07-17T18:09:39.289866Z"
    }
   },
   "outputs": [],
   "source": [
    "import sympy as sp\n",
    "x = sp.Symbol('x')\n",
    "fx =  x**2020 + 3*x*x*x -1\n"
   ]
  },
  {
   "cell_type": "code",
   "execution_count": 15,
   "metadata": {
    "execution": {
     "iopub.execute_input": "2022-07-17T18:09:51.896421Z",
     "iopub.status.busy": "2022-07-17T18:09:51.896011Z",
     "iopub.status.idle": "2022-07-17T18:09:52.213881Z",
     "shell.execute_reply": "2022-07-17T18:09:52.212900Z",
     "shell.execute_reply.started": "2022-07-17T18:09:51.896390Z"
    }
   },
   "outputs": [
    {
     "data": {
      "text/latex": [
       "$\\displaystyle 2020 x^{2019} + 9 x^{2}$"
      ],
      "text/plain": [
       "2020*x**2019 + 9*x**2"
      ]
     },
     "execution_count": 15,
     "metadata": {},
     "output_type": "execute_result"
    }
   ],
   "source": [
    "sp.diff(fx,x)"
   ]
  },
  {
   "cell_type": "code",
   "execution_count": 16,
   "metadata": {
    "execution": {
     "iopub.execute_input": "2022-07-17T18:13:01.988195Z",
     "iopub.status.busy": "2022-07-17T18:13:01.986878Z",
     "iopub.status.idle": "2022-07-17T18:13:02.013221Z",
     "shell.execute_reply": "2022-07-17T18:13:02.012201Z",
     "shell.execute_reply.started": "2022-07-17T18:13:01.988134Z"
    }
   },
   "outputs": [
    {
     "data": {
      "text/latex": [
       "$\\displaystyle - \\frac{x}{\\left(x + 1\\right)^{2}} + \\frac{1}{x + 1}$"
      ],
      "text/plain": [
       "-x/(x + 1)**2 + 1/(x + 1)"
      ]
     },
     "execution_count": 16,
     "metadata": {},
     "output_type": "execute_result"
    }
   ],
   "source": [
    "x = sp.Symbol('x')\n",
    "gx = x/(x+1)\n",
    "sp.diff(gx,x)"
   ]
  },
  {
   "cell_type": "code",
   "execution_count": 17,
   "metadata": {
    "execution": {
     "iopub.execute_input": "2022-07-17T18:14:02.386478Z",
     "iopub.status.busy": "2022-07-17T18:14:02.385251Z",
     "iopub.status.idle": "2022-07-17T18:14:02.430924Z",
     "shell.execute_reply": "2022-07-17T18:14:02.429862Z",
     "shell.execute_reply.started": "2022-07-17T18:14:02.386423Z"
    }
   },
   "outputs": [
    {
     "data": {
      "text/latex": [
       "$\\displaystyle \\frac{1}{\\left(x + 1\\right)^{2}}$"
      ],
      "text/plain": [
       "(x + 1)**(-2)"
      ]
     },
     "execution_count": 17,
     "metadata": {},
     "output_type": "execute_result"
    }
   ],
   "source": [
    "sp.simplify(sp.diff(gx,x))"
   ]
  },
  {
   "cell_type": "code",
   "execution_count": 18,
   "metadata": {
    "execution": {
     "iopub.execute_input": "2022-07-17T18:16:06.547387Z",
     "iopub.status.busy": "2022-07-17T18:16:06.546897Z",
     "iopub.status.idle": "2022-07-17T18:16:06.571218Z",
     "shell.execute_reply": "2022-07-17T18:16:06.570009Z",
     "shell.execute_reply.started": "2022-07-17T18:16:06.547350Z"
    }
   },
   "outputs": [
    {
     "data": {
      "text/latex": [
       "$\\displaystyle \\frac{e^{x}}{x} - \\frac{e^{x}}{x^{2}}$"
      ],
      "text/plain": [
       "exp(x)/x - exp(x)/x**2"
      ]
     },
     "execution_count": 18,
     "metadata": {},
     "output_type": "execute_result"
    }
   ],
   "source": [
    "x= sp.simplify('x')\n",
    "fx = sp.exp(x)/x\n",
    "sp.diff(fx,x)"
   ]
  },
  {
   "cell_type": "code",
   "execution_count": 19,
   "metadata": {
    "execution": {
     "iopub.execute_input": "2022-07-17T18:16:34.210156Z",
     "iopub.status.busy": "2022-07-17T18:16:34.209700Z",
     "iopub.status.idle": "2022-07-17T18:16:34.293637Z",
     "shell.execute_reply": "2022-07-17T18:16:34.292386Z",
     "shell.execute_reply.started": "2022-07-17T18:16:34.210122Z"
    }
   },
   "outputs": [
    {
     "data": {
      "text/latex": [
       "$\\displaystyle \\frac{\\left(x - 1\\right) e^{x}}{x^{2}}$"
      ],
      "text/plain": [
       "(x - 1)*exp(x)/x**2"
      ]
     },
     "execution_count": 19,
     "metadata": {},
     "output_type": "execute_result"
    }
   ],
   "source": [
    "sp.simplify(sp.diff(fx,x))"
   ]
  },
  {
   "cell_type": "code",
   "execution_count": 20,
   "metadata": {
    "execution": {
     "iopub.execute_input": "2022-07-17T18:19:45.794213Z",
     "iopub.status.busy": "2022-07-17T18:19:45.793783Z",
     "iopub.status.idle": "2022-07-17T18:19:45.874302Z",
     "shell.execute_reply": "2022-07-17T18:19:45.873449Z",
     "shell.execute_reply.started": "2022-07-17T18:19:45.794179Z"
    }
   },
   "outputs": [
    {
     "data": {
      "text/latex": [
       "$\\displaystyle - \\log{\\left(x \\right)} - 1 + \\frac{3}{x \\log{\\left(2 \\right)}}$"
      ],
      "text/plain": [
       "-log(x) - 1 + 3/(x*log(2))"
      ]
     },
     "execution_count": 20,
     "metadata": {},
     "output_type": "execute_result"
    }
   ],
   "source": [
    "x = sp.Symbol('x')\n",
    "gx = 3 *  sp.log(x,2) - x * sp.log(x)\n",
    "sp.simplify(sp.diff(gx,x))"
   ]
  },
  {
   "cell_type": "code",
   "execution_count": 21,
   "metadata": {
    "execution": {
     "iopub.execute_input": "2022-07-17T18:21:47.013042Z",
     "iopub.status.busy": "2022-07-17T18:21:47.012606Z",
     "iopub.status.idle": "2022-07-17T18:21:47.035646Z",
     "shell.execute_reply": "2022-07-17T18:21:47.033945Z",
     "shell.execute_reply.started": "2022-07-17T18:21:47.012986Z"
    }
   },
   "outputs": [
    {
     "data": {
      "text/latex": [
       "$\\displaystyle 6 x \\left(x^{2} + 2\\right)^{2}$"
      ],
      "text/plain": [
       "6*x*(x**2 + 2)**2"
      ]
     },
     "execution_count": 21,
     "metadata": {},
     "output_type": "execute_result"
    }
   ],
   "source": [
    "x = sp.Symbol('x')\n",
    "fx = (x**2+2)**3\n",
    "sp.diff(fx,x)"
   ]
  },
  {
   "cell_type": "markdown",
   "metadata": {},
   "source": [
    "## two variables"
   ]
  },
  {
   "cell_type": "code",
   "execution_count": 22,
   "metadata": {
    "execution": {
     "iopub.execute_input": "2022-07-17T18:26:09.331299Z",
     "iopub.status.busy": "2022-07-17T18:26:09.330684Z",
     "iopub.status.idle": "2022-07-17T18:26:09.345870Z",
     "shell.execute_reply": "2022-07-17T18:26:09.344963Z",
     "shell.execute_reply.started": "2022-07-17T18:26:09.331262Z"
    }
   },
   "outputs": [
    {
     "data": {
      "text/latex": [
       "$\\displaystyle x^{2020} + 3 y^{2} - 6 z^{2}$"
      ],
      "text/plain": [
       "x**2020 + 3*y**2 - 6*z**2"
      ]
     },
     "execution_count": 22,
     "metadata": {},
     "output_type": "execute_result"
    }
   ],
   "source": [
    "x, y, z = sp.symbols('x y z')\n",
    "fx =  x**2020 + 3*y*y -6*z*z  \n",
    "fx"
   ]
  },
  {
   "cell_type": "code",
   "execution_count": 23,
   "metadata": {
    "execution": {
     "iopub.execute_input": "2022-07-17T18:26:31.310146Z",
     "iopub.status.busy": "2022-07-17T18:26:31.309737Z",
     "iopub.status.idle": "2022-07-17T18:26:31.319081Z",
     "shell.execute_reply": "2022-07-17T18:26:31.317973Z",
     "shell.execute_reply.started": "2022-07-17T18:26:31.310116Z"
    }
   },
   "outputs": [
    {
     "data": {
      "text/latex": [
       "$\\displaystyle 2020 x^{2019}$"
      ],
      "text/plain": [
       "2020*x**2019"
      ]
     },
     "execution_count": 23,
     "metadata": {},
     "output_type": "execute_result"
    }
   ],
   "source": [
    "# par rapport à x\n",
    "sp.diff(fx,x)"
   ]
  },
  {
   "cell_type": "code",
   "execution_count": 24,
   "metadata": {
    "execution": {
     "iopub.execute_input": "2022-07-17T18:26:42.044589Z",
     "iopub.status.busy": "2022-07-17T18:26:42.044198Z",
     "iopub.status.idle": "2022-07-17T18:26:42.060465Z",
     "shell.execute_reply": "2022-07-17T18:26:42.059201Z",
     "shell.execute_reply.started": "2022-07-17T18:26:42.044559Z"
    }
   },
   "outputs": [
    {
     "data": {
      "text/latex": [
       "$\\displaystyle 6 y$"
      ],
      "text/plain": [
       "6*y"
      ]
     },
     "execution_count": 24,
     "metadata": {},
     "output_type": "execute_result"
    }
   ],
   "source": [
    "# par rapport à y\n",
    "sp.diff(fx,y)"
   ]
  },
  {
   "cell_type": "code",
   "execution_count": 25,
   "metadata": {
    "execution": {
     "iopub.execute_input": "2022-07-17T18:26:51.034662Z",
     "iopub.status.busy": "2022-07-17T18:26:51.034215Z",
     "iopub.status.idle": "2022-07-17T18:26:51.052405Z",
     "shell.execute_reply": "2022-07-17T18:26:51.051199Z",
     "shell.execute_reply.started": "2022-07-17T18:26:51.034623Z"
    }
   },
   "outputs": [
    {
     "data": {
      "text/latex": [
       "$\\displaystyle - 12 z$"
      ],
      "text/plain": [
       "-12*z"
      ]
     },
     "execution_count": 25,
     "metadata": {},
     "output_type": "execute_result"
    }
   ],
   "source": [
    "# par rapport à z\n",
    "sp.diff(fx,z)"
   ]
  },
  {
   "cell_type": "code",
   "execution_count": null,
   "metadata": {},
   "outputs": [],
   "source": []
  }
 ],
 "metadata": {
  "kernelspec": {
   "display_name": "Python 3 (ipykernel)",
   "language": "python",
   "name": "python3"
  },
  "language_info": {
   "codemirror_mode": {
    "name": "ipython",
    "version": 3
   },
   "file_extension": ".py",
   "mimetype": "text/x-python",
   "name": "python",
   "nbconvert_exporter": "python",
   "pygments_lexer": "ipython3",
   "version": "3.9.7"
  }
 },
 "nbformat": 4,
 "nbformat_minor": 4
}
